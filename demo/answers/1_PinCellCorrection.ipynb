{
 "cells": [
  {
   "cell_type": "markdown",
   "id": "e9f0ebb2-0194-420f-8e26-6d9bbeebcd89",
   "metadata": {
    "editable": true,
    "slideshow": {
     "slide_type": "slide"
    },
    "tags": []
   },
   "source": [
    "# Fixing a Pin Cell problem\n",
    "\n",
    "## Scenario\n",
    "* Given a model `models/pin_cell.imcnp` from dubious origins\n",
    "    * Meant to represent a W17$\\times$17 pin cell\n",
    "* However, has a few Problems that need to be fixed first\n"
   ]
  },
  {
   "cell_type": "markdown",
   "id": "9ea79383-0432-4e9a-b69a-00da33fb7380",
   "metadata": {
    "editable": true,
    "slideshow": {
     "slide_type": "slide"
    },
    "tags": []
   },
   "source": [
    "## First, let's just print out the file."
   ]
  },
  {
   "cell_type": "code",
   "execution_count": 6,
   "id": "cda6f12e-0257-4c6b-b96d-0db564389e48",
   "metadata": {
    "editable": true,
    "slideshow": {
     "slide_type": "fragment"
    },
    "tags": []
   },
   "outputs": [
    {
     "name": "stdout",
     "output_type": "stream",
     "text": [
      "Made up PWR pin Cell Problem\n",
      "C dimensions, densities, and material compositions are based on the BEAVRS benchmark\n",
      "C They have been rounded, and further simplified\n",
      "C\n",
      "C N. Horelik, B. Herman, B. Forget, and K. Smith. Benchmark for Evaluation and Validation of\n",
      "C    Reactor Simulations (BEAVRS), v1.0.1. Proc. Int. Conf. Mathematics and Computational Methods\n",
      "C    Applied to Nuc. Sci. & Eng., 2013. Sun Valley, Idaho\n",
      "c\n",
      "c uranium rod\n",
      "1    1  -10.36   -1     101 -102 imp:n=1 \n",
      "c gas gap\n",
      "2    0            1  -2 101 -102 imp:n=1 \n",
      "c cladding\n",
      "3    10 -6.55     2  -3 101 -102 imp:n=1 \n",
      "c water cell\n",
      "5    2  -1.000    3     101 -102\n",
      "                        103 -104\n",
      "                        105 -106 imp:n=1 \n",
      "\n",
      "1 CZ 0.39\n",
      "2 CZ 0.40\n",
      "3 CZ 0.46\n",
      "101 PZ -0.63\n",
      "102 PZ  0.63\n",
      "103 PX -0.63\n",
      "104 PX  0.63\n",
      "105 PY -0.63\n",
      "106 PY  0.63\n",
      "\n",
      "c UO2 fuel 3.4% enriched\n",
      "M1    92235.82c 0.011332\n",
      "      92238.82c 0.321678\n",
      "       8016.82c 0.66667\n",
      "mt1   o2/u.20t  u/o2.30t\n",
      "C water\n",
      "M2     1001.81c 0.66\n",
      "       8016.81c 0.33\n",
      "mt2    lwtr.20t\n",
      "C Zircaloy-4\n",
      "M10   40000.66c  -0.98\n",
      "      50000.42c  -0.015\n",
      "      26000.55c  -0.002\n",
      "      24000.50c  -0.001\n",
      "mode n"
     ]
    },
    {
     "name": "stderr",
     "output_type": "stream",
     "text": [
      "/home/mgale/miniforge3/envs/montepy_demo/lib/python3.12/pty.py:95: DeprecationWarning: This process (pid=4281) is multi-threaded, use of forkpty() may lead to deadlocks in the child.\n",
      "  pid, fd = os.forkpty()\n"
     ]
    }
   ],
   "source": [
    "!cat models/pin_cell.imcnp"
   ]
  },
  {
   "cell_type": "markdown",
   "id": "48db76c2-49fb-459c-9b86-5684a6b78d92",
   "metadata": {
    "editable": true,
    "slideshow": {
     "slide_type": "slide"
    },
    "tags": []
   },
   "source": [
    "# Plot\n",
    "\n",
    "---\n",
    "**NOTE**\n",
    "\n",
    "You will need MCNP to plot geometries. MCNP is distributed through The [Radiation Safety Information Computational Center (RSICC)](https://rsicc.ornl.gov/) at Oak Ridge National Laboratory and cannot be provided in this workshop. The depicted plots are for information only.\n",
    "\n",
    "---\n",
    "\n",
    "![pin cell plot](figs/pin_cell.png)"
   ]
  },
  {
   "cell_type": "markdown",
   "id": "597d0f08-9ae2-4df3-ae8b-da685ceeccd4",
   "metadata": {
    "editable": true,
    "slideshow": {
     "slide_type": "slide"
    },
    "tags": []
   },
   "source": [
    "# Improvement: Goals\n",
    "* Add helium to gas gap\n",
    "* Fix Zircaloy\n",
    "   * Elemental cross sections are generally the wrong tool\n",
    "   * Mixing different nuclear data libraries is a bad idea\n",
    "* Fix (lack of) reflective boundaries\n",
    "* Set this up for running Kcode"
   ]
  },
  {
   "cell_type": "markdown",
   "id": "0edac8b2-e71e-4896-9b0f-0ba31f259be4",
   "metadata": {
    "editable": true,
    "slideshow": {
     "slide_type": "slide"
    },
    "tags": []
   },
   "source": [
    "# Step 1: Import Python modules"
   ]
  },
  {
   "cell_type": "code",
   "execution_count": 7,
   "id": "72894fbd-f0b3-40ea-b301-70cbbaf2f4ba",
   "metadata": {
    "editable": true,
    "slideshow": {
     "slide_type": ""
    },
    "tags": []
   },
   "outputs": [],
   "source": [
    "# actually needed\n",
    "import montepy\n",
    "import numpy as np\n",
    "\n",
    "# for pretty Jupyter web pages Usually not needed\n",
    "from IPython.display import IFrame"
   ]
  },
  {
   "cell_type": "markdown",
   "id": "ea6fa998-9911-402d-93f1-af12f324c87f",
   "metadata": {
    "editable": true,
    "slideshow": {
     "slide_type": "slide"
    },
    "tags": []
   },
   "source": [
    "# Step 2: Open the File in MontePy\n",
    "1. Read the docs"
   ]
  },
  {
   "cell_type": "code",
   "execution_count": 8,
   "id": "dc3b41ce-ec9d-4d8c-ac2d-f471d2d84453",
   "metadata": {
    "editable": true,
    "scrolled": true,
    "slideshow": {
     "slide_type": "fragment"
    },
    "tags": []
   },
   "outputs": [
    {
     "data": {
      "text/html": [
       "\n",
       "        <iframe\n",
       "            width=\"1200\"\n",
       "            height=\"500\"\n",
       "            src=\"https://www.montepy.org/en/stable/api/montepy.input_parser.input_reader.html#montepy.input_parser.input_reader.read_input\"\n",
       "            frameborder=\"0\"\n",
       "            allowfullscreen\n",
       "            \n",
       "        ></iframe>\n",
       "        "
      ],
      "text/plain": [
       "<IPython.lib.display.IFrame at 0x7e82883d5250>"
      ]
     },
     "execution_count": 8,
     "metadata": {},
     "output_type": "execute_result"
    }
   ],
   "source": [
    "IFrame(\n",
    "    \"https://www.montepy.org/en/stable/api/montepy.input_parser.input_reader.html#montepy.input_parser.input_reader.read_input\",\n",
    "    1200,\n",
    "    500,\n",
    ")"
   ]
  },
  {
   "cell_type": "markdown",
   "id": "42433bd7-a7f4-4979-bb45-9def19e76742",
   "metadata": {
    "editable": true,
    "slideshow": {
     "slide_type": "subslide"
    },
    "tags": []
   },
   "source": [
    "2. This function does appear to be the correct one.\n",
    "     * destination is required\n",
    "     * `mcnp_version` is optional. We won't be using specific features that require changing this\n",
    "     * replace is optional. Here the default seems like a safe bet.\n",
    "### tip: this function is available at the top level: `montepy.read_input`"
   ]
  },
  {
   "cell_type": "code",
   "execution_count": 9,
   "id": "731e248c-7a2c-4843-855a-52d06586b85d",
   "metadata": {
    "editable": true,
    "slideshow": {
     "slide_type": ""
    },
    "tags": []
   },
   "outputs": [],
   "source": [
    "problem = montepy.read_input(\"models/pin_cell.imcnp\")"
   ]
  },
  {
   "cell_type": "markdown",
   "id": "b84c0c54-158b-40ee-a7c8-4b506f3f8470",
   "metadata": {
    "editable": true,
    "slideshow": {
     "slide_type": "slide"
    },
    "tags": []
   },
   "source": [
    "# Step 3: Explore the Problem\n",
    "\n",
    "## Goals\n",
    "* print the following\n",
    "   * the cells, surfaces, and materials in the problem\n",
    "   * the version of MCNP this is designed for"
   ]
  },
  {
   "cell_type": "code",
   "execution_count": 10,
   "id": "6eabb914-67b5-4326-8d5a-cc65123d62b0",
   "metadata": {
    "editable": true,
    "scrolled": true,
    "slideshow": {
     "slide_type": ""
    },
    "tags": []
   },
   "outputs": [
    {
     "data": {
      "text/html": [
       "\n",
       "        <iframe\n",
       "            width=\"800\"\n",
       "            height=\"600\"\n",
       "            src=\"https://www.montepy.org/en/stable/api/montepy.mcnp_problem.html\"\n",
       "            frameborder=\"0\"\n",
       "            allowfullscreen\n",
       "            \n",
       "        ></iframe>\n",
       "        "
      ],
      "text/plain": [
       "<IPython.lib.display.IFrame at 0x7e828822fbc0>"
      ]
     },
     "execution_count": 10,
     "metadata": {},
     "output_type": "execute_result"
    }
   ],
   "source": [
    "IFrame(\"https://www.montepy.org/en/stable/api/montepy.mcnp_problem.html\", 800, 600)"
   ]
  },
  {
   "cell_type": "markdown",
   "id": "7099eedb-269e-4ab9-9c91-9560615c9bc0",
   "metadata": {
    "editable": true,
    "slideshow": {
     "slide_type": "notes"
    },
    "tags": []
   },
   "source": [
    "# Pause for students to complete"
   ]
  },
  {
   "cell_type": "code",
   "execution_count": 11,
   "id": "c30494a7-3ee0-4187-b6bc-8a816b403e09",
   "metadata": {
    "editable": true,
    "slideshow": {
     "slide_type": "subslide"
    },
    "tags": []
   },
   "outputs": [
    {
     "name": "stdout",
     "output_type": "stream",
     "text": [
      "Cells: [1, 2, 3, 5]\n",
      "Surfaces: [1, 2, 3, 101, 102, 103, 104, 105, 106]\n",
      "Materials: [1, 2, 10]\n",
      "version (6, 3, 0)\n"
     ]
    }
   ],
   "source": [
    "print(problem.cells)\n",
    "print(problem.surfaces)\n",
    "print(problem.materials)\n",
    "print(\"version\", problem.mcnp_version)"
   ]
  },
  {
   "cell_type": "markdown",
   "id": "7989738b-bc2d-4434-b649-2919e6cc9ddd",
   "metadata": {
    "editable": true,
    "slideshow": {
     "slide_type": "slide"
    },
    "tags": []
   },
   "source": [
    "# Goal 1: Fix Boundary Conditions\n",
    "## Reminder\n",
    "* Reflective boundaries are a property of the surface; not the cell\n",
    "## Things to figure out:\n",
    "1. How to get the specific surfaces:\n",
    "   * Did you notice that planes (e.g., `PZ`) were only used as boundaries?\n",
    "2. How to set a reflective boundary"
   ]
  },
  {
   "cell_type": "markdown",
   "id": "3991426c-64ab-44d1-aefc-31f126d74f60",
   "metadata": {
    "editable": true,
    "slideshow": {
     "slide_type": "subslide"
    },
    "tags": []
   },
   "source": [
    "# Task 1.1 Is there an easy way to get a surface by type?"
   ]
  },
  {
   "cell_type": "code",
   "execution_count": 12,
   "id": "b29d11d1-2547-47f0-85bd-ec1fa2352c40",
   "metadata": {
    "editable": true,
    "scrolled": true,
    "slideshow": {
     "slide_type": ""
    },
    "tags": []
   },
   "outputs": [
    {
     "data": {
      "text/html": [
       "\n",
       "        <iframe\n",
       "            width=\"800\"\n",
       "            height=\"500\"\n",
       "            src=\"https://www.montepy.org/en/stable/api/montepy.surface_collection.html\"\n",
       "            frameborder=\"0\"\n",
       "            allowfullscreen\n",
       "            \n",
       "        ></iframe>\n",
       "        "
      ],
      "text/plain": [
       "<IPython.lib.display.IFrame at 0x7e8288250620>"
      ]
     },
     "execution_count": 12,
     "metadata": {},
     "output_type": "execute_result"
    }
   ],
   "source": [
    "IFrame(\n",
    "    \"https://www.montepy.org/en/stable/api/montepy.surface_collection.html\", 800, 500\n",
    ")"
   ]
  },
  {
   "cell_type": "markdown",
   "id": "fccdafaa-9ee8-4b60-bc2f-c4b9f51789ad",
   "metadata": {
    "editable": true,
    "jp-MarkdownHeadingCollapsed": true,
    "slideshow": {
     "slide_type": "fragment"
    },
    "tags": []
   },
   "source": [
    "## Let's explore these surface type generators.\n",
    "* Hint: generators are a specific type of iterator\n",
    "### Task: Print all surfaces of type `PZ`"
   ]
  },
  {
   "cell_type": "markdown",
   "id": "d2a7079e-13db-4581-8b11-40cd6d08c033",
   "metadata": {
    "editable": true,
    "slideshow": {
     "slide_type": "notes"
    },
    "tags": []
   },
   "source": [
    "# Pause for students to complete"
   ]
  },
  {
   "cell_type": "code",
   "execution_count": 13,
   "id": "413dcf0d-c263-44db-8bab-3eb88db26fae",
   "metadata": {
    "editable": true,
    "slideshow": {
     "slide_type": "fragment"
    },
    "tags": []
   },
   "outputs": [
    {
     "name": "stdout",
     "output_type": "stream",
     "text": [
      "SURFACE: 101, PZ, periodic surface: None, transform: None, constants: [-0.63]\n",
      "SURFACE: 102, PZ, periodic surface: None, transform: None, constants: [0.63]\n"
     ]
    }
   ],
   "source": [
    "# Task: Print every \"PZ\" type of surface\n",
    "z_surfaces = problem.surfaces.pz  # Change this line\n",
    "for surface in z_surfaces:\n",
    "    print(repr(surface))"
   ]
  },
  {
   "cell_type": "markdown",
   "id": "34c26c2a-cad5-4831-9250-6b0e8de2cf6e",
   "metadata": {
    "editable": true,
    "slideshow": {
     "slide_type": "subslide"
    },
    "tags": []
   },
   "source": [
    "# Task 1.2: Set Reflective Boundaries\n",
    "* This is a property of surfaces\n",
    "* Let's check those docs\n",
    "\n",
    "## Task set one surface to be reflective\n",
    "* Reminder: `surface` will be still set from the previous for loop, and should be a `PZ` surface"
   ]
  },
  {
   "cell_type": "code",
   "execution_count": 14,
   "id": "6fb96086-a8a3-409d-9eaf-c9ef17b1dd0a",
   "metadata": {
    "editable": true,
    "slideshow": {
     "slide_type": ""
    },
    "tags": []
   },
   "outputs": [
    {
     "data": {
      "text/html": [
       "\n",
       "        <iframe\n",
       "            width=\"800\"\n",
       "            height=\"500\"\n",
       "            src=\"https://www.montepy.org/en/stable/api/montepy.surfaces.surface.html\"\n",
       "            frameborder=\"0\"\n",
       "            allowfullscreen\n",
       "            \n",
       "        ></iframe>\n",
       "        "
      ],
      "text/plain": [
       "<IPython.lib.display.IFrame at 0x7e82895296a0>"
      ]
     },
     "execution_count": 14,
     "metadata": {},
     "output_type": "execute_result"
    }
   ],
   "source": [
    "IFrame(\"https://www.montepy.org/en/stable/api/montepy.surfaces.surface.html\", 800, 500)"
   ]
  },
  {
   "cell_type": "markdown",
   "id": "05dd0bb2-79a1-4938-b8e8-480acd6773de",
   "metadata": {
    "editable": true,
    "slideshow": {
     "slide_type": "notes"
    },
    "tags": []
   },
   "source": [
    "# Pause for students"
   ]
  },
  {
   "cell_type": "code",
   "execution_count": 15,
   "id": "c6e39c32-2aad-494a-a85b-9dda7ab7b5bf",
   "metadata": {
    "editable": true,
    "slideshow": {
     "slide_type": "fragment"
    },
    "tags": []
   },
   "outputs": [
    {
     "name": "stdout",
     "output_type": "stream",
     "text": [
      "*102 PZ  0.63\n"
     ]
    },
    {
     "name": "stderr",
     "output_type": "stream",
     "text": [
      "/home/mgale/miniforge3/envs/montepy_demo/lib/python3.12/site-packages/jupyter_client/session.py:203: DeprecationWarning: datetime.datetime.utcnow() is deprecated and scheduled for removal in a future version. Use timezone-aware objects to represent datetimes in UTC: datetime.datetime.now(datetime.UTC).\n",
      "  return datetime.utcnow().replace(tzinfo=utc)\n"
     ]
    }
   ],
   "source": [
    "surface.is_reflecting = True\n",
    "print(surface.mcnp_str())"
   ]
  },
  {
   "cell_type": "markdown",
   "id": "9a85c5d8-d70e-49d7-a8f9-05736254d331",
   "metadata": {
    "editable": true,
    "jp-MarkdownHeadingCollapsed": true,
    "slideshow": {
     "slide_type": "slide"
    },
    "tags": []
   },
   "source": [
    "# Goal 1: Conclusion: Bring it all together\n",
    "* Iterate over all `PX`, `PY`, and `PZ` surfaces\n",
    "* Set all such surfaces to `is_reflecting`\n",
    "\n",
    "* For the adventerous: check out [`itertools.chain`](https://docs.python.org/3/library/itertools.html#itertools.chain)"
   ]
  },
  {
   "cell_type": "markdown",
   "id": "643cbe23-942e-4a17-9ef3-7245018f4349",
   "metadata": {
    "editable": true,
    "slideshow": {
     "slide_type": "notes"
    },
    "tags": []
   },
   "source": [
    "# Pause"
   ]
  },
  {
   "cell_type": "code",
   "execution_count": 16,
   "id": "17f600a6-e7cb-4a8a-bab4-ce106a782896",
   "metadata": {
    "editable": true,
    "slideshow": {
     "slide_type": "subslide"
    },
    "tags": []
   },
   "outputs": [
    {
     "name": "stdout",
     "output_type": "stream",
     "text": [
      "*103 PX -0.63\n",
      "*104 PX  0.63\n",
      "*105 PY -0.63\n",
      "*106 PY  0.63\n",
      "*101 PZ -0.63\n",
      "*102 PZ  0.63\n"
     ]
    },
    {
     "name": "stderr",
     "output_type": "stream",
     "text": [
      "/home/mgale/miniforge3/envs/montepy_demo/lib/python3.12/site-packages/jupyter_client/session.py:203: DeprecationWarning: datetime.datetime.utcnow() is deprecated and scheduled for removal in a future version. Use timezone-aware objects to represent datetimes in UTC: datetime.datetime.now(datetime.UTC).\n",
      "  return datetime.utcnow().replace(tzinfo=utc)\n"
     ]
    }
   ],
   "source": [
    "# Task: Set all PX, PY, and PZ surfaces to reflecting\n",
    "import itertools\n",
    "surfs = problem.surfaces\n",
    "iter_surfaces = itertools.chain(surfs.px, surfs.py, surfs.pz)\n",
    "for surface in iter_surfaces:\n",
    "    surface.is_reflecting = True\n",
    "    print(surface.mcnp_str())"
   ]
  },
  {
   "cell_type": "markdown",
   "id": "58ffbf49-eb9e-4884-859e-8a2fe429f7ee",
   "metadata": {
    "editable": true,
    "slideshow": {
     "slide_type": "slide"
    },
    "tags": []
   },
   "source": [
    "# Goal 2: Fill the Gas Gap with Helium\n",
    "\n",
    "## Tasks\n",
    "1. Find the gas gap cell\n",
    "2. create a new helium cell\n",
    "3. assign that material to the gas gap cell\n",
    "4. Set the density of the gas gap\n"
   ]
  },
  {
   "cell_type": "markdown",
   "id": "08496b69-a53e-4a2d-8042-074c372b2c91",
   "metadata": {
    "editable": true,
    "slideshow": {
     "slide_type": "slide"
    },
    "tags": []
   },
   "source": [
    "# Task 2.1: Finding the Cell\n",
    "\n",
    "Ways to find a cell:\n",
    "\n",
    "1. Knowing its cell number A-priori\n",
    "    * Boring, and error-prone\n",
    "2. By its comments if they are helpful\n",
    "3. By its material\n",
    "    * This is the only void cell\n",
    "4. By its surfaces\n",
    "    * This should be sandwiched between the smallest, and next smallest cylinder"
   ]
  },
  {
   "cell_type": "code",
   "execution_count": 17,
   "id": "8cc321ae-cd70-4f6b-809f-65e8e03fe614",
   "metadata": {
    "editable": true,
    "slideshow": {
     "slide_type": "fragment"
    },
    "tags": []
   },
   "outputs": [],
   "source": [
    "# We'll get a cell to play with\n",
    "# this grabs the first cell\n",
    "cell = list(problem.cells)[0]"
   ]
  },
  {
   "cell_type": "markdown",
   "id": "195357d0-f1c5-4cfe-bd93-90dd4a419d39",
   "metadata": {
    "editable": true,
    "slideshow": {
     "slide_type": "subslide"
    },
    "tags": []
   },
   "source": [
    "# Explore a cell\n",
    "## Task, print all of the following for the cell\n",
    "* its number\n",
    "* its comment(s)\n",
    "* its surfaces\n",
    "* its material"
   ]
  },
  {
   "cell_type": "code",
   "execution_count": 18,
   "id": "e1ea734d-538e-42b1-b619-8f5f9f51d21a",
   "metadata": {
    "editable": true,
    "scrolled": true,
    "slideshow": {
     "slide_type": ""
    },
    "tags": []
   },
   "outputs": [
    {
     "data": {
      "text/html": [
       "\n",
       "        <iframe\n",
       "            width=\"800\"\n",
       "            height=\"600\"\n",
       "            src=\"https://www.montepy.org/en/stable/api/montepy.cell.html\"\n",
       "            frameborder=\"0\"\n",
       "            allowfullscreen\n",
       "            \n",
       "        ></iframe>\n",
       "        "
      ],
      "text/plain": [
       "<IPython.lib.display.IFrame at 0x7e8289529520>"
      ]
     },
     "execution_count": 18,
     "metadata": {},
     "output_type": "execute_result"
    }
   ],
   "source": [
    "IFrame(\"https://www.montepy.org/en/stable/api/montepy.cell.html\", 800, 600)"
   ]
  },
  {
   "cell_type": "markdown",
   "id": "c846efae-e93f-45e0-94dd-a550c9a5c892",
   "metadata": {
    "editable": true,
    "slideshow": {
     "slide_type": "notes"
    },
    "tags": []
   },
   "source": [
    "# Pause"
   ]
  },
  {
   "cell_type": "code",
   "execution_count": 19,
   "id": "992f8afb-5076-42ca-a454-412b1b135b21",
   "metadata": {
    "editable": true,
    "slideshow": {
     "slide_type": "subslide"
    },
    "tags": []
   },
   "outputs": [
    {
     "name": "stdout",
     "output_type": "stream",
     "text": [
      "number 1\n",
      "comments [COMMENT: C dimensions, densities, and material compositions are based on the BEAVRS benchmark, COMMENT: C They have been rounded, and further simplified, COMMENT: C\n",
      ", COMMENT: C N. Horelik, B. Herman, B. Forget, and K. Smith. Benchmark for Evaluation and Validation of, COMMENT: C    Reactor Simulations (BEAVRS), v1.0.1. Proc. Int. Conf. Mathematics and Computational Methods, COMMENT: C    Applied to Nuc. Sci. & Eng., 2013. Sun Valley, Idaho, COMMENT: c\n",
      ", COMMENT: c uranium rod]\n",
      "material MATERIAL: 1, ['oxygen', 'uranium']\n",
      "surfaces Surfaces: [1, 101, 102]\n"
     ]
    }
   ],
   "source": [
    "print(\"number\", cell.number)\n",
    "print(\"comments\", cell.comments)\n",
    "print(\"material\", cell.material)\n",
    "print(\"surfaces\", cell.surfaces)"
   ]
  },
  {
   "cell_type": "markdown",
   "id": "96057d63-87d1-4cfd-9d62-0a243c33ba4e",
   "metadata": {
    "editable": true,
    "slideshow": {
     "slide_type": "slide"
    },
    "tags": []
   },
   "source": [
    "# Task 2.1: Find the cell which is Void (material is `None`)"
   ]
  },
  {
   "cell_type": "markdown",
   "id": "7f0e77b1-58ae-4626-8b6a-ed261a0f254f",
   "metadata": {
    "editable": true,
    "slideshow": {
     "slide_type": "notes"
    },
    "tags": []
   },
   "source": [
    "# Pause"
   ]
  },
  {
   "cell_type": "code",
   "execution_count": 20,
   "id": "bc787e13-23b8-418a-bf03-22ce65f832fe",
   "metadata": {
    "editable": true,
    "slideshow": {
     "slide_type": "fragment"
    },
    "tags": []
   },
   "outputs": [
    {
     "name": "stdout",
     "output_type": "stream",
     "text": [
      "CELL: 2, mat: 0, DENS: None [COMMENT: c gas gap]\n"
     ]
    }
   ],
   "source": [
    "# Task: set 'gap' to the void Cell\n",
    "gap = None\n",
    "for cell in problem.cells:\n",
    "    if cell.material is None:\n",
    "        gap = cell\n",
    "        break\n",
    "if gap is not None:\n",
    "    print(gap, gap.comments)"
   ]
  },
  {
   "cell_type": "markdown",
   "id": "ed3fa315-a15f-46db-bab2-10b76ea15be9",
   "metadata": {
    "editable": true,
    "slideshow": {
     "slide_type": "slide"
    },
    "tags": []
   },
   "source": [
    "# Task 2.2 Define a Helium Material\n",
    "\n",
    "## Steps\n",
    "1. Create a new material\n",
    "2. Request a number for the material\n",
    "3. Add it to the problem"
   ]
  },
  {
   "cell_type": "code",
   "execution_count": 21,
   "id": "ac803a0a-3244-45b4-a7ba-9886d79f7d57",
   "metadata": {
    "editable": true,
    "scrolled": true,
    "slideshow": {
     "slide_type": ""
    },
    "tags": []
   },
   "outputs": [
    {
     "data": {
      "text/html": [
       "\n",
       "        <iframe\n",
       "            width=\"800\"\n",
       "            height=\"600\"\n",
       "            src=\"https://www.montepy.org/en/stable/api/montepy.data_inputs.material.html\"\n",
       "            frameborder=\"0\"\n",
       "            allowfullscreen\n",
       "            \n",
       "        ></iframe>\n",
       "        "
      ],
      "text/plain": [
       "<IPython.lib.display.IFrame at 0x7e828953e4e0>"
      ]
     },
     "execution_count": 21,
     "metadata": {},
     "output_type": "execute_result"
    }
   ],
   "source": [
    "IFrame(\n",
    "    \"https://www.montepy.org/en/stable/api/montepy.data_inputs.material.html\",\n",
    "    800,\n",
    "    600,\n",
    ")"
   ]
  },
  {
   "cell_type": "code",
   "execution_count": 22,
   "id": "2eb6806d-9ec5-4c35-8bef-bf70fa75efaa",
   "metadata": {
    "editable": true,
    "slideshow": {
     "slide_type": ""
    },
    "tags": []
   },
   "outputs": [
    {
     "data": {
      "text/html": [
       "\n",
       "        <iframe\n",
       "            width=\"800\"\n",
       "            height=\"600\"\n",
       "            src=\"https://www.montepy.org/en/stable/api/montepy.materials.html\"\n",
       "            frameborder=\"0\"\n",
       "            allowfullscreen\n",
       "            \n",
       "        ></iframe>\n",
       "        "
      ],
      "text/plain": [
       "<IPython.lib.display.IFrame at 0x7e828953e690>"
      ]
     },
     "execution_count": 22,
     "metadata": {},
     "output_type": "execute_result"
    }
   ],
   "source": [
    "IFrame(\"https://www.montepy.org/en/stable/api/montepy.materials.html\", 800, 600)"
   ]
  },
  {
   "cell_type": "markdown",
   "id": "85e8bb49-245e-4836-82d5-0b18345a5718",
   "metadata": {
    "editable": true,
    "slideshow": {
     "slide_type": "notes"
    },
    "tags": []
   },
   "source": [
    "# Pause"
   ]
  },
  {
   "cell_type": "code",
   "execution_count": 23,
   "id": "a2a47094-1c8a-4288-808c-71b30109b82a",
   "metadata": {
    "editable": true,
    "slideshow": {
     "slide_type": "subslide"
    },
    "tags": []
   },
   "outputs": [],
   "source": [
    "# Task: define 'helium' Material and add it to the problem\n",
    "helium = montepy.Material()\n",
    "if helium is not None and helium not in problem.materials:\n",
    "    helium.number = problem.materials.request_number()\n",
    "    problem.materials.append(helium)"
   ]
  },
  {
   "cell_type": "markdown",
   "id": "2d46445b-a1bd-4a7a-9637-7d855cdba829",
   "metadata": {
    "editable": true,
    "slideshow": {
     "slide_type": "slide"
    },
    "tags": []
   },
   "source": [
    "# Adding Nuclide\n",
    "* Will model as pure `He-4`\n",
    "* Need to find appropriate ACE file\n",
    "* Want to use ENDF/B-VII.1\n",
    "* 600 K is about right\n",
    "* Refer to the ACE manual [LA-UR-17-20709](https://doi.org/10.2172/1342828)\n",
    "   * Hint: this is `81c`\n",
    " \n",
    "## Note on Atomic/mass fraction\n",
    "---\n",
    "* Whether a material is in atomic or mass fraction is  a property of a material"
   ]
  },
  {
   "cell_type": "markdown",
   "id": "04a3c7e1-1640-42bb-98dc-9920f36bc05a",
   "metadata": {
    "editable": true,
    "slideshow": {
     "slide_type": "notes"
    },
    "tags": []
   },
   "source": [
    "# Pause"
   ]
  },
  {
   "cell_type": "code",
   "execution_count": 24,
   "id": "2245c248-7387-4628-a316-46f4263b58d7",
   "metadata": {},
   "outputs": [
    {
     "data": {
      "text/plain": [
       "\u001b[31mSignature:\u001b[39m\n",
       "montepy.Material.add_nuclide(\n",
       "    self,\n",
       "    nuclide: \u001b[33m'NuclideLike'\u001b[39m,\n",
       "    fraction: \u001b[33m'float'\u001b[39m,\n",
       ")\n",
       "\u001b[31mDocstring:\u001b[39m\n",
       "Add a new component to this material of the given nuclide, and fraction.\n",
       "\n",
       ".. versionadded:: 1.0.0\n",
       "\n",
       "Parameters\n",
       "----------\n",
       "nuclide : Nuclide, str, int\n",
       "    The nuclide to add, which can be a string Identifier, or\n",
       "    ZAID.\n",
       "fraction : float\n",
       "    the fraction of this component being added.\n",
       "\u001b[31mFile:\u001b[39m      ~/miniforge3/envs/montepy_demo/lib/python3.12/site-packages/montepy/data_inputs/material.py\n",
       "\u001b[31mType:\u001b[39m      function"
      ]
     },
     "metadata": {},
     "output_type": "display_data"
    }
   ],
   "source": [
    "?montepy.Material.add_nuclide"
   ]
  },
  {
   "cell_type": "code",
   "execution_count": 25,
   "id": "1c10bb3a-bb3c-467c-b1ab-a27214f124e4",
   "metadata": {
    "editable": true,
    "slideshow": {
     "slide_type": "fragment"
    },
    "tags": []
   },
   "outputs": [
    {
     "name": "stdout",
     "output_type": "stream",
     "text": [
      "True\n"
     ]
    }
   ],
   "source": [
    "# Task: Add one or more helium isotopes to the 'helium' \n",
    "# Hint: the ENDF/B-VII.1 600K continuous-energy library is \"81c\"\n",
    "nuc = montepy.Nuclide(\"He-4.81c\")\n",
    "if nuc is not None:\n",
    "    helium.add_nuclide(nuc, 1.0)\n",
    "    print(helium.is_atom_fraction)"
   ]
  },
  {
   "cell_type": "markdown",
   "id": "c12d77e3-ea7a-4ba8-9b0f-34ce170f4c58",
   "metadata": {
    "editable": true,
    "slideshow": {
     "slide_type": "slide"
    },
    "tags": []
   },
   "source": [
    "# Task 2.3: Finding Density\n",
    "* PWR helium gas gap pressure starts at around 25 atm (according to [nuclear-power.com](https://www.nuclear-power.com/nuclear-power-plant/nuclear-fuel/fuel-assembly/fuel-rods-fuel-pins/))\n",
    "* From [Ideal gas law](https://en.wikipedia.org/wiki/Ideal_gas_law)\n",
    " $$ p = \\frac{nRT}{N_A}$$\n",
    "* With:\n",
    "    * $p$ being the pressure. \n",
    "    * $n$ being the atomic density\n",
    "    * $R$ is the ideal gas constant. You can use:$8.2057\\times10^{-5}\\rm\\frac{m^3atm}{K\\cdot mol}$\n",
    "    * $N_A$ is Avogadro's constant. You can use: $ 6.022\\times 10^{23}$\n",
    "    * $T$ is the temperature. Let's assume 600 K.\n",
    "* Solve for the atom density, and convert it to units of $\\rm\\frac{a}{barn\\cdot cm}$ (1 barn = $1\\times10^{-24}\\rm cm^2$)"
   ]
  },
  {
   "cell_type": "markdown",
   "id": "abd788c6-7f73-4023-99aa-33a2cb100016",
   "metadata": {
    "editable": true,
    "slideshow": {
     "slide_type": "notes"
    },
    "tags": []
   },
   "source": [
    "# pause"
   ]
  },
  {
   "cell_type": "markdown",
   "id": "72b5132c-10e2-46b1-90ac-035104c65cdb",
   "metadata": {
    "editable": true,
    "slideshow": {
     "slide_type": "subslide"
    },
    "tags": []
   },
   "source": [
    " $$ p = \\frac{nRT}{N_A}$$"
   ]
  },
  {
   "cell_type": "code",
   "execution_count": 26,
   "id": "16ab7b9f-8149-4854-8ce0-216d7a813da2",
   "metadata": {
    "editable": true,
    "slideshow": {
     "slide_type": ""
    },
    "tags": []
   },
   "outputs": [],
   "source": [
    "R = 8.2057e-5  # m3*atm/K-mol\n",
    "N_A = 6.022e23\n",
    "BARNS_TO_CM2 = 1e24\n",
    "PRESSURE = 25  # atm\n",
    "TEMP = 600  # K"
   ]
  },
  {
   "cell_type": "code",
   "execution_count": 27,
   "id": "f2ad65b1-9b8c-46de-b5a5-bd8922e398ea",
   "metadata": {
    "editable": true,
    "slideshow": {
     "slide_type": "fragment"
    },
    "tags": []
   },
   "outputs": [
    {
     "name": "stdout",
     "output_type": "stream",
     "text": [
      "3.100e-04 at/b-cm\n"
     ]
    }
   ],
   "source": [
    "density_m3 = (PRESSURE * N_A) / (R * TEMP)\n",
    "density_cm3 = density_m3 / (100**3)  # (cm -> m)^3\n",
    "density = density_cm3 / BARNS_TO_CM2\n",
    "density = np.round(density, 5)\n",
    "print(f\"{density:.3e} at/b-cm\")"
   ]
  },
  {
   "cell_type": "markdown",
   "id": "54b5af33-a641-46c8-ac0a-9351cd2c868d",
   "metadata": {
    "editable": true,
    "slideshow": {
     "slide_type": "slide"
    },
    "tags": []
   },
   "source": [
    "# Task 2.4: Bring it all together\n",
    "* Assign cell material\n",
    "* Assign density"
   ]
  },
  {
   "cell_type": "code",
   "execution_count": 28,
   "id": "ff73f379-01db-4f47-bbb2-331458de3ffe",
   "metadata": {
    "editable": true,
    "slideshow": {
     "slide_type": ""
    },
    "tags": []
   },
   "outputs": [
    {
     "data": {
      "text/html": [
       "\n",
       "        <iframe\n",
       "            width=\"800\"\n",
       "            height=\"600\"\n",
       "            src=\"https://www.montepy.org/en/stable/api/montepy.cell.html\"\n",
       "            frameborder=\"0\"\n",
       "            allowfullscreen\n",
       "            \n",
       "        ></iframe>\n",
       "        "
      ],
      "text/plain": [
       "<IPython.lib.display.IFrame at 0x7e8289500aa0>"
      ]
     },
     "execution_count": 28,
     "metadata": {},
     "output_type": "execute_result"
    }
   ],
   "source": [
    "IFrame(\"https://www.montepy.org/en/stable/api/montepy.cell.html\", 800, 600)"
   ]
  },
  {
   "cell_type": "markdown",
   "id": "4f5d0755-6957-4056-8211-574bab73ddac",
   "metadata": {
    "editable": true,
    "slideshow": {
     "slide_type": "notes"
    },
    "tags": []
   },
   "source": [
    "# Pause"
   ]
  },
  {
   "cell_type": "code",
   "execution_count": 29,
   "id": "77e0ae1a-ca97-44f3-ae3f-07ff5ab41e12",
   "metadata": {
    "editable": true,
    "slideshow": {
     "slide_type": "fragment"
    },
    "tags": []
   },
   "outputs": [
    {
     "data": {
      "text/plain": [
       "CELL: 2 \n",
       "MATERIAL: 3, ['helium']\n",
       "density: 0.00031 atom/b-cm\n",
       "SURFACE: 1, CZ\n",
       "SURFACE: 2, CZ\n",
       "SURFACE: 101, PZ\n",
       "SURFACE: 102, PZ"
      ]
     },
     "execution_count": 29,
     "metadata": {},
     "output_type": "execute_result"
    }
   ],
   "source": [
    "gap.material = helium\n",
    "gap.atom_density = density\n",
    "gap"
   ]
  },
  {
   "cell_type": "markdown",
   "id": "efe7c5ff-8a5e-4c98-929e-3c5eaa055340",
   "metadata": {
    "editable": true,
    "slideshow": {
     "slide_type": "slide"
    },
    "tags": []
   },
   "source": [
    "# Goal 3: Fix the Zircalloy Material definition\n",
    "* Find the zircalloy\n",
    "* Remove elemental nuclides\n",
    "* Replace with proper isotopic break downs"
   ]
  },
  {
   "cell_type": "markdown",
   "id": "1d1c47a0-8543-4d84-a10b-17935943103a",
   "metadata": {
    "editable": true,
    "slideshow": {
     "slide_type": "subslide"
    },
    "tags": []
   },
   "source": [
    "## Task 3.1 find Zircalloy\n",
    "* Easy to find as only material with Zr\n",
    "* `Materials` have some helpful functions for this"
   ]
  },
  {
   "cell_type": "code",
   "execution_count": 30,
   "id": "b4ec7aa1-5e61-4397-ba58-c87f5a38e743",
   "metadata": {
    "editable": true,
    "slideshow": {
     "slide_type": ""
    },
    "tags": []
   },
   "outputs": [
    {
     "data": {
      "text/html": [
       "\n",
       "        <iframe\n",
       "            width=\"800\"\n",
       "            height=\"600\"\n",
       "            src=\"https://www.montepy.org/en/stable/api/montepy.materials.html#montepy.materials.Materials.get_containing_any\"\n",
       "            frameborder=\"0\"\n",
       "            allowfullscreen\n",
       "            \n",
       "        ></iframe>\n",
       "        "
      ],
      "text/plain": [
       "<IPython.lib.display.IFrame at 0x7e82882e6060>"
      ]
     },
     "execution_count": 30,
     "metadata": {},
     "output_type": "execute_result"
    }
   ],
   "source": [
    "IFrame(\"https://www.montepy.org/en/stable/api/montepy.materials.html#montepy.materials.Materials.get_containing_any\", 800, 600)"
   ]
  },
  {
   "cell_type": "markdown",
   "id": "634b0782-1a22-4f73-be58-7864dd4205d1",
   "metadata": {
    "editable": true,
    "slideshow": {
     "slide_type": "notes"
    },
    "tags": []
   },
   "source": [
    "# Pause"
   ]
  },
  {
   "cell_type": "code",
   "execution_count": 31,
   "id": "179c675b-d6d1-4e8e-9870-71c3ecae0c99",
   "metadata": {
    "editable": true,
    "slideshow": {
     "slide_type": "fragment"
    },
    "tags": []
   },
   "outputs": [
    {
     "name": "stdout",
     "output_type": "stream",
     "text": [
      "MATERIAL: 10 fractions: mass\n",
      "Zr-0     (66c) 0.98\n",
      "Sn-0     (42c) 0.015\n",
      "Fe-0     (55c) 0.002\n",
      "Cr-0     (50c) 0.001\n",
      "\n"
     ]
    }
   ],
   "source": [
    "# Task: Set 'zirc' to the material containing Zirconium (Atomic symbol: Zr; Z: 40)\n",
    "zirc = next(problem.materials.get_containing_any(\"Zr\"))\n",
    "if zirc is not None:\n",
    "    print(repr(zirc))"
   ]
  },
  {
   "cell_type": "markdown",
   "id": "63e20f72-96c7-4d71-88ec-67d9fcbf7f4f",
   "metadata": {
    "editable": true,
    "slideshow": {
     "slide_type": "slide"
    },
    "tags": []
   },
   "source": [
    "# Task 3.2 Define new components\n",
    "\n",
    "* take existing components\n",
    "* Split into isotopic abundances and multiply with the existing components\n",
    "* Remove old components\n",
    "\n",
    "## Note\n",
    "---\n",
    "* MontePy does not provide natural isotopic abundances\n",
    "    * Currently don't have resources to maintain these data\n",
    "    * Would need to be able to read your `XSDIR` file\n",
    "* OpenMC can provide you with these data"
   ]
  },
  {
   "cell_type": "code",
   "execution_count": 32,
   "id": "ee751071-bbde-4e31-9dd8-63bdc9c911d8",
   "metadata": {
    "editable": true,
    "slideshow": {
     "slide_type": "fragment"
    },
    "tags": []
   },
   "outputs": [],
   "source": [
    "NAT_ABUNDANCES = {\n",
    "    \"Zr\": {90: 0.5145, 91: 0.1122, 92: 0.1715, 94: 0.1738, 96: 0.0280},\n",
    "    \"Sn\": {112: 0.0097, 114: 0.0066, 116: 0.0034, 117: 0.0768},\n",
    "    \"Fe\": {54: 0.05845, 56: 0.91754, 57: 0.02119, 58: 0.00282},\n",
    "    \"Cr\": {50: 0.04345, 52: 0.83789, 53: 0.09501, 54: 0.02365},\n",
    "}\n",
    "# From Meija, et al. \"Isotopic Compositions of the Elements (IUPAC Technical Report) <https://doi.org/10.1515/pac-2015-0503>\n",
    "# given in atom fraction."
   ]
  },
  {
   "cell_type": "markdown",
   "id": "cbec4f4a-e092-40c2-b63e-a694df02269f",
   "metadata": {
    "editable": true,
    "slideshow": {
     "slide_type": "slide"
    },
    "tags": []
   },
   "source": [
    "# Play around with Materials\n",
    "* Review [Material documentation](https://www.montepy.org/en/stable/api/montepy.data_inputs.material.html)\n",
    "* Adding to a list while you are iterating over it is dangerous; make sure to:\n",
    "    1. Create a new list of the components\n",
    "    2. Clear the old material\n",
    "    3. Add the new components to the material.\n",
    "    4. Change libraries for all nuclides all at once."
   ]
  },
  {
   "cell_type": "markdown",
   "id": "eff702c0-35b7-4ff4-b547-a1bdb70cd788",
   "metadata": {
    "editable": true,
    "slideshow": {
     "slide_type": "notes"
    },
    "tags": []
   },
   "source": [
    "# Pause"
   ]
  },
  {
   "cell_type": "code",
   "execution_count": 33,
   "id": "96793e36-d378-4ce0-992f-80803d043a21",
   "metadata": {
    "editable": true,
    "slideshow": {
     "slide_type": "subslide"
    },
    "tags": []
   },
   "outputs": [
    {
     "name": "stdout",
     "output_type": "stream",
     "text": [
      "A:  90 | fraction: 0.5145\n",
      "Zr-90\n",
      "A:  91 | fraction: 0.1122\n",
      "Zr-91\n",
      "A:  92 | fraction: 0.1715\n",
      "Zr-92\n",
      "A:  94 | fraction: 0.1738\n",
      "Zr-94\n",
      "A:  96 | fraction: 0.028\n",
      "Zr-96\n",
      "A: 112 | fraction: 0.0097\n",
      "Sn-112\n",
      "A: 114 | fraction: 0.0066\n",
      "Sn-114\n",
      "A: 116 | fraction: 0.0034\n",
      "Sn-116\n",
      "A: 117 | fraction: 0.0768\n",
      "Sn-117\n",
      "A:  54 | fraction: 0.05845\n",
      "Fe-54\n",
      "A:  56 | fraction: 0.91754\n",
      "Fe-56\n",
      "A:  57 | fraction: 0.02119\n",
      "Fe-57\n",
      "A:  58 | fraction: 0.00282\n",
      "Fe-58\n",
      "A:  50 | fraction: 0.04345\n",
      "Cr-50\n",
      "A:  52 | fraction: 0.83789\n",
      "Cr-52\n",
      "A:  53 | fraction: 0.09501\n",
      "Cr-53\n",
      "A:  54 | fraction: 0.02365\n",
      "Cr-54\n"
     ]
    },
    {
     "data": {
      "text/plain": [
       "MATERIAL: 4 fractions: mass\n",
       "Zr-90    (82c) 0.5042099999999999\n",
       "Zr-91    (82c) 0.109956\n",
       "Zr-92    (82c) 0.16807\n",
       "Zr-94    (82c) 0.170324\n",
       "Zr-96    (82c) 0.02744\n",
       "Sn-112   (82c) 0.00014549999999999999\n",
       "Sn-114   (82c) 9.9e-05\n",
       "Sn-116   (82c) 5.099999999999999e-05\n",
       "Sn-117   (82c) 0.0011519999999999998\n",
       "Fe-54    (82c) 0.00011690000000000001\n",
       "Fe-56    (82c) 0.00183508\n",
       "Fe-57    (82c) 4.2380000000000004e-05\n",
       "Fe-58    (82c) 5.64e-06\n",
       "Cr-50    (82c) 4.3450000000000006e-05\n",
       "Cr-52    (82c) 0.00083789\n",
       "Cr-53    (82c) 9.501e-05\n",
       "Cr-54    (82c) 2.3650000000000002e-05"
      ]
     },
     "execution_count": 33,
     "metadata": {},
     "output_type": "execute_result"
    }
   ],
   "source": [
    "# Task: Replace all components of material 'zirc'\n",
    "zirc2 = zirc.clone()\n",
    "zirc2.clear()\n",
    "for nuclide, base_fraction in zirc:\n",
    "    element = nuclide.element\n",
    "    abundances = NAT_ABUNDANCES[element.symbol]\n",
    "    for A, iso_fraction in abundances.items():\n",
    "        print(f\"A: {A:3g} | fraction: {iso_fraction:}\")\n",
    "        # Now, add it to our new zirc2:\n",
    "        print(f\"{element.symbol}-{A}\")\n",
    "        zirc2.add_nuclide(f\"{element.symbol}-{A}\",base_fraction * iso_fraction)\n",
    "zirc2.change_libraries(\"82c\")\n",
    "zirc2"
   ]
  },
  {
   "cell_type": "code",
   "execution_count": null,
   "id": "9afa7204-ea2e-4327-b466-fedf36eeddf1",
   "metadata": {},
   "outputs": [],
   "source": [
    "# TODO set cell to zirc2\n",
    "#TODO delete zirc"
   ]
  },
  {
   "cell_type": "markdown",
   "id": "92b6cab9-5171-46cb-8ef6-f44c88acd04a",
   "metadata": {
    "editable": true,
    "slideshow": {
     "slide_type": "slide"
    },
    "tags": []
   },
   "source": [
    "# Task 4 Set Up Eigenvalue run\n",
    "\n",
    "* Need to define [ksrc](https://mcnp.lanl.gov/pdf_files/TechReport_2022_LANL_LA-UR-22-30006Rev.1_KuleszaAdamsEtAl.pdf#subsection.5.8.11), and [kcode](https://mcnp.lanl.gov/pdf_files/TechReport_2022_LANL_LA-UR-22-30006Rev.1_KuleszaAdamsEtAl.pdf#subsection.5.8.10).\n",
    "* MontePy doesn't support `KCODE` yet directly, but can be given an arbitrary input string and add it to the model.\n",
    "  *  _**Note: I strongly recommend putting skeleton code with comments telling the students exactly what to do.**_"
   ]
  },
  {
   "cell_type": "code",
   "execution_count": null,
   "id": "82f5415c-dde8-422d-9b5b-9cb4132498b3",
   "metadata": {
    "editable": true,
    "slideshow": {
     "slide_type": "fragment"
    },
    "tags": []
   },
   "outputs": [],
   "source": [
    "IFrame(\n",
    "    \"https://www.montepy.org/en/stable/api/montepy.mcnp_problem.html#montepy.mcnp_problem.MCNP_Problem.parse\",\n",
    "    800,\n",
    "    600,\n",
    ")"
   ]
  },
  {
   "cell_type": "markdown",
   "id": "645d119e-ffbe-4220-ab9d-5ebe57084a08",
   "metadata": {
    "editable": true,
    "slideshow": {
     "slide_type": "subslide"
    },
    "tags": []
   },
   "source": [
    "# Task 4.1\n",
    "* Set one source site at the origin\n",
    "* Set:\n",
    "    * 100,000 histories per cycle\n",
    "    * initial guess of k to be 1.1\n",
    "    * Do 100 cycles\n",
    "    * with 20 inactive cycles."
   ]
  },
  {
   "cell_type": "markdown",
   "id": "25b9c02d-0dac-4132-b167-75271fc93a85",
   "metadata": {
    "editable": true,
    "slideshow": {
     "slide_type": ""
    },
    "tags": []
   },
   "source": [
    "# Pause"
   ]
  },
  {
   "cell_type": "code",
   "execution_count": null,
   "id": "19739ccd-ffc9-4bd5-ab2f-f3a4ba10c759",
   "metadata": {
    "editable": true,
    "slideshow": {
     "slide_type": "fragment"
    },
    "tags": []
   },
   "outputs": [],
   "source": [
    "# Task: Add kcode and ksrc to the problem\n",
    "nparticles = int(1e5)\n",
    "kguess = 1.1\n",
    "inactive_batches = 20\n",
    "total_batches = 100\n",
    "kcode = problem.parse(f\"kcode {nparticles} {kguess} {inactive_batches} {total_batches}\", append=False)\n",
    "# Now add a ksrc\n",
    "ksrc = problem.parse(\"ksrc 0 0 0 $ source in center of fuel pin\", append=False)"
   ]
  },
  {
   "cell_type": "code",
   "execution_count": null,
   "id": "64bb3147-361f-4c58-aa33-c18eeaf51dcd",
   "metadata": {},
   "outputs": [],
   "source": [
    "# If 'append=False' earlier, append to the data block now.\n",
    "problem.data_inputs.append(kcode)\n",
    "problem.data_inputs.append(ksrc)"
   ]
  },
  {
   "cell_type": "markdown",
   "id": "2dfe13a3-a364-47df-a3d7-3075753ee480",
   "metadata": {
    "editable": true,
    "slideshow": {
     "slide_type": "slide"
    },
    "tags": []
   },
   "source": [
    "# Task 5 update water Density\n",
    "* Moderator density is around standard temperature and pressure (roughly)\n",
    "* Much too dense for a PWR\n",
    "* Density should be 0.74 $\\rm\\frac{g}{cm^3}$ <sup>1</sup>\n",
    "\n",
    "<sup>1</sup> N. E. Horelik et al., \"Benchmark for Evaluation and Validation of Reactor Simulations (BEAVRS),\" presented at the Int. Conf. Mathematics and Computational Methods Applied to Nuc. Sci. & Eng., Sun Valley, Idaho, 2013."
   ]
  },
  {
   "cell_type": "code",
   "execution_count": null,
   "id": "26d473b5-9db9-4150-8c26-d65772be6096",
   "metadata": {
    "editable": true,
    "slideshow": {
     "slide_type": ""
    },
    "tags": []
   },
   "outputs": [],
   "source": [
    "WATER_DENSITY = 0.74  # [g/cm3]"
   ]
  },
  {
   "cell_type": "markdown",
   "id": "aadfafef-dae2-4440-a6b1-53d4ce140196",
   "metadata": {
    "editable": true,
    "slideshow": {
     "slide_type": "slide"
    },
    "tags": []
   },
   "source": [
    "# Task 5.1 Find moderator cell\n",
    "* will find water material, then find the cell filled with that"
   ]
  },
  {
   "cell_type": "code",
   "execution_count": null,
   "id": "aec7fd38-c4ba-4796-9abd-078ebdd99daf",
   "metadata": {
    "editable": true,
    "scrolled": true,
    "slideshow": {
     "slide_type": ""
    },
    "tags": []
   },
   "outputs": [],
   "source": [
    "IFrame(\n",
    "    \"https://www.montepy.org/en/stable/api/montepy.data_inputs.material.html#montepy.materials.Materials.get_containing_all\",\n",
    "    800,\n",
    "    600,\n",
    ")"
   ]
  },
  {
   "cell_type": "markdown",
   "id": "e807c4a7-4294-4f5d-b283-c3ebb09cc376",
   "metadata": {
    "editable": true,
    "slideshow": {
     "slide_type": "notes"
    },
    "tags": []
   },
   "source": [
    "# Pause"
   ]
  },
  {
   "cell_type": "code",
   "execution_count": null,
   "id": "dfa7d40d-8a0c-45cf-8dfa-a8e7df7b537f",
   "metadata": {
    "editable": true,
    "slideshow": {
     "slide_type": "subslide"
    },
    "tags": []
   },
   "outputs": [],
   "source": [
    "# get water\n",
    "water = list(problem.materials.get_containing_all(\"H\", \"O\"))[0]\n",
    "water"
   ]
  },
  {
   "cell_type": "markdown",
   "id": "da88fcdc-60c3-40f3-9ac1-48738e7641f4",
   "metadata": {
    "editable": true,
    "slideshow": {
     "slide_type": "subslide"
    },
    "tags": []
   },
   "source": [
    "# Grab Cell"
   ]
  },
  {
   "cell_type": "code",
   "execution_count": null,
   "id": "70673908-66a6-4a5f-8ac9-4d575ceb146e",
   "metadata": {
    "editable": true,
    "scrolled": true,
    "slideshow": {
     "slide_type": ""
    },
    "tags": []
   },
   "outputs": [],
   "source": [
    "IFrame(\n",
    "    \"https://www.montepy.org/en/stable/api/montepy.data_inputs.material.html#montepy.data_inputs.material.Material.cells\",\n",
    "    800,\n",
    "    600,\n",
    ")"
   ]
  },
  {
   "cell_type": "markdown",
   "id": "a562685b-704b-4eb9-8627-1510323aabfc",
   "metadata": {
    "editable": true,
    "slideshow": {
     "slide_type": "notes"
    },
    "tags": []
   },
   "source": [
    "# Pause"
   ]
  },
  {
   "cell_type": "code",
   "execution_count": null,
   "id": "bf991f0b-ec08-4529-a76b-df61cec8382b",
   "metadata": {
    "editable": true,
    "slideshow": {
     "slide_type": "fragment"
    },
    "tags": []
   },
   "outputs": [],
   "source": [
    "water_cell = list(water.cells)[0]\n",
    "water_cell"
   ]
  },
  {
   "cell_type": "markdown",
   "id": "849d107f-49a7-49c9-b343-5816dabeb38d",
   "metadata": {
    "editable": true,
    "slideshow": {
     "slide_type": "slide"
    },
    "tags": []
   },
   "source": [
    "# Set Cell Mass Density"
   ]
  },
  {
   "cell_type": "code",
   "execution_count": null,
   "id": "790f79af-4c2d-48b9-b766-a134b9b9aac5",
   "metadata": {
    "editable": true,
    "scrolled": true,
    "slideshow": {
     "slide_type": ""
    },
    "tags": []
   },
   "outputs": [],
   "source": [
    "IFrame(\n",
    "    \"https://www.montepy.org/en/stable/api/montepy.cell.html#montepy.cell.Cell.mass_density\",\n",
    "    800,\n",
    "    600,\n",
    ")"
   ]
  },
  {
   "cell_type": "markdown",
   "id": "8e3b7fc5-23be-45bc-8878-a25561aa6219",
   "metadata": {
    "editable": true,
    "slideshow": {
     "slide_type": "notes"
    },
    "tags": []
   },
   "source": [
    "# Pause"
   ]
  },
  {
   "cell_type": "code",
   "execution_count": null,
   "id": "6b99e20d-c45a-4e25-959c-a7a58d56821d",
   "metadata": {
    "editable": true,
    "slideshow": {
     "slide_type": "fragment"
    },
    "tags": []
   },
   "outputs": [],
   "source": [
    "water_cell.mass_density = WATER_DENSITY"
   ]
  },
  {
   "cell_type": "markdown",
   "id": "3ea70960-861b-43a4-958c-f6364a6855a8",
   "metadata": {
    "editable": true,
    "slideshow": {
     "slide_type": "slide"
    },
    "tags": []
   },
   "source": [
    "# Conclusion\n",
    "* Write it out to a file `models/pin_cell_corrected.imcnp`"
   ]
  },
  {
   "cell_type": "code",
   "execution_count": null,
   "id": "2821f038-358c-49e6-80bd-6aab24863d16",
   "metadata": {
    "editable": true,
    "scrolled": true,
    "slideshow": {
     "slide_type": ""
    },
    "tags": []
   },
   "outputs": [],
   "source": [
    "IFrame(\"https://www.montepy.org/en/stable/api/montepy.mcnp_problem.html\", 800, 600)"
   ]
  },
  {
   "cell_type": "markdown",
   "id": "2ca9466a-5125-442e-be52-89d2cc28e823",
   "metadata": {
    "editable": true,
    "slideshow": {
     "slide_type": "notes"
    },
    "tags": []
   },
   "source": [
    "# Pause"
   ]
  },
  {
   "cell_type": "code",
   "execution_count": null,
   "id": "f0f581bd-7154-4db7-ac21-5c3e0bcf6cf3",
   "metadata": {
    "editable": true,
    "slideshow": {
     "slide_type": "fragment"
    },
    "tags": []
   },
   "outputs": [],
   "source": [
    "problem.write_problem(\"models/pin_cell_corrected.imcnp\")"
   ]
  },
  {
   "cell_type": "code",
   "execution_count": null,
   "id": "714833f4-3035-4bee-853f-6a0a35d08d53",
   "metadata": {
    "editable": true,
    "slideshow": {
     "slide_type": "subslide"
    },
    "tags": []
   },
   "outputs": [],
   "source": [
    "!cat models/pin_cell_corrected.imcnp"
   ]
  },
  {
   "cell_type": "markdown",
   "id": "439c1960-db43-4e68-bc26-b476e99e9b77",
   "metadata": {
    "editable": true,
    "slideshow": {
     "slide_type": "subslide"
    },
    "tags": []
   },
   "source": [
    "# Questions?"
   ]
  }
 ],
 "metadata": {
  "kernelspec": {
   "display_name": "Python 3 (ipykernel)",
   "language": "python",
   "name": "python3"
  },
  "language_info": {
   "codemirror_mode": {
    "name": "ipython",
    "version": 3
   },
   "file_extension": ".py",
   "mimetype": "text/x-python",
   "name": "python",
   "nbconvert_exporter": "python",
   "pygments_lexer": "ipython3",
   "version": "3.12.9"
  },
  "rise": {
   "scroll": true,
   "slideNumber": true
  }
 },
 "nbformat": 4,
 "nbformat_minor": 5
}
