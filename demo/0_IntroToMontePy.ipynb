{
 "cells": [
  {
   "cell_type": "markdown",
   "id": "bfc2f603-f552-4c47-ac70-6d00e91fafec",
   "metadata": {
    "editable": true,
    "rise": {
     "backimage": "Picture1.png"
    },
    "slideshow": {
     "slide_type": "slide"
    },
    "tags": []
   },
   "source": [
    "# Python Tools for Monte Carlo: OpenMC and MontePy\n",
    "## Introduction to MontePy\n",
    "### Presented by: Travis Labossiere-Hickman<sup>1</sup>\n",
    "\n",
    "### Prepared by: Travis Labossiere-Hickman, Micah Gale<sup>2</sup>,\n",
    "\n",
    "Presented: April 27, 2025 at the International Conference on Mathematics and Computational Methods Applied to Nuclear Science and Engineering (M&C 2025)\n",
    "\n",
    "<sup>1</sup> Idaho National Laboratory; University of Illinois, Urbana-Champaign; Contact: [Travis.LabossiereHickman@INL.gov](mailto:Travis.LabossiereHickman@INL.gov)\n",
    "\n",
    "<sup>2</sup> Idaho National Laboratory; University of Wisconsin—Madison; Contact: [Micah.Gale@INL.gov](mailto:micah.gale@inl.gov)\n",
    "\n",
    "\n",
    "\n"
   ]
  },
  {
   "cell_type": "markdown",
   "id": "779748dc-a449-40d9-8b8e-274d7a13fb13",
   "metadata": {
    "editable": true,
    "rise": {
     "backimage": "Picture1.png"
    },
    "slideshow": {
     "slide_type": "slide"
    },
    "tags": []
   },
   "source": [
    "# Table of Contents\n",
    "* Introduction to MCNP\n",
    "* Need for Automation\n",
    "* Why MontePy?\n",
    "* Introduction to MontePy documentation"
   ]
  },
  {
   "cell_type": "markdown",
   "id": "54013ad8-f1e9-4087-8c2b-6043e8c467b6",
   "metadata": {
    "editable": true,
    "slideshow": {
     "slide_type": "slide"
    },
    "tags": []
   },
   "source": [
    "# Introduction to MCNP\n",
    "* (for those living under a rock)\n",
    "* Monte Carlo N-Particle (MCNP) developed by Los Alamos National Lab\n",
    "* Code dates to the 1960's<sup>1</sup>\n",
    "* Input syntax predates XML, JSON, YAML, SGML, oh my\n",
    "* Syntax developed for punchcards\n",
    "  \n",
    "  <img alt=\"a stack of punch cards\" src=\"https://upload.wikimedia.org/wikipedia/commons/2/26/Punched_card_program_deck.agr.jpg\" width=\"300\"></img>\n",
    "\n",
    "  (By Arnold Reinhold CC BY-SA 3.0)\n",
    "\n",
    "### MCNP input files are made up of \"inputs\" not \"cards\"\n",
    "\n",
    "<sup>1</sup> J. Kulesza et al., \"MCNP Code Version 6.3.0 Theory & User Manual,\" LA-UR-22-30006, Rev. 1, September 2022.\n"
   ]
  },
  {
   "cell_type": "markdown",
   "id": "34de4cc9-37f0-45d4-8953-6d22474267e6",
   "metadata": {
    "editable": true,
    "slideshow": {
     "slide_type": "subslide"
    },
    "tags": []
   },
   "source": [
    "```\n",
    "Very important title\n",
    "1 1 -19.81 -2 imp:n=1\n",
    "\n",
    "2 so 10\n",
    "\n",
    "m1 92235.80c 1.0\n",
    "kcode 1000 1.5 50 200\n",
    "ksrc 0 0 0\n",
    "```\n"
   ]
  },
  {
   "cell_type": "markdown",
   "id": "e0715551-dd82-415f-8fc0-7210162f5b20",
   "metadata": {
    "editable": true,
    "slideshow": {
     "slide_type": "slide"
    },
    "tags": []
   },
   "source": [
    "# Need for Automation\n",
    "* We find these truths to be self-evident\n",
    "\n",
    "## How many of you have done the following? "
   ]
  },
  {
   "cell_type": "markdown",
   "id": "3780ebe2-f7c5-4b7c-b1c0-7d29377bca1a",
   "metadata": {
    "editable": true,
    "jp-MarkdownHeadingCollapsed": true,
    "slideshow": {
     "slide_type": "fragment"
    },
    "tags": []
   },
   "source": [
    "### The lazy template\n",
    "\n",
    "``` python\n",
    "def update_radius(radius):\n",
    "    with open(\"template.imcnp\") as in_fh, open(f\"new_{radius}.imcnp\") as out_fh:\n",
    "        for i, line in enumerate(in_fh):\n",
    "            if i != 99:\n",
    "                out_fh.write(line)\n",
    "            else:\n",
    "                out_fh.write(f\"5 cz {radius}\")\n",
    "```\n",
    "\n",
    "* `mcnp_pstudy.pl` would be a better tool here"
   ]
  },
  {
   "cell_type": "markdown",
   "id": "9b60da5a-728b-4fbc-9414-7e78882cc5bd",
   "metadata": {
    "editable": true,
    "slideshow": {
     "slide_type": "fragment"
    },
    "tags": []
   },
   "source": [
    "### The Regular Expression Basher\n",
    "\n",
    "``` python\n",
    "import re\n",
    "\n",
    "def change_mat_number(old_number, new_number):\n",
    "     with open(\"old_victim.imcnp\") as in_fh, open(f\"new_victim.imcnp\") as out_fh:\n",
    "         for line in in_fh:\n",
    "             if is_blue_moon_and_friday_13(line):\n",
    "                 out_fh.write(re.sub(r\"m(\\d+)/////# how many backslaches???\", f\"m{new_number}\"))\n",
    "             elif is_dec_12_2012(line):\n",
    "                 pass # so much more abuse\n",
    "             else:\n",
    "                 out_fh.write(line)\n",
    "```"
   ]
  },
  {
   "cell_type": "markdown",
   "id": "a780a2a8-f670-48c8-a750-f74b114e2076",
   "metadata": {
    "editable": true,
    "slideshow": {
     "slide_type": "slide"
    },
    "tags": []
   },
   "source": [
    "# Oh but, my script is different...\n",
    "## Does it use context-free parsing in addition to regular expressions?\n",
    "\n",
    "### If not: Then it is provably non-robust\n",
    "* Regular expressions are *proven* to not be able parse:\n",
    "    * Parantheses groupings\n",
    "    * Operator Precedence <sup>2</sup>\n",
    "\n",
    "<sup>2</sup>K. D. Cooper and L. Torczon, Engineering a Compiler. San Francisco, CA: Morgan Kaufmann Publishers, 2004.\n"
   ]
  },
  {
   "cell_type": "markdown",
   "id": "2fe5d5f3-eed2-429c-8283-fcb9fdb080de",
   "metadata": {
    "editable": true,
    "slideshow": {
     "slide_type": "slide"
    },
    "tags": []
   },
   "source": [
    "# Why MontePy\n",
    "* Takes minutia out of the automation\n",
    "    * Does not require pre-templating\n",
    "* Implements Context-Free parsing\n",
    "     * Can preserve user formatting\n",
    "     * Understands to order of operations for CSG\n",
    "* Allows you to focus on semantics; not syntax!"
   ]
  },
  {
   "cell_type": "code",
   "execution_count": null,
   "id": "192a77e2-9b1c-495c-8d99-ff2e03105dbb",
   "metadata": {
    "editable": true,
    "slideshow": {
     "slide_type": "fragment"
    },
    "tags": []
   },
   "outputs": [],
   "source": [
    "import montepy\n",
    "\n",
    "problem = montepy.read_input(\"models/pin_cell.imcnp\")\n",
    "\n",
    "importances = {1: 0.005, 2: 0.1, 3: 1.0, 5: 1.235}\n",
    "for cell_num, importance in importances.items():\n",
    "    problem.cells[cell_num].importance.neutron = importance\n",
    "    print(problem.cells[cell_num].mcnp_str())"
   ]
  },
  {
   "cell_type": "code",
   "execution_count": null,
   "id": "bd94fe8b-6690-4ea9-92be-e8ee90d0ec24",
   "metadata": {
    "editable": true,
    "slideshow": {
     "slide_type": ""
    },
    "tags": []
   },
   "outputs": [],
   "source": [
    "# create a universe and fill another cell with it (hide)\n",
    "universe = montepy.Universe(123)\n",
    "problem.universes.append(universe)\n",
    "# add all cells with numbers between 1 and 4\n",
    "universe.claim(problem.cells[1:5])\n",
    "print(problem.cells[1:5])"
   ]
  },
  {
   "cell_type": "markdown",
   "id": "75322a30-4020-41f1-a723-b4dc9091d8f5",
   "metadata": {
    "editable": true,
    "slideshow": {
     "slide_type": "slide"
    },
    "tags": []
   },
   "source": [
    "# Status of support\n",
    "\n",
    "\n",
    "## Note: All support Based on Public MCNP User Manual (6.2, 6.3.0, 6.3.1)\n",
    "* We Are aware MCNP has many undocumented \"features\", and will tolerate a lot of syntax abuse\n",
    "    * MontePy will only ever support officially documented syntax\n",
    "\n",
    "## Great fully Object-Oriented Support\n",
    "   * Cells\n",
    "   * Materials\n",
    "   * Universes\n",
    "   * cylindrical, and planar surfaces (e.g., `CZ`, `PZ`)\n",
    "      * has `plane.location` and `cylinder.radius` properties\n"
   ]
  },
  {
   "cell_type": "markdown",
   "id": "740cfb16-ff4a-4338-9da8-d576f84b9c5a",
   "metadata": {
    "editable": true,
    "slideshow": {
     "slide_type": "fragment"
    },
    "tags": []
   },
   "source": [
    "## Partial Object-Oriented Support\n",
    "   * Other surfaces\n",
    "        * Does not have meaningful properties for surface coefficients\n",
    "        * `surf.surface_constants` instead of `cylinder.radius`"
   ]
  },
  {
   "cell_type": "markdown",
   "id": "cbc6579e-8042-46a3-9b57-5d01a27c57e7",
   "metadata": {
    "editable": true,
    "jp-MarkdownHeadingCollapsed": true,
    "slideshow": {
     "slide_type": "subslide"
    },
    "tags": []
   },
   "source": [
    "## Limited Object-Oriented Support\n",
    "   * Almost all Other Inputs\n",
    "   * Can read information\n",
    "   * Determined user can change input values if you know the location in the list\n",
    "   * Has only properties for the classifier mnemonic\n"
   ]
  },
  {
   "cell_type": "markdown",
   "id": "880567d2-6390-49a3-9475-b6f48d55a5dd",
   "metadata": {
    "editable": true,
    "slideshow": {
     "slide_type": "fragment"
    },
    "tags": []
   },
   "source": [
    "## Lacking any meaningful support\n",
    "* Special complications\n",
    "   * `DE`\n",
    "     * it completely changes the syntax around `log`, will only be parroted.\n",
    "## Unsupported Syntaxes\n",
    " * Vertical mode\n",
    " * Cell `Like n but...`\n",
    " * Will raise `UnsupportedFeatureException`"
   ]
  },
  {
   "cell_type": "markdown",
   "id": "3a94b23e-9cb8-4cf8-8a8a-5298cde91e77",
   "metadata": {
    "editable": true,
    "jp-MarkdownHeadingCollapsed": true,
    "slideshow": {
     "slide_type": "slide"
    },
    "tags": []
   },
   "source": [
    "# Code Quality \n",
    "* Follows Modern Software Practices\n",
    "    * Requires Peer reviews on Pull Requests\n",
    "    * Uses Continuous Integration/Deployment (22 checks)\n",
    "* Has extensive test suite\n",
    "    * over 800 tests\n",
    "       * Tests are ran against 5 versions of pythons (3.9-3.13)\n",
    "       * With two versions for both dependencies (numpy 1, 2 and sly 0.4, 0.5)\n",
    "    * ~ 98% code coverage\n",
    "* Stable versioning system.\n",
    "   * Uses semantic versioning (`Major`, `Minor`, `Patch`). Only `Major` Releases should break old code.\n",
    "   * Releases are immutable on [PyPI](https://pypi.org/project/montepy/) and [conda-forge](https://anaconda.org/conda-forge/montepy).\n",
    "  * `pip install montepy`\n",
    "  * `conda install conda-forge::montepy`"
   ]
  },
  {
   "cell_type": "markdown",
   "id": "810e54a7-e608-451e-a944-80d030335c98",
   "metadata": {
    "editable": true,
    "slideshow": {
     "slide_type": "slide"
    },
    "tags": []
   },
   "source": [
    "# MontePy Website\n",
    "* It's on GitHub!\n",
    "    * [github.com/idaholab/MontePy](https://github.com/idaholab/MontePy)\n",
    "    * Go here for filing issues:\n",
    "         * bugs\n",
    "         * Feature requests\n",
    "         * typos, etc\n",
    "    * Star us!\n",
    "    * Contribute here\n",
    "\n",
    "\n"
   ]
  },
  {
   "cell_type": "markdown",
   "id": "3eb7d631-67c8-4396-86a6-b0fadc63ba40",
   "metadata": {
    "editable": true,
    "slideshow": {
     "slide_type": "slide"
    },
    "tags": []
   },
   "source": [
    "## Documentation is at [montepy.org](https://www.montepy.org/en/stable/)\n"
   ]
  },
  {
   "cell_type": "code",
   "execution_count": null,
   "id": "d15d92d8-be9b-4433-9279-b80fa25f5995",
   "metadata": {
    "editable": true,
    "raw_mimetype": "",
    "slideshow": {
     "slide_type": "fragment"
    },
    "tags": [
     "hide-input"
    ]
   },
   "outputs": [],
   "source": [
    "from _config import IFrame\n",
    "\n",
    "IFrame(\"https://www.montepy.org/en/stable/\")"
   ]
  },
  {
   "cell_type": "markdown",
   "id": "55786e10-911d-4189-be9e-9b55cef40303",
   "metadata": {
    "editable": true,
    "slideshow": {
     "slide_type": "notes"
    },
    "tags": []
   },
   "source": [
    "# Explain Top level menus"
   ]
  },
  {
   "cell_type": "markdown",
   "id": "e4f73485-0fff-4331-bad7-656524020ced",
   "metadata": {
    "editable": true,
    "slideshow": {
     "slide_type": "slide"
    },
    "tags": []
   },
   "source": [
    "# Accessing Tutorials\n",
    "* Use the getting started guide"
   ]
  },
  {
   "cell_type": "code",
   "execution_count": null,
   "id": "a5023bcc-b740-4502-b261-e8b0d7ad63e8",
   "metadata": {
    "editable": true,
    "slideshow": {
     "slide_type": "fragment"
    },
    "tags": []
   },
   "outputs": [],
   "source": [
    "IFrame(\"https://www.montepy.org/en/stable/starting.html#specifying-nuclides\")"
   ]
  },
  {
   "cell_type": "markdown",
   "id": "7419659b-dbe2-4311-af38-65d21eaaa64c",
   "metadata": {
    "editable": true,
    "slideshow": {
     "slide_type": "slide"
    },
    "tags": []
   },
   "source": [
    "# Accessing Doc Strings\n",
    "## Structure\n",
    "* Top Level\n",
    "    * `MCNP_Problem`\n",
    "    * `Cell`\n",
    "    * Collections like: `Cells`, `Surfaces`, `Materials`, etc.\n",
    "    * Internal abstract classes `MCNP_Object`, etc.\n",
    "* `montepy.data_inputs`\n",
    "   * Everything that *may* show up in the data block\n",
    "   * Includes cell modifiers `imp`, `vol`, `fill`, etc.\n",
    "* `montepy.input_parser`\n",
    "   * these are not the droids you are looking for\n",
    "* `montepy.surfaces`\n",
    "   * all surface classes"
   ]
  },
  {
   "cell_type": "markdown",
   "id": "b33332db-f861-4737-9034-9ccd8ac0200d",
   "metadata": {
    "editable": true,
    "slideshow": {
     "slide_type": ""
    },
    "tags": []
   },
   "source": [
    "# Finding Cell Doc-strings\n",
    "new sub-slide"
   ]
  },
  {
   "cell_type": "code",
   "execution_count": null,
   "id": "904f0bbb-5ffd-4643-9433-a41209064039",
   "metadata": {
    "editable": true,
    "slideshow": {
     "slide_type": ""
    },
    "tags": []
   },
   "outputs": [],
   "source": [
    "IFrame(\"https://www.montepy.org/en/v1.0.0a1/api/modules.html\")"
   ]
  },
  {
   "cell_type": "markdown",
   "id": "729434fa-a613-44c6-a028-08d91743286a",
   "metadata": {
    "editable": true,
    "slideshow": {
     "slide_type": "notes"
    },
    "tags": []
   },
   "source": [
    "* Click cell\n",
    "* Discuss methods versus properties\n",
    "* Click on `geometry`\n",
    "* Discuss the types"
   ]
  },
  {
   "cell_type": "markdown",
   "id": "d40cd3b6-1fa9-40c5-924e-6a5c99d66672",
   "metadata": {
    "editable": true,
    "slideshow": {
     "slide_type": "slide"
    },
    "tags": []
   },
   "source": [
    "# Finding the Material Doc-strings"
   ]
  },
  {
   "cell_type": "code",
   "execution_count": null,
   "id": "08d150a2-95d0-4251-ad0f-de9acb9e38a8",
   "metadata": {
    "editable": true,
    "slideshow": {
     "slide_type": ""
    },
    "tags": []
   },
   "outputs": [],
   "source": [
    "IFrame(\"https://www.montepy.org/en/v1.0.0a1/api/modules.html\")"
   ]
  },
  {
   "cell_type": "markdown",
   "id": "f0da4ef5-22df-4c86-8926-890079216e70",
   "metadata": {
    "editable": true,
    "slideshow": {
     "slide_type": "notes"
    },
    "tags": []
   },
   "source": [
    "* click on material\n",
    "* Discuss top level class and data\n",
    "* click `Material`\n",
    "* Click on `add_nuclide`\n",
    "* discuss doc-string contract\n",
    "* discuss doc-string type hints\n",
    "* click on `append`\n",
    "* discuss `tuple[]` notation"
   ]
  },
  {
   "cell_type": "markdown",
   "id": "ff419024-3ef7-40ca-a26a-00477a940f4e",
   "metadata": {
    "editable": true,
    "slideshow": {
     "slide_type": "slide"
    },
    "tags": []
   },
   "source": [
    "# Note on Teaching Style\n",
    "* We do not have time to make you experts\n",
    "* Goal: teach self-efficacy\n",
    "   * Introduce to MontePy organization dogma\n",
    "   * Where to look for resources\n",
    "   * How to approach software defined modeling"
   ]
  },
  {
   "cell_type": "markdown",
   "id": "d0a4f76a-df89-4940-815f-8e371b18ab5b",
   "metadata": {
    "editable": true,
    "slideshow": {
     "slide_type": "slide"
    },
    "tags": []
   },
   "source": [
    "# Acknowledgments \n",
    "\n",
    "Work supported through the Advanced Fuels Campaign (AFC) under DOE Idaho Operations Office Contract DE-AC07-05ID14517. The authors wish to thank the U.S. Department of Energy Office of Isotope R&D and Production for their vital and continued support and funding of the Co-60 program at INL under Contract No. DE-AC07-05ID14517. Co-60 is sold by the National Isotope Development Center (NIDC). Quotes on Co-60 can be obtained from NIDC at www.isotopes.gov/products/cobalt. This research made use of Idaho National Laboratory's High Performance Computing systems located at the Collaborative Computing Center and supported by the Office of Nuclear Energy of the U.S. Department of Energy and the Nuclear Science User Facilities under Contract No. DE-AC07-05ID14517."
   ]
  },
  {
   "cell_type": "markdown",
   "id": "fab983cb-2dc8-49f0-bccc-88b376e6b9b6",
   "metadata": {
    "editable": true,
    "slideshow": {
     "slide_type": "slide"
    },
    "tags": []
   },
   "source": [
    "# Questions ?\n",
    "\n",
    "## You May also Enjoy:\n",
    "\n",
    "* \"A Practical Guide to Parsing MCNP Inputs: Lessons Learned from Implementing Context-Free Parsing in MontePy\"\n",
    "    * Tuesday, 10:25 - 10:50 AM\n",
    "    * Lawrence B\n",
    "\n",
    "## Contact Us\n",
    "* Documentation: [montepy.org](https://www.montepy.org/en/stable/)\n",
    "* repository: [github.com/idaholab/MontePy](https://github.com/idaholab/MontePy)\n",
    "* Lead Developer: [Micah.Gale@INL.gov](mailto:micah.gale@inl.gov)\n",
    "  \n",
    "![QR code for montepy.org](figs/montepy_qr.png)"
   ]
  },
  {
   "cell_type": "markdown",
   "id": "d067399b-a3aa-44e3-817e-4761255b60e7",
   "metadata": {
    "editable": true,
    "slideshow": {
     "slide_type": "slide"
    },
    "tags": []
   },
   "source": [
    "# Is MontePy NQA-1?"
   ]
  },
  {
   "cell_type": "markdown",
   "id": "f517d563-e181-4903-b782-c1b268a7e35e",
   "metadata": {
    "editable": true,
    "slideshow": {
     "slide_type": "fragment"
    },
    "tags": []
   },
   "source": [
    "## No"
   ]
  },
  {
   "cell_type": "markdown",
   "id": "d0181126-a9e0-4568-8207-4381df937c1c",
   "metadata": {
    "editable": true,
    "slideshow": {
     "slide_type": "fragment"
    },
    "tags": []
   },
   "source": [
    "# Is MCNP NQA-1?"
   ]
  },
  {
   "cell_type": "markdown",
   "id": "80ac0634-9929-43f2-be4c-2f501d6e506d",
   "metadata": {
    "editable": true,
    "slideshow": {
     "slide_type": "fragment"
    },
    "tags": []
   },
   "source": [
    "## No"
   ]
  },
  {
   "cell_type": "markdown",
   "id": "732d1fa8-3a1d-4531-a8de-e67a40ec7562",
   "metadata": {
    "editable": true,
    "slideshow": {
     "slide_type": "fragment"
    },
    "tags": []
   },
   "source": [
    "* Per [LA-UR-20-26666](https://mcnp.lanl.gov/pdf_files/TechReport_2020_LANL_XCP-320-008LA-UR-20-26666_RisingBrownEtAl.pdf)\n",
    "\n",
    "> The general purpose MCNP6 particle transport code can be used for many applications ...  It would unreasonable for the code development team to develop the code under the strict ASME NQA-1-2008 (NQA-1) Quality Assurance Requirements for Nuclear Facility Applications documented standards for all of these application areas ... For other users and institutions, the requirements may vary based on how each institution chooses to follow the NQA-1 and other international standards.\n",
    "\n",
    "\n",
    "* It is impossible under NQA-1 to have \"off-the-shelf\" NQA-1 products\n",
    "   * Must complete commercial grade dedication, or\n",
    "   * Add vendor to a Qaulified Supplier List, which requires extended back and forth with vendor, and extensive auditing.\n"
   ]
  },
  {
   "cell_type": "markdown",
   "id": "629d98a8-623d-4c42-a317-1e860a442d8a",
   "metadata": {
    "editable": true,
    "slideshow": {
     "slide_type": "fragment"
    },
    "tags": []
   },
   "source": [
    "# Should You Qualify MontePy\n",
    "\n",
    "## Probably not: do it for your end application."
   ]
  }
 ],
 "metadata": {
  "kernelspec": {
   "display_name": "Python 3 (ipykernel)",
   "language": "python",
   "name": "python3"
  },
  "language_info": {
   "codemirror_mode": {
    "name": "ipython",
    "version": 3
   },
   "file_extension": ".py",
   "mimetype": "text/x-python",
   "name": "python",
   "nbconvert_exporter": "python",
   "pygments_lexer": "ipython3",
   "version": "3.13.2"
  },
  "rise": {
   "scroll": true,
   "slideNumber": true
  }
 },
 "nbformat": 4,
 "nbformat_minor": 5
}
