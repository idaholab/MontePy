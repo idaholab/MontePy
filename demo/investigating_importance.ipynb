{
 "cells": [
  {
   "cell_type": "code",
   "execution_count": 17,
   "id": "828d41f1-76d8-4dd0-ae22-3b5b7952726d",
   "metadata": {},
   "outputs": [
    {
     "data": {
      "text/plain": [
       "'0.1.dev3682+g3a79a8c.d20250324'"
      ]
     },
     "execution_count": 17,
     "metadata": {},
     "output_type": "execute_result"
    }
   ],
   "source": [
    "import montepy\n",
    "import os\n",
    "montepy.__version__"
   ]
  },
  {
   "cell_type": "code",
   "execution_count": 18,
   "id": "c5d3aa79-57bf-4036-b40f-69c2f5d80dd4",
   "metadata": {},
   "outputs": [],
   "source": [
    "problem = montepy.read_input(\"pin_cell.imcnp\")"
   ]
  },
  {
   "cell_type": "code",
   "execution_count": 19,
   "id": "9432edc7-1f64-4bd3-9697-84165325ed30",
   "metadata": {},
   "outputs": [],
   "source": [
    "imp = problem.cells[1].importance"
   ]
  },
  {
   "cell_type": "markdown",
   "id": "54111f69-8bcc-4c6b-9c34-81e4d615240e",
   "metadata": {},
   "source": [
    "Printing Cell Defined importance\n",
    "================\n"
   ]
  },
  {
   "cell_type": "code",
   "execution_count": 20,
   "id": "9f75012f-d2bc-40c6-9167-08205c4a2395",
   "metadata": {},
   "outputs": [
    {
     "name": "stdout",
     "output_type": "stream",
     "text": [
      "IMPORTANCE: neutron=1.0\n"
     ]
    }
   ],
   "source": [
    "print(imp)"
   ]
  },
  {
   "cell_type": "markdown",
   "id": "48e1d549",
   "metadata": {},
   "source": [
    "## Printing Data defined importance\n",
    "===================================\n"
   ]
  },
  {
   "cell_type": "code",
   "execution_count": 21,
   "id": "024b9c98",
   "metadata": {},
   "outputs": [],
   "source": [
    "from montepy.data_inputs.importance import Importance\n",
    "from montepy.cell import Cell\n",
    "from montepy.errors import *\n",
    "from montepy.input_parser import mcnp_input, block_type"
   ]
  },
  {
   "cell_type": "code",
   "execution_count": 22,
   "id": "9ad0740e",
   "metadata": {},
   "outputs": [],
   "source": [
    "in_str = \"IMP:N,P,E,H 1 0\"\n",
    "card = mcnp_input.Input([in_str], block_type.BlockType.DATA)\n",
    "imp1 = Importance(card)"
   ]
  },
  {
   "cell_type": "code",
   "execution_count": 23,
   "id": "24e18263",
   "metadata": {},
   "outputs": [
    {
     "name": "stdout",
     "output_type": "stream",
     "text": [
      "IMPORTANCE: electron=1.0, neutron=1.0, photon=1.0, proton=1.0\n"
     ]
    }
   ],
   "source": [
    "print(imp1)"
   ]
  },
  {
   "cell_type": "markdown",
   "id": "bf99fb6c",
   "metadata": {},
   "source": [
    "# bad particle type "
   ]
  },
  {
   "cell_type": "code",
   "execution_count": 32,
   "id": "fc95719d",
   "metadata": {},
   "outputs": [
    {
     "ename": "ParsingError",
     "evalue": "    , line 0\n\n    >    0| 1 0 -1 IMP:N,xx=2\n          |              ^^ not expected here.\nThere was an error parsing \"xx\".\nsly: Syntax error at line 1, token=TEXT\n\n\n\nError came from CELL: -1, mat: 0, DENS: None from an unknown file.",
     "output_type": "error",
     "traceback": [
      "\u001b[31m---------------------------------------------------------------------------\u001b[39m",
      "\u001b[31mParsingError\u001b[39m                              Traceback (most recent call last)",
      "\u001b[36mCell\u001b[39m\u001b[36m \u001b[39m\u001b[32mIn[32]\u001b[39m\u001b[32m, line 3\u001b[39m\n\u001b[32m      1\u001b[39m in_str = \u001b[33m\"\u001b[39m\u001b[33m1 0 -1 IMP:N,xx=2\u001b[39m\u001b[33m\"\u001b[39m\n\u001b[32m      2\u001b[39m card = mcnp_input.Input([in_str], block_type.BlockType.CELL)\n\u001b[32m----> \u001b[39m\u001b[32m3\u001b[39m \u001b[43mCell\u001b[49m\u001b[43m(\u001b[49m\u001b[43mcard\u001b[49m\u001b[43m)\u001b[49m\n",
      "\u001b[36mFile \u001b[39m\u001b[32mD:\\benas\\github_repos\\montepy_bugfix_-549\\montepy\\mcnp_object.py:45\u001b[39m, in \u001b[36m_ExceptionContextAdder._wrap_attr_call.<locals>.wrapped\u001b[39m\u001b[34m(*args, **kwargs)\u001b[39m\n\u001b[32m     43\u001b[39m \u001b[38;5;28;01mif\u001b[39;00m \u001b[38;5;28mlen\u001b[39m(args) > \u001b[32m0\u001b[39m \u001b[38;5;129;01mand\u001b[39;00m \u001b[38;5;28misinstance\u001b[39m(args[\u001b[32m0\u001b[39m], MCNP_Object):\n\u001b[32m     44\u001b[39m     \u001b[38;5;28mself\u001b[39m = args[\u001b[32m0\u001b[39m]\n\u001b[32m---> \u001b[39m\u001b[32m45\u001b[39m     \u001b[43madd_line_number_to_exception\u001b[49m\u001b[43m(\u001b[49m\u001b[43me\u001b[49m\u001b[43m,\u001b[49m\u001b[43m \u001b[49m\u001b[38;5;28;43mself\u001b[39;49m\u001b[43m)\u001b[49m\n\u001b[32m     46\u001b[39m \u001b[38;5;28;01melse\u001b[39;00m:\n\u001b[32m     47\u001b[39m     \u001b[38;5;28;01mraise\u001b[39;00m e\n",
      "\u001b[36mFile \u001b[39m\u001b[32mD:\\benas\\github_repos\\montepy_bugfix_-549\\montepy\\errors.py:232\u001b[39m, in \u001b[36madd_line_number_to_exception\u001b[39m\u001b[34m(error, broken_robot)\u001b[39m\n\u001b[32m    230\u001b[39m \u001b[38;5;66;03m# avoid calling this n times recursively\u001b[39;00m\n\u001b[32m    231\u001b[39m \u001b[38;5;28;01mif\u001b[39;00m \u001b[38;5;28mhasattr\u001b[39m(error, \u001b[33m\"\u001b[39m\u001b[33mmontepy_handled\u001b[39m\u001b[33m\"\u001b[39m):\n\u001b[32m--> \u001b[39m\u001b[32m232\u001b[39m     \u001b[38;5;28;01mraise\u001b[39;00m error\n\u001b[32m    233\u001b[39m error.montepy_handled = \u001b[38;5;28;01mTrue\u001b[39;00m\n\u001b[32m    234\u001b[39m args = error.args\n",
      "\u001b[36mFile \u001b[39m\u001b[32mD:\\benas\\github_repos\\montepy_bugfix_-549\\montepy\\mcnp_object.py:41\u001b[39m, in \u001b[36m_ExceptionContextAdder._wrap_attr_call.<locals>.wrapped\u001b[39m\u001b[34m(*args, **kwargs)\u001b[39m\n\u001b[32m     38\u001b[39m \u001b[38;5;129m@functools\u001b[39m.wraps(func)\n\u001b[32m     39\u001b[39m \u001b[38;5;28;01mdef\u001b[39;00m\u001b[38;5;250m \u001b[39m\u001b[34mwrapped\u001b[39m(*args, **kwargs):\n\u001b[32m     40\u001b[39m     \u001b[38;5;28;01mtry\u001b[39;00m:\n\u001b[32m---> \u001b[39m\u001b[32m41\u001b[39m         \u001b[38;5;28;01mreturn\u001b[39;00m \u001b[43mfunc\u001b[49m\u001b[43m(\u001b[49m\u001b[43m*\u001b[49m\u001b[43margs\u001b[49m\u001b[43m,\u001b[49m\u001b[43m \u001b[49m\u001b[43m*\u001b[49m\u001b[43m*\u001b[49m\u001b[43mkwargs\u001b[49m\u001b[43m)\u001b[49m\n\u001b[32m     42\u001b[39m     \u001b[38;5;28;01mexcept\u001b[39;00m \u001b[38;5;167;01mException\u001b[39;00m \u001b[38;5;28;01mas\u001b[39;00m e:\n\u001b[32m     43\u001b[39m         \u001b[38;5;28;01mif\u001b[39;00m \u001b[38;5;28mlen\u001b[39m(args) > \u001b[32m0\u001b[39m \u001b[38;5;129;01mand\u001b[39;00m \u001b[38;5;28misinstance\u001b[39m(args[\u001b[32m0\u001b[39m], MCNP_Object):\n",
      "\u001b[36mFile \u001b[39m\u001b[32mD:\\benas\\github_repos\\montepy_bugfix_-549\\montepy\\cell.py:83\u001b[39m, in \u001b[36mCell.__init__\u001b[39m\u001b[34m(self, input)\u001b[39m\n\u001b[32m     81\u001b[39m \u001b[38;5;28mself\u001b[39m._complements = Cells()\n\u001b[32m     82\u001b[39m \u001b[38;5;28mself\u001b[39m._number = \u001b[38;5;28mself\u001b[39m._generate_default_node(\u001b[38;5;28mint\u001b[39m, -\u001b[32m1\u001b[39m)\n\u001b[32m---> \u001b[39m\u001b[32m83\u001b[39m \u001b[38;5;28;43msuper\u001b[39;49m\u001b[43m(\u001b[49m\u001b[43m)\u001b[49m\u001b[43m.\u001b[49m\u001b[34;43m__init__\u001b[39;49m\u001b[43m(\u001b[49m\u001b[38;5;28;43minput\u001b[39;49m\u001b[43m,\u001b[49m\u001b[43m \u001b[49m\u001b[38;5;28;43mself\u001b[39;49m\u001b[43m.\u001b[49m\u001b[43m_parser\u001b[49m\u001b[43m)\u001b[49m\n\u001b[32m     84\u001b[39m \u001b[38;5;28;01mif\u001b[39;00m \u001b[38;5;129;01mnot\u001b[39;00m \u001b[38;5;28minput\u001b[39m:\n\u001b[32m     85\u001b[39m     \u001b[38;5;28mself\u001b[39m._generate_default_tree()\n",
      "\u001b[36mFile \u001b[39m\u001b[32mD:\\benas\\github_repos\\montepy_bugfix_-549\\montepy\\mcnp_object.py:45\u001b[39m, in \u001b[36m_ExceptionContextAdder._wrap_attr_call.<locals>.wrapped\u001b[39m\u001b[34m(*args, **kwargs)\u001b[39m\n\u001b[32m     43\u001b[39m \u001b[38;5;28;01mif\u001b[39;00m \u001b[38;5;28mlen\u001b[39m(args) > \u001b[32m0\u001b[39m \u001b[38;5;129;01mand\u001b[39;00m \u001b[38;5;28misinstance\u001b[39m(args[\u001b[32m0\u001b[39m], MCNP_Object):\n\u001b[32m     44\u001b[39m     \u001b[38;5;28mself\u001b[39m = args[\u001b[32m0\u001b[39m]\n\u001b[32m---> \u001b[39m\u001b[32m45\u001b[39m     \u001b[43madd_line_number_to_exception\u001b[49m\u001b[43m(\u001b[49m\u001b[43me\u001b[49m\u001b[43m,\u001b[49m\u001b[43m \u001b[49m\u001b[38;5;28;43mself\u001b[39;49m\u001b[43m)\u001b[49m\n\u001b[32m     46\u001b[39m \u001b[38;5;28;01melse\u001b[39;00m:\n\u001b[32m     47\u001b[39m     \u001b[38;5;28;01mraise\u001b[39;00m e\n",
      "\u001b[36mFile \u001b[39m\u001b[32mD:\\benas\\github_repos\\montepy_bugfix_-549\\montepy\\errors.py:256\u001b[39m, in \u001b[36madd_line_number_to_exception\u001b[39m\u001b[34m(error, broken_robot)\u001b[39m\n\u001b[32m    254\u001b[39m args = (message,) + args[\u001b[32m1\u001b[39m:]\n\u001b[32m    255\u001b[39m error.args = args\n\u001b[32m--> \u001b[39m\u001b[32m256\u001b[39m \u001b[38;5;28;01mraise\u001b[39;00m error.with_traceback(trace)\n",
      "\u001b[36mFile \u001b[39m\u001b[32mD:\\benas\\github_repos\\montepy_bugfix_-549\\montepy\\mcnp_object.py:41\u001b[39m, in \u001b[36m_ExceptionContextAdder._wrap_attr_call.<locals>.wrapped\u001b[39m\u001b[34m(*args, **kwargs)\u001b[39m\n\u001b[32m     38\u001b[39m \u001b[38;5;129m@functools\u001b[39m.wraps(func)\n\u001b[32m     39\u001b[39m \u001b[38;5;28;01mdef\u001b[39;00m\u001b[38;5;250m \u001b[39m\u001b[34mwrapped\u001b[39m(*args, **kwargs):\n\u001b[32m     40\u001b[39m     \u001b[38;5;28;01mtry\u001b[39;00m:\n\u001b[32m---> \u001b[39m\u001b[32m41\u001b[39m         \u001b[38;5;28;01mreturn\u001b[39;00m \u001b[43mfunc\u001b[49m\u001b[43m(\u001b[49m\u001b[43m*\u001b[49m\u001b[43margs\u001b[49m\u001b[43m,\u001b[49m\u001b[43m \u001b[49m\u001b[43m*\u001b[49m\u001b[43m*\u001b[49m\u001b[43mkwargs\u001b[49m\u001b[43m)\u001b[49m\n\u001b[32m     42\u001b[39m     \u001b[38;5;28;01mexcept\u001b[39;00m \u001b[38;5;167;01mException\u001b[39;00m \u001b[38;5;28;01mas\u001b[39;00m e:\n\u001b[32m     43\u001b[39m         \u001b[38;5;28;01mif\u001b[39;00m \u001b[38;5;28mlen\u001b[39m(args) > \u001b[32m0\u001b[39m \u001b[38;5;129;01mand\u001b[39;00m \u001b[38;5;28misinstance\u001b[39m(args[\u001b[32m0\u001b[39m], MCNP_Object):\n",
      "\u001b[36mFile \u001b[39m\u001b[32mD:\\benas\\github_repos\\montepy_bugfix_-549\\montepy\\mcnp_object.py:119\u001b[39m, in \u001b[36mMCNP_Object.__init__\u001b[39m\u001b[34m(self, input, parser)\u001b[39m\n\u001b[32m    115\u001b[39m     \u001b[38;5;28;01mraise\u001b[39;00m MalformedInputError(\n\u001b[32m    116\u001b[39m         \u001b[38;5;28minput\u001b[39m, \u001b[33mf\u001b[39m\u001b[33m\"\u001b[39m\u001b[33mError parsing object of type: \u001b[39m\u001b[38;5;132;01m{\u001b[39;00m\u001b[38;5;28mtype\u001b[39m(\u001b[38;5;28mself\u001b[39m)\u001b[38;5;132;01m}\u001b[39;00m\u001b[33m: \u001b[39m\u001b[38;5;132;01m{\u001b[39;00me.args[\u001b[32m0\u001b[39m]\u001b[38;5;132;01m}\u001b[39;00m\u001b[33m\"\u001b[39m\n\u001b[32m    117\u001b[39m     )\n\u001b[32m    118\u001b[39m \u001b[38;5;28;01mif\u001b[39;00m \u001b[38;5;28mself\u001b[39m._tree \u001b[38;5;129;01mis\u001b[39;00m \u001b[38;5;28;01mNone\u001b[39;00m:\n\u001b[32m--> \u001b[39m\u001b[32m119\u001b[39m     \u001b[38;5;28;01mraise\u001b[39;00m ParsingError(\n\u001b[32m    120\u001b[39m         \u001b[38;5;28minput\u001b[39m,\n\u001b[32m    121\u001b[39m         \u001b[33m\"\u001b[39m\u001b[33m\"\u001b[39m,\n\u001b[32m    122\u001b[39m         parser.log.clear_queue(),\n\u001b[32m    123\u001b[39m     )\n\u001b[32m    124\u001b[39m \u001b[38;5;28;01mif\u001b[39;00m \u001b[33m\"\u001b[39m\u001b[33mparameters\u001b[39m\u001b[33m\"\u001b[39m \u001b[38;5;129;01min\u001b[39;00m \u001b[38;5;28mself\u001b[39m._tree:\n\u001b[32m    125\u001b[39m     \u001b[38;5;28mself\u001b[39m._parameters = \u001b[38;5;28mself\u001b[39m._tree[\u001b[33m\"\u001b[39m\u001b[33mparameters\u001b[39m\u001b[33m\"\u001b[39m]\n",
      "\u001b[31mParsingError\u001b[39m:     , line 0\n\n    >    0| 1 0 -1 IMP:N,xx=2\n          |              ^^ not expected here.\nThere was an error parsing \"xx\".\nsly: Syntax error at line 1, token=TEXT\n\n\n\nError came from CELL: -1, mat: 0, DENS: None from an unknown file."
     ]
    }
   ],
   "source": [
    "in_str = \"1 0 -1 IMP:N,xx=2\"\n",
    "card = mcnp_input.Input([in_str], block_type.BlockType.CELL)\n",
    "Cell(card)"
   ]
  },
  {
   "cell_type": "markdown",
   "id": "de74de49",
   "metadata": {},
   "source": []
  },
  {
   "cell_type": "code",
   "execution_count": 27,
   "id": "e6af09ec",
   "metadata": {},
   "outputs": [
    {
     "name": "stdout",
     "output_type": "stream",
     "text": [
      "IMPORTANCE: neutron=1.0, photon=1.0\n"
     ]
    }
   ],
   "source": [
    "in_str = \"1 0 -1 IMP:N,P 1 0\"\n",
    "card = mcnp_input.Input([in_str], block_type.BlockType.DATA)\n",
    "imp = Cell(card).importance \n",
    "print(imp)"
   ]
  }
 ],
 "metadata": {
  "kernelspec": {
   "display_name": ".venv",
   "language": "python",
   "name": "python3"
  },
  "language_info": {
   "codemirror_mode": {
    "name": "ipython",
    "version": 3
   },
   "file_extension": ".py",
   "mimetype": "text/x-python",
   "name": "python",
   "nbconvert_exporter": "python",
   "pygments_lexer": "ipython3",
   "version": "3.12.7"
  }
 },
 "nbformat": 4,
 "nbformat_minor": 5
}
