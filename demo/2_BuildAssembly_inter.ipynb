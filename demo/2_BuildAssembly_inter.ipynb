{
 "cells": [
  {
   "cell_type": "markdown",
   "id": "ccd14a6a-ecaf-4bc7-b8c7-89976e071d4f",
   "metadata": {
    "editable": true,
    "slideshow": {
     "slide_type": "slide"
    },
    "tags": []
   },
   "source": [
    "# Building an Assembly $K_\\infty$ Model"
   ]
  },
  {
   "cell_type": "markdown",
   "id": "8c72d169-77ba-4505-9fcd-d7233f6e3e8f",
   "metadata": {
    "editable": true,
    "slideshow": {
     "slide_type": "fragment"
    },
    "tags": []
   },
   "source": [
    "## Goals and Steps\n",
    "1. Take previous pin-cell model\n",
    "2. Implement Universes, and lattices\n",
    "    1. Create universe for pin cell\n",
    "    2. Create lattice cell\n",
    "4. Create a fuel pin only assembly\n",
    "\n",
    "Based on BEAVRS:\n",
    "* N. E. Horelik et al., \"Benchmark for Evaluation and Validation of Reactor Simulations (BEAVRS),\" presented at the Int. Conf. Mathematics and Computational Methods Applied to Nuc. Sci. & Eng., Sun Valley, Idaho, 2013.\n"
   ]
  },
  {
   "cell_type": "markdown",
   "id": "ef89b263-2d9e-44bb-912e-3965f9f7af28",
   "metadata": {
    "editable": true,
    "slideshow": {
     "slide_type": "slide"
    },
    "tags": []
   },
   "source": [
    "# Step 1: Starting\n",
    "1. Import modules"
   ]
  },
  {
   "cell_type": "code",
   "execution_count": 1,
   "id": "c06ecc81-26e7-40e5-a4e2-841532b3f29d",
   "metadata": {
    "editable": true,
    "slideshow": {
     "slide_type": ""
    },
    "tags": []
   },
   "outputs": [],
   "source": [
    "import montepy\n",
    "import numpy as np\n",
    "import warnings\n",
    "\n",
    "warnings.filterwarnings(action=\"ignore\", message=r\"datetime.datetime.utcnow\")\n",
    "# In this case we do not care about lines expanding\n",
    "warnings.simplefilter(\"ignore\", montepy.errors.LineExpansionWarning)"
   ]
  },
  {
   "cell_type": "markdown",
   "id": "e1491ab4-0ef4-4637-a81c-62505051bc65",
   "metadata": {
    "editable": true,
    "slideshow": {
     "slide_type": ""
    },
    "tags": []
   },
   "source": [
    "2. Load previous problem\n",
    "  * Valid model at `models/pin_cell_corrected_ans.imcnp`\n",
    "  * Or, use your own model from Notebook 1!"
   ]
  },
  {
   "cell_type": "code",
   "execution_count": 3,
   "id": "d0536cd8-7c6f-4237-8872-0aecf1a90dc8",
   "metadata": {
    "editable": true,
    "slideshow": {
     "slide_type": ""
    },
    "tags": []
   },
   "outputs": [],
   "source": [
    "problem = montepy.read_input(\"models/pin_cell_corrected_ans.imcnp\")"
   ]
  },
  {
   "cell_type": "markdown",
   "id": "2eb7851c-e4f8-4487-a0a6-e2983022b0a9",
   "metadata": {
    "editable": true,
    "slideshow": {
     "slide_type": "slide"
    },
    "tags": []
   },
   "source": [
    "# Background\n",
    "* Modeling Westinghouse 17$\\times$17 assembly\n",
    "* Has square lattice of pin cells (17$\\times$17)"
   ]
  },
  {
   "cell_type": "code",
   "execution_count": 4,
   "id": "85f825db-faf6-4105-9db4-0db090f41186",
   "metadata": {
    "editable": true,
    "slideshow": {
     "slide_type": ""
    },
    "tags": []
   },
   "outputs": [],
   "source": [
    "# Overall assembly pitch/side length\n",
    "ASSEMBLY_PITCH = 21.50  # [cm]\n",
    "# size of pin cell\n",
    "PIN_PITCH = 1.26  # [cm]\n",
    "# Number of pins per size\n",
    "NUM_PINS_SIDE = 17  # [-]"
   ]
  },
  {
   "cell_type": "markdown",
   "id": "f3349daf-61a6-47e0-a902-a8be91ce1f8c",
   "metadata": {
    "editable": true,
    "slideshow": {
     "slide_type": "slide"
    },
    "tags": []
   },
   "source": [
    "# Step 2.1: Create Pin cell universe\n",
    "* Create a new [Universe](https://www.montepy.org/en/stable/api/montepy.universe.html),\n",
    "* add the universe to [problem.universes](https://www.montepy.org/en/stable/api/montepy.mcnp_problem.html#montepy.mcnp_problem.MCNP_Problem.universes),\n",
    "* add all cells to that [Universe](https://www.montepy.org/en/stable/api/montepy.universe.html)."
   ]
  },
  {
   "cell_type": "markdown",
   "id": "71b637a2-acf6-4ad1-9d57-a8872f83e53a",
   "metadata": {
    "editable": true,
    "slideshow": {
     "slide_type": "notes"
    },
    "tags": []
   },
   "source": [
    "# Pause"
   ]
  },
  {
   "cell_type": "code",
   "execution_count": 5,
   "id": "6876f668-c0f0-4215-ac7c-b1f7537501b3",
   "metadata": {
    "editable": true,
    "slideshow": {
     "slide_type": "fragment"
    },
    "tags": []
   },
   "outputs": [],
   "source": [
    "# Task: Create a new universe\n",
    "universe = None\n",
    "if universe is not None:\n",
    "    problem.universes.append(universe)\n",
    "    universe.claim(problem.cells)\n",
    "    universe"
   ]
  },
  {
   "cell_type": "markdown",
   "id": "ebd1094c-18e4-4d2f-bdaa-630c2a3d67e0",
   "metadata": {
    "editable": true,
    "jp-MarkdownHeadingCollapsed": true,
    "slideshow": {
     "slide_type": "slide"
    },
    "tags": []
   },
   "source": [
    "# Step 2.2: Remove Reflective Boundaries\n",
    "* Iterate over all surfaces\n",
    "* Update the `is_reflecting` property\n",
    "* Make sure to exclude z-planes (`PZ`)."
   ]
  },
  {
   "cell_type": "markdown",
   "id": "b48d503f-4602-4e0e-bb77-3a31dd40e6c8",
   "metadata": {
    "editable": true,
    "slideshow": {
     "slide_type": "notes"
    },
    "tags": []
   },
   "source": [
    "# Pause"
   ]
  },
  {
   "cell_type": "code",
   "execution_count": 14,
   "id": "d4229ffc-3e48-478c-b7fd-3cd8d22c2c64",
   "metadata": {
    "editable": true,
    "slideshow": {
     "slide_type": "fragment"
    },
    "tags": []
   },
   "outputs": [
    {
     "name": "stdout",
     "output_type": "stream",
     "text": [
      "CZ\n",
      "CZ\n",
      "CZ\n",
      "PZ\n",
      "PZ\n",
      "PX\n",
      "PX\n",
      "PY\n",
      "PY\n"
     ]
    }
   ],
   "source": [
    "# Task: Make it radially infinite (keep it axially finite)\n",
    "for surf in problem.surfaces:\n",
    "    print(surf.surface_type)\n",
    "    pass"
   ]
  },
  {
   "cell_type": "markdown",
   "id": "673b47a9-97af-4b80-b53e-249f1a9ff3a9",
   "metadata": {
    "editable": true,
    "slideshow": {
     "slide_type": "slide"
    },
    "tags": []
   },
   "source": [
    "# Step 2.3: Define unit cell of lattice\n",
    "* Remember that order matters for surface definition when using `LAT`\n",
    "   * Parrallel surfaces must be next to each other in defintion order, and pairs define lattice coordinate system\n",
    "   * will use the following order: `x`, `y`, `z`\n",
    "* Unit cell defines lattice site: `[0,0,0]`\n",
    "* Will define assembly origin to be center of this unit cell\n",
    "* For convenience the numbers of the surfaces that will be used are given:"
   ]
  },
  {
   "cell_type": "code",
   "execution_count": 7,
   "id": "d2c7fe0c-9473-43e5-99b3-f38c79406120",
   "metadata": {
    "editable": true,
    "slideshow": {
     "slide_type": "fragment"
    },
    "tags": []
   },
   "outputs": [],
   "source": [
    "# We will cheat a little and give you the surfaces by number\n",
    "# (Extra credit: find these automatically from the surface type and coefficient)\n",
    "surfs = problem.surfaces\n",
    "right_surf = surfs[104]\n",
    "left_surf  = surfs[103]\n",
    "y_top_surf = surfs[106]\n",
    "y_bot_surf = surfs[105]\n",
    "z_top_surf = surfs[102]\n",
    "z_bot_surf = surfs[101]"
   ]
  },
  {
   "cell_type": "markdown",
   "id": "37aa4c41-a2db-462e-a04b-8fff3d9f264b",
   "metadata": {
    "editable": true,
    "slideshow": {
     "slide_type": "slide"
    },
    "tags": []
   },
   "source": [
    "# Defining geometry\n",
    "\n",
    "* Geometry is defined by bitwise operators\n",
    "   * `&` for intersection\n",
    "   * `|` for union\n",
    "   * `~` for complement\n",
    "* Half-spaces (from surfaces) are defined by `+`, `-`\n",
    "* [Guide for more information](https://www.montepy.org/en/stable/starting.html#geometry)\n"
   ]
  },
  {
   "cell_type": "markdown",
   "id": "5a48c424-3b30-49f2-be78-80eba8618fbb",
   "metadata": {
    "editable": true,
    "slideshow": {
     "slide_type": "fragment"
    },
    "tags": []
   },
   "source": [
    "## For Example\n",
    "\n",
    "* Start with a z-plane:\n"
   ]
  },
  {
   "cell_type": "markdown",
   "id": "cb046fe8-c148-41f9-8ab2-e252ba1a1cb5",
   "metadata": {
    "editable": true,
    "slideshow": {
     "slide_type": "notes"
    },
    "tags": []
   },
   "source": [
    "## These are demos for the instructor to do and students to follow"
   ]
  },
  {
   "cell_type": "code",
   "execution_count": 11,
   "id": "9bc37b1c-a5b1-4e58-be5a-25a7bbac6b65",
   "metadata": {
    "editable": true,
    "slideshow": {
     "slide_type": ""
    },
    "tags": []
   },
   "outputs": [
    {
     "name": "stdout",
     "output_type": "stream",
     "text": [
      "SURFACE: 101, PZ\n"
     ]
    }
   ],
   "source": [
    "print(z_bot_surf)"
   ]
  },
  {
   "cell_type": "markdown",
   "id": "e8181867-e289-400d-942b-101d54153a01",
   "metadata": {
    "editable": true,
    "slideshow": {
     "slide_type": "fragment"
    },
    "tags": []
   },
   "source": [
    "* Get the top/above half-space"
   ]
  },
  {
   "cell_type": "code",
   "execution_count": 12,
   "id": "81e59524-63f5-44fd-ab2b-dd9edcab1929",
   "metadata": {
    "editable": true,
    "slideshow": {
     "slide_type": ""
    },
    "tags": []
   },
   "outputs": [
    {
     "name": "stdout",
     "output_type": "stream",
     "text": [
      "+101\n",
      "<class 'montepy.surfaces.half_space.UnitHalfSpace'>\n"
     ]
    }
   ],
   "source": [
    "print(+z_bot_surf)\n",
    "print(type(+z_bot_surf))"
   ]
  },
  {
   "cell_type": "markdown",
   "id": "5608bbbc-1b11-4eb9-b4b4-e6aaeac5e1ea",
   "metadata": {
    "editable": true,
    "slideshow": {
     "slide_type": "fragment"
    },
    "tags": []
   },
   "source": [
    "* Make the union of the two half-spaces"
   ]
  },
  {
   "cell_type": "code",
   "execution_count": 13,
   "id": "266df025-ae8d-4105-8396-b1ad99106da1",
   "metadata": {
    "editable": true,
    "slideshow": {
     "slide_type": ""
    },
    "tags": []
   },
   "outputs": [
    {
     "name": "stdout",
     "output_type": "stream",
     "text": [
      "(+101:-101)\n"
     ]
    }
   ],
   "source": [
    "print(+z_bot_surf | -z_bot_surf)"
   ]
  },
  {
   "cell_type": "markdown",
   "id": "c18ea4f5-85d2-4d8b-bbcf-3e0665c609b3",
   "metadata": {
    "editable": true,
    "slideshow": {
     "slide_type": "slide"
    },
    "tags": []
   },
   "source": [
    "# Goal:\n",
    "1. Create a unit cell\n",
    "2. assign it a number and append to the cells\n",
    "    * see: [`Cell.number`](https://www.montepy.org/en/stable/api/montepy.cell.html#montepy.cell.Cell.number), and [`Cells.request_number`](https://www.montepy.org/en/stable/api/montepy.cells.html#montepy.cells.Cells.request_number)\n",
    "3. Define the unit cell [`geometry`](https://www.montepy.org/en/stable/api/montepy.cell.html#montepy.cell.Cell.geometry) using the previous surfaces\n",
    "    * below the right surface, and above the left surface, and...\n",
    "5. Set the neutron [importance](https://www.montepy.org/en/stable/api/montepy.cell.html#montepy.cell.Cell.importance) to 1.0\n",
    "\n",
    "\n",
    "**Note:** In MCNP, unit cells are generally void: we will not need a material or density."
   ]
  },
  {
   "cell_type": "markdown",
   "id": "0a498f92-f3cd-402b-a268-26ad9278b716",
   "metadata": {
    "editable": true,
    "slideshow": {
     "slide_type": "notes"
    },
    "tags": []
   },
   "source": [
    "# Pause"
   ]
  },
  {
   "cell_type": "code",
   "execution_count": 15,
   "id": "67e95ad0-c88d-4c6b-8613-c6d21332f9da",
   "metadata": {
    "editable": true,
    "slideshow": {
     "slide_type": "fragment"
    },
    "tags": []
   },
   "outputs": [
    {
     "name": "stdout",
     "output_type": "stream",
     "text": [
      "CELL: 4, mat: 0, DENS: None\n",
      "4 0 -104 103 -106 105 -102 101 IMP:n=1.0 \n"
     ]
    }
   ],
   "source": [
    "# make the cell\n",
    "unit_cell = montepy.Cell()\n",
    "# request a new number and append\n",
    "unit_cell.number = problem.cells.request_number()\n",
    "#define geometry\n",
    "unit_cell.geometry  = -right_surf & +left_surf\n",
    "unit_cell.geometry &= -y_top_surf & +y_bot_surf\n",
    "unit_cell.geometry &= -z_top_surf & +z_bot_surf\n",
    "# set importance\n",
    "unit_cell.importance.neutron = 1.0\n",
    "print(unit_cell)\n",
    "print(unit_cell.mcnp_str())"
   ]
  },
  {
   "cell_type": "code",
   "execution_count": 16,
   "id": "d07478aa-9525-4036-a4d6-d904556027a0",
   "metadata": {
    "editable": true,
    "slideshow": {
     "slide_type": ""
    },
    "tags": []
   },
   "outputs": [],
   "source": [
    "problem.cells.append(unit_cell)"
   ]
  },
  {
   "cell_type": "markdown",
   "id": "e13a9146-f658-4817-9f1b-ec9af352f9ec",
   "metadata": {
    "editable": true,
    "slideshow": {
     "slide_type": "slide"
    },
    "tags": []
   },
   "source": [
    "# Set the Unit Cell Lattice and Fill information\n",
    "\n",
    "## Defining a lattice unit Cell in MCNP\n",
    "\n",
    "1. Need a void (there are exemptions) cell to be the unit cell\n",
    "2. That unit cell needs to be `fill`ed with the universe that will make up that unit cell\n",
    "3. The unit cell has to have a `lat`tice type defined\n",
    "4. The unit cell needs to be placed in its own universe\n",
    "     * This isn't always strictly necessary but allows you to avoid making infinite lattices"
   ]
  },
  {
   "cell_type": "markdown",
   "id": "1ab433f7-a09f-4fac-93d4-586273f42fe8",
   "metadata": {
    "editable": true,
    "slideshow": {
     "slide_type": "fragment"
    },
    "tags": []
   },
   "source": [
    "# Tools you will need from MontePy\n",
    "* Will use the [`Cell.lattice_type`](https://www.montepy.org/en/stable/api/montepy.cell.html#montepy.cell.Cell.lattice_type), [`cell.universe`](https://www.montepy.org/en/stable/api/montepy.cell.html#montepy.cell.Cell.universe), and [`Cell.fill`](https://www.montepy.org/en/stable/api/montepy.data_inputs.fill.html#montepy.data_inputs.fill.Fill) properties\n",
    "    * `Cell.lattice` requires a `LatticeType` enum instance which is accessible as `montepy.LatticeType`\n",
    "    * `Cell.fill` is a bitt more complicated because there are multiple options for `Fill`\n",
    "    * For now we will only be using [`Cell.fill.universe`](https://www.montepy.org/en/stable/api/montepy.data_inputs.fill.html#montepy.data_inputs.fill.Fill.universe)\n",
    "* Need to assign to another universe, which will fill the assembly"
   ]
  },
  {
   "cell_type": "markdown",
   "id": "b10ad713-a7e0-4118-875e-3b73dc4acd5a",
   "metadata": {
    "editable": true,
    "slideshow": {
     "slide_type": "notes"
    },
    "tags": []
   },
   "source": [
    "# Pause"
   ]
  },
  {
   "cell_type": "code",
   "execution_count": 19,
   "id": "dd3a2339-03f4-4bf4-845e-90a0bcc522a2",
   "metadata": {
    "editable": true,
    "slideshow": {
     "slide_type": "fragment"
    },
    "tags": []
   },
   "outputs": [],
   "source": [
    "unit_cell.lattice_type = montepy.LatticeType.HEXAHEDRAL\n",
    "unit_cell.fill.universe = universe\n",
    "\n",
    "# Task: assign to own universe\n",
    "lat_universe = None\n",
    "\n",
    "# Task: Either set the unit_cell's universe to 'lat_universe', or claim the unit cell from the lat_universe\n",
    "lat_universe"
   ]
  },
  {
   "cell_type": "code",
   "execution_count": 18,
   "id": "dcd819fe-15c5-4466-8689-11ff8243ab65",
   "metadata": {
    "editable": true,
    "slideshow": {
     "slide_type": ""
    },
    "tags": []
   },
   "outputs": [
    {
     "ename": "TypeError",
     "evalue": "object being appended must be of type: <class 'montepy.universe.Universe'>",
     "output_type": "error",
     "traceback": [
      "\u001b[0;31m---------------------------------------------------------------------------\u001b[0m",
      "\u001b[0;31mTypeError\u001b[0m                                 Traceback (most recent call last)",
      "Cell \u001b[0;32mIn[18], line 1\u001b[0m\n\u001b[0;32m----> 1\u001b[0m \u001b[43mproblem\u001b[49m\u001b[38;5;241;43m.\u001b[39;49m\u001b[43muniverses\u001b[49m\u001b[38;5;241;43m.\u001b[39;49m\u001b[43mappend\u001b[49m\u001b[43m(\u001b[49m\u001b[43mlat_universe\u001b[49m\u001b[43m)\u001b[49m\n",
      "File \u001b[0;32m~/python/demo-montepy/demos/montepy/numbered_object_collection.py:580\u001b[0m, in \u001b[0;36mNumberedObjectCollection.append\u001b[0;34m(self, obj, **kwargs)\u001b[0m\n\u001b[1;32m    565\u001b[0m \u001b[38;5;250m\u001b[39m\u001b[38;5;124;03m\"\"\"Appends the given object to the end of this collection.\u001b[39;00m\n\u001b[1;32m    566\u001b[0m \n\u001b[1;32m    567\u001b[0m \u001b[38;5;124;03mParameters\u001b[39;00m\n\u001b[0;32m   (...)\u001b[0m\n\u001b[1;32m    577\u001b[0m \u001b[38;5;124;03m    if this object has a number that is already in use.\u001b[39;00m\n\u001b[1;32m    578\u001b[0m \u001b[38;5;124;03m\"\"\"\u001b[39;00m\n\u001b[1;32m    579\u001b[0m \u001b[38;5;28;01mif\u001b[39;00m \u001b[38;5;129;01mnot\u001b[39;00m \u001b[38;5;28misinstance\u001b[39m(obj, \u001b[38;5;28mself\u001b[39m\u001b[38;5;241m.\u001b[39m_obj_class):\n\u001b[0;32m--> 580\u001b[0m     \u001b[38;5;28;01mraise\u001b[39;00m \u001b[38;5;167;01mTypeError\u001b[39;00m(\u001b[38;5;124mf\u001b[39m\u001b[38;5;124m\"\u001b[39m\u001b[38;5;124mobject being appended must be of type: \u001b[39m\u001b[38;5;132;01m{\u001b[39;00m\u001b[38;5;28mself\u001b[39m\u001b[38;5;241m.\u001b[39m_obj_class\u001b[38;5;132;01m}\u001b[39;00m\u001b[38;5;124m\"\u001b[39m)\n\u001b[1;32m    581\u001b[0m \u001b[38;5;28mself\u001b[39m\u001b[38;5;241m.\u001b[39m__internal_append(obj, \u001b[38;5;241m*\u001b[39m\u001b[38;5;241m*\u001b[39mkwargs)\n",
      "\u001b[0;31mTypeError\u001b[0m: object being appended must be of type: <class 'montepy.universe.Universe'>"
     ]
    }
   ],
   "source": [
    "problem.universes.append(lat_universe)"
   ]
  },
  {
   "cell_type": "markdown",
   "id": "9c3759dd-bdfb-4067-aa08-37161296c62e",
   "metadata": {
    "editable": true,
    "slideshow": {
     "slide_type": "slide"
    },
    "tags": []
   },
   "source": [
    "# Step 3.1 Create bounding box of lattice\n",
    "* Need to constrain lattice to not be infinite\n",
    "* Use [clone](https://www.montepy.org/en/stable/api/montepy.surfaces.surface.html#montepy.surfaces.surface.Surface.clone) for x and y planes\n",
    "   \n",
    " \n"
   ]
  },
  {
   "cell_type": "markdown",
   "id": "ddc28025-ab8c-47a9-a812-49e03b5bb929",
   "metadata": {
    "editable": false,
    "slideshow": {
     "slide_type": "fragment"
    },
    "tags": []
   },
   "source": [
    "## Goals\n",
    "1. Make a new bounding cell\n",
    "1. assign number, and append\n",
    "1. define geometry\n",
    "    1. clone surfaces\n",
    "    1. Update side locations (keep bottom left corner the same though)\n",
    "    1. define geometry\n",
    "1. Fill with lattice universe"
   ]
  },
  {
   "cell_type": "markdown",
   "id": "0cb8dad8-760f-4ace-b17e-c999934fc6fb",
   "metadata": {
    "editable": true,
    "slideshow": {
     "slide_type": "notes"
    },
    "tags": []
   },
   "source": [
    "# Pause"
   ]
  },
  {
   "cell_type": "code",
   "execution_count": 24,
   "id": "24c5e077-a2dd-4a65-975d-b95f0ded3432",
   "metadata": {},
   "outputs": [],
   "source": [
    "# Create the new cell\n",
    "lattice_bound = montepy.Cell()\n",
    "lattice_bound.number = problem.cells.request_number()"
   ]
  },
  {
   "cell_type": "code",
   "execution_count": 25,
   "id": "0775e5fb-a4f1-45e7-9d25-567202137f32",
   "metadata": {
    "editable": true,
    "slideshow": {
     "slide_type": "subslide"
    },
    "tags": []
   },
   "outputs": [
    {
     "ename": "TypeError",
     "evalue": "geometry must be of type: <class 'montepy.surfaces.half_space.HalfSpace'>\n\nError came from CELL: 7, mat: 0, DENS: None from an unknown file.",
     "output_type": "error",
     "traceback": [
      "\u001b[0;31m---------------------------------------------------------------------------\u001b[0m",
      "\u001b[0;31mTypeError\u001b[0m                                 Traceback (most recent call last)",
      "Cell \u001b[0;32mIn[25], line 14\u001b[0m\n\u001b[1;32m     12\u001b[0m \u001b[38;5;66;03m# Task: define the LATTICE region\u001b[39;00m\n\u001b[1;32m     13\u001b[0m geom  \u001b[38;5;241m=\u001b[39m \u001b[38;5;28;01mNone\u001b[39;00m\n\u001b[0;32m---> 14\u001b[0m \u001b[43mlattice_bound\u001b[49m\u001b[38;5;241;43m.\u001b[39;49m\u001b[43mgeometry\u001b[49m \u001b[38;5;241m=\u001b[39m geom\n\u001b[1;32m     16\u001b[0m \u001b[38;5;66;03m# fill\u001b[39;00m\n\u001b[1;32m     17\u001b[0m lattice_bound\u001b[38;5;241m.\u001b[39mfill\u001b[38;5;241m.\u001b[39muniverse \u001b[38;5;241m=\u001b[39m lat_universe\n",
      "File \u001b[0;32m~/python/demo-montepy/demos/montepy/mcnp_object.py:50\u001b[0m, in \u001b[0;36m_ExceptionContextAdder._wrap_attr_call.<locals>.wrapped\u001b[0;34m(*args, **kwargs)\u001b[0m\n\u001b[1;32m     48\u001b[0m \u001b[38;5;28mself\u001b[39m\u001b[38;5;241m.\u001b[39m_handling_exception \u001b[38;5;241m=\u001b[39m \u001b[38;5;28;01mTrue\u001b[39;00m\n\u001b[1;32m     49\u001b[0m \u001b[38;5;28;01mtry\u001b[39;00m:\n\u001b[0;32m---> 50\u001b[0m     \u001b[43madd_line_number_to_exception\u001b[49m\u001b[43m(\u001b[49m\u001b[43me\u001b[49m\u001b[43m,\u001b[49m\u001b[43m \u001b[49m\u001b[38;5;28;43mself\u001b[39;49m\u001b[43m)\u001b[49m\n\u001b[1;32m     51\u001b[0m \u001b[38;5;28;01mfinally\u001b[39;00m:\n\u001b[1;32m     52\u001b[0m     \u001b[38;5;28;01mdel\u001b[39;00m \u001b[38;5;28mself\u001b[39m\u001b[38;5;241m.\u001b[39m_handling_exception\n",
      "File \u001b[0;32m~/python/demo-montepy/demos/montepy/errors.py:225\u001b[0m, in \u001b[0;36madd_line_number_to_exception\u001b[0;34m(error, broken_robot)\u001b[0m\n\u001b[1;32m    223\u001b[0m \u001b[38;5;66;03m# avoid calling this n times recursively\u001b[39;00m\n\u001b[1;32m    224\u001b[0m \u001b[38;5;28;01mif\u001b[39;00m \u001b[38;5;28mhasattr\u001b[39m(error, \u001b[38;5;124m\"\u001b[39m\u001b[38;5;124mmontepy_handled\u001b[39m\u001b[38;5;124m\"\u001b[39m):\n\u001b[0;32m--> 225\u001b[0m     \u001b[38;5;28;01mraise\u001b[39;00m error\n\u001b[1;32m    226\u001b[0m error\u001b[38;5;241m.\u001b[39mmontepy_handled \u001b[38;5;241m=\u001b[39m \u001b[38;5;28;01mTrue\u001b[39;00m\n\u001b[1;32m    227\u001b[0m args \u001b[38;5;241m=\u001b[39m error\u001b[38;5;241m.\u001b[39margs\n",
      "File \u001b[0;32m~/python/demo-montepy/demos/montepy/mcnp_object.py:42\u001b[0m, in \u001b[0;36m_ExceptionContextAdder._wrap_attr_call.<locals>.wrapped\u001b[0;34m(*args, **kwargs)\u001b[0m\n\u001b[1;32m     39\u001b[0m \u001b[38;5;129m@functools\u001b[39m\u001b[38;5;241m.\u001b[39mwraps(func)\n\u001b[1;32m     40\u001b[0m \u001b[38;5;28;01mdef\u001b[39;00m \u001b[38;5;21mwrapped\u001b[39m(\u001b[38;5;241m*\u001b[39margs, \u001b[38;5;241m*\u001b[39m\u001b[38;5;241m*\u001b[39mkwargs):\n\u001b[1;32m     41\u001b[0m     \u001b[38;5;28;01mtry\u001b[39;00m:\n\u001b[0;32m---> 42\u001b[0m         \u001b[38;5;28;01mreturn\u001b[39;00m \u001b[43mfunc\u001b[49m\u001b[43m(\u001b[49m\u001b[38;5;241;43m*\u001b[39;49m\u001b[43margs\u001b[49m\u001b[43m,\u001b[49m\u001b[43m \u001b[49m\u001b[38;5;241;43m*\u001b[39;49m\u001b[38;5;241;43m*\u001b[39;49m\u001b[43mkwargs\u001b[49m\u001b[43m)\u001b[49m\n\u001b[1;32m     43\u001b[0m     \u001b[38;5;28;01mexcept\u001b[39;00m \u001b[38;5;167;01mException\u001b[39;00m \u001b[38;5;28;01mas\u001b[39;00m e:\n\u001b[1;32m     44\u001b[0m         \u001b[38;5;28;01mif\u001b[39;00m \u001b[38;5;28mlen\u001b[39m(args) \u001b[38;5;241m>\u001b[39m \u001b[38;5;241m0\u001b[39m \u001b[38;5;129;01mand\u001b[39;00m \u001b[38;5;28misinstance\u001b[39m(args[\u001b[38;5;241m0\u001b[39m], MCNP_Object):\n",
      "File \u001b[0;32m~/python/demo-montepy/demos/montepy/mcnp_object.py:146\u001b[0m, in \u001b[0;36mMCNP_Object.__setattr__\u001b[0;34m(self, key, value)\u001b[0m\n\u001b[1;32m    144\u001b[0m     descriptor \u001b[38;5;241m=\u001b[39m \u001b[38;5;28mgetattr\u001b[39m(\u001b[38;5;28mtype\u001b[39m(\u001b[38;5;28mself\u001b[39m), key)\n\u001b[1;32m    145\u001b[0m     \u001b[38;5;28;01mif\u001b[39;00m \u001b[38;5;28misinstance\u001b[39m(descriptor, \u001b[38;5;28mproperty\u001b[39m):\n\u001b[0;32m--> 146\u001b[0m         \u001b[43mdescriptor\u001b[49m\u001b[38;5;241;43m.\u001b[39;49m\u001b[38;5;21;43m__set__\u001b[39;49m\u001b[43m(\u001b[49m\u001b[38;5;28;43mself\u001b[39;49m\u001b[43m,\u001b[49m\u001b[43m \u001b[49m\u001b[43mvalue\u001b[49m\u001b[43m)\u001b[49m\n\u001b[1;32m    147\u001b[0m         \u001b[38;5;28;01mreturn\u001b[39;00m\n\u001b[1;32m    148\u001b[0m \u001b[38;5;66;03m# handle _private second\u001b[39;00m\n",
      "File \u001b[0;32m~/python/demo-montepy/demos/montepy/mcnp_object.py:50\u001b[0m, in \u001b[0;36m_ExceptionContextAdder._wrap_attr_call.<locals>.wrapped\u001b[0;34m(*args, **kwargs)\u001b[0m\n\u001b[1;32m     48\u001b[0m \u001b[38;5;28mself\u001b[39m\u001b[38;5;241m.\u001b[39m_handling_exception \u001b[38;5;241m=\u001b[39m \u001b[38;5;28;01mTrue\u001b[39;00m\n\u001b[1;32m     49\u001b[0m \u001b[38;5;28;01mtry\u001b[39;00m:\n\u001b[0;32m---> 50\u001b[0m     \u001b[43madd_line_number_to_exception\u001b[49m\u001b[43m(\u001b[49m\u001b[43me\u001b[49m\u001b[43m,\u001b[49m\u001b[43m \u001b[49m\u001b[38;5;28;43mself\u001b[39;49m\u001b[43m)\u001b[49m\n\u001b[1;32m     51\u001b[0m \u001b[38;5;28;01mfinally\u001b[39;00m:\n\u001b[1;32m     52\u001b[0m     \u001b[38;5;28;01mdel\u001b[39;00m \u001b[38;5;28mself\u001b[39m\u001b[38;5;241m.\u001b[39m_handling_exception\n",
      "File \u001b[0;32m~/python/demo-montepy/demos/montepy/errors.py:249\u001b[0m, in \u001b[0;36madd_line_number_to_exception\u001b[0;34m(error, broken_robot)\u001b[0m\n\u001b[1;32m    247\u001b[0m args \u001b[38;5;241m=\u001b[39m (message,) \u001b[38;5;241m+\u001b[39m args[\u001b[38;5;241m1\u001b[39m:]\n\u001b[1;32m    248\u001b[0m error\u001b[38;5;241m.\u001b[39margs \u001b[38;5;241m=\u001b[39m args\n\u001b[0;32m--> 249\u001b[0m \u001b[38;5;28;01mraise\u001b[39;00m error\u001b[38;5;241m.\u001b[39mwith_traceback(trace)\n",
      "File \u001b[0;32m~/python/demo-montepy/demos/montepy/mcnp_object.py:42\u001b[0m, in \u001b[0;36m_ExceptionContextAdder._wrap_attr_call.<locals>.wrapped\u001b[0;34m(*args, **kwargs)\u001b[0m\n\u001b[1;32m     39\u001b[0m \u001b[38;5;129m@functools\u001b[39m\u001b[38;5;241m.\u001b[39mwraps(func)\n\u001b[1;32m     40\u001b[0m \u001b[38;5;28;01mdef\u001b[39;00m \u001b[38;5;21mwrapped\u001b[39m(\u001b[38;5;241m*\u001b[39margs, \u001b[38;5;241m*\u001b[39m\u001b[38;5;241m*\u001b[39mkwargs):\n\u001b[1;32m     41\u001b[0m     \u001b[38;5;28;01mtry\u001b[39;00m:\n\u001b[0;32m---> 42\u001b[0m         \u001b[38;5;28;01mreturn\u001b[39;00m \u001b[43mfunc\u001b[49m\u001b[43m(\u001b[49m\u001b[38;5;241;43m*\u001b[39;49m\u001b[43margs\u001b[49m\u001b[43m,\u001b[49m\u001b[43m \u001b[49m\u001b[38;5;241;43m*\u001b[39;49m\u001b[38;5;241;43m*\u001b[39;49m\u001b[43mkwargs\u001b[49m\u001b[43m)\u001b[49m\n\u001b[1;32m     43\u001b[0m     \u001b[38;5;28;01mexcept\u001b[39;00m \u001b[38;5;167;01mException\u001b[39;00m \u001b[38;5;28;01mas\u001b[39;00m e:\n\u001b[1;32m     44\u001b[0m         \u001b[38;5;28;01mif\u001b[39;00m \u001b[38;5;28mlen\u001b[39m(args) \u001b[38;5;241m>\u001b[39m \u001b[38;5;241m0\u001b[39m \u001b[38;5;129;01mand\u001b[39;00m \u001b[38;5;28misinstance\u001b[39m(args[\u001b[38;5;241m0\u001b[39m], MCNP_Object):\n",
      "File \u001b[0;32m~/python/demo-montepy/demos/montepy/utilities.py:177\u001b[0m, in \u001b[0;36mmake_prop_pointer.<locals>.decorator.<locals>.setter\u001b[0;34m(self, value)\u001b[0m\n\u001b[1;32m    175\u001b[0m     types \u001b[38;5;241m=\u001b[39m \u001b[38;5;28mtype\u001b[39m(\u001b[38;5;28mself\u001b[39m)\n\u001b[1;32m    176\u001b[0m \u001b[38;5;28;01mif\u001b[39;00m \u001b[38;5;129;01mnot\u001b[39;00m \u001b[38;5;28misinstance\u001b[39m(value, types):\n\u001b[0;32m--> 177\u001b[0m     \u001b[38;5;28;01mraise\u001b[39;00m \u001b[38;5;167;01mTypeError\u001b[39;00m(\u001b[38;5;124mf\u001b[39m\u001b[38;5;124m\"\u001b[39m\u001b[38;5;132;01m{\u001b[39;00mfunc\u001b[38;5;241m.\u001b[39m\u001b[38;5;18m__name__\u001b[39m\u001b[38;5;132;01m}\u001b[39;00m\u001b[38;5;124m must be of type: \u001b[39m\u001b[38;5;132;01m{\u001b[39;00mtypes\u001b[38;5;132;01m}\u001b[39;00m\u001b[38;5;124m\"\u001b[39m)\n\u001b[1;32m    178\u001b[0m \u001b[38;5;28;01mif\u001b[39;00m base_type \u001b[38;5;129;01mis\u001b[39;00m \u001b[38;5;129;01mnot\u001b[39;00m \u001b[38;5;28;01mNone\u001b[39;00m \u001b[38;5;129;01mand\u001b[39;00m \u001b[38;5;129;01mnot\u001b[39;00m \u001b[38;5;28misinstance\u001b[39m(value, base_type):\n\u001b[1;32m    179\u001b[0m     value \u001b[38;5;241m=\u001b[39m base_type(value)\n",
      "\u001b[0;31mTypeError\u001b[0m: geometry must be of type: <class 'montepy.surfaces.half_space.HalfSpace'>\n\nError came from CELL: 7, mat: 0, DENS: None from an unknown file."
     ]
    }
   ],
   "source": [
    "# clone surfaces\n",
    "outer_right_surf = right_surf.clone()\n",
    "outer_left_surf = left_surf.clone()\n",
    "outer_y_top = y_top_surf.clone()\n",
    "outer_y_bot = y_bot_surf.clone()\n",
    "\n",
    "# Task: shift locations\n",
    "edge_shift = 0.0  # Calculate where the LATTICE edge needs to be now, in cm\n",
    "outer_right_surf.location = -PIN_PITCH/2.0 + edge_shift\n",
    "outer_y_top.location      = -PIN_PITCH/2.0 + edge_shift\n",
    "\n",
    "# Task: define the LATTICE region from the 4 outer surfaces\n",
    "lattice_bound.geometry = None\n",
    "\n",
    "# fill\n",
    "lattice_bound.fill.universe = lat_universe"
   ]
  },
  {
   "cell_type": "code",
   "execution_count": null,
   "id": "f6346d65-3b64-42b2-a648-e3d7614725b8",
   "metadata": {},
   "outputs": [],
   "source": [
    "problem.cells.append(lattice_bound)"
   ]
  },
  {
   "cell_type": "markdown",
   "id": "8caa2669-81eb-4074-9d0f-437293dec0f7",
   "metadata": {
    "editable": true,
    "slideshow": {
     "slide_type": "slide"
    },
    "tags": []
   },
   "source": [
    "# Step 3.1.2: Avoid coincident surfaces\n",
    "\n",
    "* Right now the lattice bounding cell, and the water in the cell use the same surfaces.\n",
    "* This can lead to geometry errors.\n",
    "* We will just update the unit cell's water to be an infinite region, which gets truncated.\n",
    "\n"
   ]
  },
  {
   "cell_type": "markdown",
   "id": "cd4bd80e-995d-49d2-bb55-32d9dec5a2a9",
   "metadata": {
    "editable": true,
    "slideshow": {
     "slide_type": "fragment"
    },
    "tags": []
   },
   "source": [
    "## Steps to accomplish this:\n",
    "1. Grab the largest cylinder `CZ` surface\n",
    "2. Grab the water cell\n",
    "3. Set the water cell to only be outside said cylinder"
   ]
  },
  {
   "cell_type": "markdown",
   "id": "075efab9-097c-4d37-adb5-854bbf095c7d",
   "metadata": {
    "editable": true,
    "slideshow": {
     "slide_type": "notes"
    },
    "tags": []
   },
   "source": [
    "# Pause"
   ]
  },
  {
   "cell_type": "code",
   "execution_count": 26,
   "id": "ba4a51ec-b3d3-42f9-b706-41d0a8e82b4e",
   "metadata": {
    "editable": true,
    "slideshow": {
     "slide_type": "fragment"
    },
    "tags": []
   },
   "outputs": [
    {
     "name": "stdout",
     "output_type": "stream",
     "text": [
      "c water cell\n",
      "5    2  -0.740    3 imp:n=1 \n"
     ]
    }
   ],
   "source": [
    "# provided\n",
    "cyl_sorter = lambda surf: surf.radius\n",
    "water_cyl = max(problem.surfaces.cz, key=cyl_sorter)\n",
    "\n",
    "# grab water cell\n",
    "water_mat = list(problem.materials.get_containing_all(\"H\", \"O\"))[0]\n",
    "water_cell = list(water_mat.cells)[0]\n",
    "water_cell.geometry = +water_cyl\n",
    "print(water_cell.mcnp_str())"
   ]
  },
  {
   "cell_type": "markdown",
   "id": "2b30e954-6f99-4b5a-9ee0-05722e936e66",
   "metadata": {
    "editable": true,
    "slideshow": {
     "slide_type": "slide"
    },
    "tags": []
   },
   "source": [
    "# Step 3.2: Finish the assembly\n",
    "* Now we have a 17$\\times$17 grid of fuel pins, however this isn't an assembly yet.\n",
    "   1. extra water around edge of assembly\n",
    "   2. Need reflective boundaries for $k_\\infty$"
   ]
  },
  {
   "cell_type": "markdown",
   "id": "8dc54f24-2778-4669-ad07-da6191c9eec9",
   "metadata": {
    "editable": true,
    "slideshow": {
     "slide_type": "fragment"
    },
    "tags": []
   },
   "source": [
    "# Find Perimeter width\n",
    "1. Calculate amount of extra width around the pins\n",
    "2. Divide by two to get width of perimeter\n",
    "3. [Round](https://numpy.org/doc/stable//reference/generated/numpy.round.html) to 5 decimal places"
   ]
  },
  {
   "cell_type": "code",
   "execution_count": 28,
   "id": "a326bcc9-d4ba-42eb-9b89-063822b59fbb",
   "metadata": {
    "editable": true,
    "slideshow": {
     "slide_type": "fragment"
    },
    "tags": []
   },
   "outputs": [
    {
     "data": {
      "text/plain": [
       "np.float64(0.04)"
      ]
     },
     "execution_count": 28,
     "metadata": {},
     "output_type": "execute_result"
    }
   ],
   "source": [
    "extra_width = ASSEMBLY_PITCH - NUM_PINS_SIDE * PIN_PITCH\n",
    "perimeter = np.round(extra_width / 2, 5)\n",
    "perimeter"
   ]
  },
  {
   "cell_type": "markdown",
   "id": "3fb8e136-ba01-428a-a1f4-b57c8738b98a",
   "metadata": {
    "editable": true,
    "slideshow": {
     "slide_type": "slide"
    },
    "tags": []
   },
   "source": [
    "# Make Cell and new Surfaces\n",
    "1. Clone previous x, y surfaces\n",
    "2. Shift surfaces out (`+=` and `-=` are your friends)\n",
    "3. Set surfaces as reflecting\n",
    "4. make new cell (remember to carve out the `lattice_bound` cell)"
   ]
  },
  {
   "cell_type": "markdown",
   "id": "7c902779-88d3-4470-ae0b-9aaca24d2dcc",
   "metadata": {
    "editable": true,
    "slideshow": {
     "slide_type": "notes"
    },
    "tags": []
   },
   "source": [
    "# Pause"
   ]
  },
  {
   "cell_type": "code",
   "execution_count": 33,
   "id": "9c6e5046-82f6-4e79-836a-488c5ce53455",
   "metadata": {
    "editable": true,
    "slideshow": {
     "slide_type": "subslide"
    },
    "tags": []
   },
   "outputs": [],
   "source": [
    "# Create the outer perimeter water cell\n",
    "perimeter_water = montepy.Cell()\n",
    "perimeter_water.number = problem.cells.request_number()\n",
    "perimeter_water.material = water_mat\n",
    "perimeter_water.mass_density = 1.0\n",
    "\n",
    "edge_right = outer_right_surf.clone()\n",
    "edge_left = outer_left_surf.clone()\n",
    "edge_y_top = outer_y_top.clone()\n",
    "edge_y_bot = outer_y_bot.clone()\n",
    "\n",
    "# shift in +y, +x\n",
    "for surf in [edge_right, edge_y_top]:\n",
    "    surf.location += perimeter\n",
    "    surf.is_reflecting = True\n",
    "\n",
    "# shift in -y, -x\n",
    "for surf in [edge_left, edge_y_bot]:\n",
    "    surf.location -= perimeter\n",
    "    surf.is_reflecting = True"
   ]
  },
  {
   "cell_type": "code",
   "execution_count": null,
   "id": "a154bd67-c67b-4a18-90ce-072123799672",
   "metadata": {},
   "outputs": [],
   "source": [
    "# Now set the geometry of the outer water perimeter\n",
    "perimeter_water.geometry  = +edge_left  & -edge_right\n",
    "perimeter_water.geometry &= -edge_y_top & +edge_y_bot\n",
    "perimeter_water.geometry &= +z_bot_surf & -z_top_surf\n",
    "# Task: Put the perimeter water outside the lattice edges\n",
    "perimeter_water.geometry &= None\n",
    "print(repr(perimeter_water))"
   ]
  },
  {
   "cell_type": "code",
   "execution_count": null,
   "id": "b0e01557-89b9-43b2-be64-ee54a2956edc",
   "metadata": {
    "editable": true,
    "slideshow": {
     "slide_type": ""
    },
    "tags": []
   },
   "outputs": [],
   "source": [
    "problem.cells.append(perimeter_water)"
   ]
  },
  {
   "cell_type": "markdown",
   "id": "ce8309a6-8738-42ab-9f91-5be4d25f713b",
   "metadata": {
    "editable": true,
    "slideshow": {
     "slide_type": "slide"
    },
    "tags": []
   },
   "source": [
    "# Fixing Cell Importances\n",
    "\n",
    "* Have added multiple new cells with default importance of 0.0 \n",
    "* Would lead to problems.\n",
    "* Want to set importance to 1.0 everywhere.\n",
    "* Use [`MCNP_Problem.cells.set_equal_importance()`](https://www.montepy.org/en/stable/api/montepy.cells.html#montepy.cells.Cells.set_equal_importance)"
   ]
  },
  {
   "cell_type": "markdown",
   "id": "58606a61-0ebe-422b-beb3-b64e1334a2db",
   "metadata": {
    "editable": true,
    "slideshow": {
     "slide_type": "notes"
    },
    "tags": []
   },
   "source": [
    "# Pause"
   ]
  },
  {
   "cell_type": "code",
   "execution_count": null,
   "id": "66895d78-b74e-4f1c-a9b4-ac371cdbf645",
   "metadata": {
    "editable": true,
    "slideshow": {
     "slide_type": "fragment"
    },
    "tags": []
   },
   "outputs": [],
   "source": [
    "problem.cells.set_equal_importance(1.0)\n",
    "print([cell.importance.neutron for cell in problem.cells])"
   ]
  },
  {
   "cell_type": "markdown",
   "id": "d83e28af-4e19-441b-8798-ba7f70a3466d",
   "metadata": {
    "editable": true,
    "slideshow": {
     "slide_type": "slide"
    },
    "tags": []
   },
   "source": [
    "# Write it out to file"
   ]
  },
  {
   "cell_type": "code",
   "execution_count": null,
   "id": "dde60e9b-c591-46e8-a45d-26ddfcc4b015",
   "metadata": {
    "editable": true,
    "slideshow": {
     "slide_type": ""
    },
    "tags": []
   },
   "outputs": [],
   "source": [
    "problem.write_problem(\"models/oops_all_pins.imcnp\", overwrite=True)"
   ]
  },
  {
   "cell_type": "markdown",
   "id": "67ec68fb-a6ad-46c8-8db1-94df41756cee",
   "metadata": {
    "editable": true,
    "slideshow": {
     "slide_type": "slide"
    },
    "tags": []
   },
   "source": [
    "# Results: Plot\n",
    "\n",
    "## Questions?\n",
    "![plot of a westinghouse 17 by 17 fuel assembly but with only fuel assemblies.](figs/all_pins.png)"
   ]
  }
 ],
 "metadata": {
  "kernelspec": {
   "display_name": "Python 3 (ipykernel)",
   "language": "python",
   "name": "python3"
  },
  "language_info": {
   "codemirror_mode": {
    "name": "ipython",
    "version": 3
   },
   "file_extension": ".py",
   "mimetype": "text/x-python",
   "name": "python",
   "nbconvert_exporter": "python",
   "pygments_lexer": "ipython3",
   "version": "3.12.7"
  }
 },
 "nbformat": 4,
 "nbformat_minor": 5
}
