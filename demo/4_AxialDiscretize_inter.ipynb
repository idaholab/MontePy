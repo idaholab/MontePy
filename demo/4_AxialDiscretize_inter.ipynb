{
 "cells": [
  {
   "cell_type": "markdown",
   "id": "cf1dab12-a744-442c-8979-90fd4733dad2",
   "metadata": {
    "editable": true,
    "slideshow": {
     "slide_type": "slide"
    },
    "tags": []
   },
   "source": [
    "# Adding Axial Realism\n",
    "* Up to this point all models were 1.26 cm tall with reflective boundaries\n",
    "* Great for rough $k_\\infty$, but not a useful $k_\\infty$\n",
    "* Lacks axial buckling, which may be of interest\n",
    "\n"
   ]
  },
  {
   "cell_type": "markdown",
   "id": "9117357c-f1ca-4b36-b20c-0242b3eeb50d",
   "metadata": {
    "editable": true,
    "slideshow": {
     "slide_type": "slide"
    },
    "tags": []
   },
   "source": [
    "## Goals\n",
    "* Make assembly realistic\n",
    "    * Expand to full assembly height\n",
    "    * Add water reflectors at top and bottom\n",
    "    * Remove axial reflective boundaries\n",
    "    * Add Vacuum boundary cells\n",
    "* Discretize axially\n",
    "    * shrink lattice unit cell axially\n",
    "    * repeat lattice axially\n",
    "* Update `ksrc` to be physically possible"
   ]
  },
  {
   "cell_type": "markdown",
   "id": "97b18af2-7b6d-4e81-b1f9-8edb7696a12d",
   "metadata": {
    "editable": true,
    "slideshow": {
     "slide_type": "slide"
    },
    "tags": []
   },
   "source": [
    "# Starting\n",
    "\n",
    "* Load solution model `models/w17_17_kinf_ans.imcnp`: or, use your own from the previous exercise."
   ]
  },
  {
   "cell_type": "code",
   "execution_count": null,
   "id": "917e4b0e-6f85-42f9-a4d4-53a6883cee1b",
   "metadata": {
    "editable": true,
    "slideshow": {
     "slide_type": ""
    },
    "tags": []
   },
   "outputs": [],
   "source": [
    "import montepy\n",
    "import numpy as np\n",
    "from IPython.display import IFrame\n",
    "import warnings\n",
    "\n",
    "problem = montepy.read_input(\"models/w17_17_k_inf_ans.imcnp\")\n",
    "warnings.simplefilter(\"ignore\", montepy.errors.LineExpansionWarning)"
   ]
  },
  {
   "cell_type": "markdown",
   "id": "0439f3ae-85fd-4d54-94da-3afce3450935",
   "metadata": {
    "editable": true,
    "slideshow": {
     "slide_type": "slide"
    },
    "tags": []
   },
   "source": [
    "# Step 1: Update Axial Limits\n",
    "## Step 1.1 Grab PZ planes\n",
    "* Need to Grab the only two `PZ` surfaces in the model for update\n",
    "* Fuel rod height: 384.70 cm<sup>1</sup>\n",
    "* Can sort the surfaces by `surf.location` using [`sorted`](https://docs.python.org/3/library/functions.html#sorted) with `key`\n",
    "\n",
    "<sup>1</sup> N. E. Horelik et al., \"Benchmark for Evaluation and Validation of Reactor Simulations (BEAVRS),\" presented at the Int. Conf. Mathematics and Computational Methods Applied to Nuc. Sci. & Eng., Sun Valley, Idaho, 2013."
   ]
  },
  {
   "cell_type": "code",
   "execution_count": null,
   "id": "471b511b-856f-4ecb-931b-7eb37c17128b",
   "metadata": {
    "editable": true,
    "slideshow": {
     "slide_type": "fragment"
    },
    "tags": []
   },
   "outputs": [],
   "source": [
    "FUEL_ROD_HEIGHT = 384.70  # [cm]\n",
    "WATER_DENSITY = 0.74  # [g/cm3]\n",
    "sort_key = lambda s: s.location"
   ]
  },
  {
   "cell_type": "markdown",
   "id": "d6ad637d-d7d2-44ad-8bed-b752bfbca56e",
   "metadata": {
    "editable": true,
    "slideshow": {
     "slide_type": "notes"
    },
    "tags": []
   },
   "source": [
    "# Task: Sort the Z-Planes by \"location\"."
   ]
  },
  {
   "cell_type": "code",
   "execution_count": null,
   "id": "2ff59761-697d-48f5-b6a4-ede086df0dfb",
   "metadata": {
    "editable": true,
    "scrolled": true,
    "slideshow": {
     "slide_type": "fragment"
    },
    "tags": []
   },
   "outputs": [],
   "source": [
    "# Task: Find 'pzs', the list of planes sorted from low to high.\n",
    "pzs = None\n",
    "#\n",
    "bot = pzs[0]\n",
    "top = pzs[-1]\n",
    "print(repr(bot))\n",
    "print(repr(top))"
   ]
  },
  {
   "cell_type": "markdown",
   "id": "8a066d11-b246-47d7-b8ee-a41a208d756d",
   "metadata": {
    "editable": true,
    "slideshow": {
     "slide_type": "slide"
    },
    "tags": []
   },
   "source": [
    "# Step 1.2 Update height.\n",
    "\n",
    "1. Move datum to be at bottom of fuel pins\n",
    "    * Set bottom plane to location of `0.0`\n",
    "2. Move top to be the proper height\n",
    "3. disable `is_reflecting`"
   ]
  },
  {
   "cell_type": "code",
   "execution_count": null,
   "id": "fca05d26-f5b0-4d60-a104-992c5c52d32b",
   "metadata": {
    "editable": true,
    "slideshow": {
     "slide_type": "fragment"
    },
    "tags": []
   },
   "outputs": [],
   "source": [
    "for surf in [bot, top]:\n",
    "    surf.is_reflecting = False\n",
    "bot.location = 0.0\n",
    "top.location = FUEL_ROD_HEIGHT"
   ]
  },
  {
   "cell_type": "markdown",
   "id": "299091bc-e396-4dc1-a6a7-5bb18bb9d277",
   "metadata": {
    "editable": true,
    "slideshow": {
     "slide_type": "slide"
    },
    "tags": []
   },
   "source": [
    "# Step 2: Add water reflectors\n",
    "## Step 2.1 Get all necessary objects\n",
    "* Get water material\n",
    "* Get bounding `px`, `py`\n",
    "    * would be the only reflecting surfaces\n",
    " * Sort surfaces to get top/bottom, left/right"
   ]
  },
  {
   "cell_type": "code",
   "execution_count": null,
   "id": "701e7999-eff5-4a4f-8f43-dec3633e0fbd",
   "metadata": {
    "editable": true,
    "slideshow": {
     "slide_type": "fragment"
    },
    "tags": []
   },
   "outputs": [],
   "source": [
    "water = list(problem.materials.get_containing_all(\"H\", \"O\"))[0]\n",
    "pxs = []\n",
    "pys = []\n",
    "print(water)\n",
    "for surf in problem.surfaces.px:\n",
    "    if surf.is_reflecting:\n",
    "        pxs.append(surf)\n",
    "for surf in problem.surfaces.py:\n",
    "    if surf.is_reflecting:\n",
    "        pys.append(surf)\n",
    "# sort the surfaces\n",
    "pxs = sorted(pxs, key=sort_key)\n",
    "pys = sorted(pys, key=sort_key)\n",
    "# Get x limits\n",
    "left = pxs[0]\n",
    "right = pxs[-1]\n",
    "# get y limits\n",
    "y_bot = pys[0]\n",
    "y_top = pys[-1]\n",
    "print(pxs)\n",
    "print(pys)"
   ]
  },
  {
   "cell_type": "markdown",
   "id": "9e4ced4a-5c24-4def-9688-36bc0a8a8346",
   "metadata": {
    "editable": true,
    "slideshow": {
     "slide_type": "slide"
    },
    "tags": []
   },
   "source": [
    "# Step 2.2 Make bounding Top and Bottom surfaces\n",
    "1. clone `pz` surfaces (`top`, `bot`)\n",
    "2. Move to the appropriate location\n",
    "3. Make reflector 20 cm thick\n",
    "    * Can use `+=` and `-=` again."
   ]
  },
  {
   "cell_type": "code",
   "execution_count": null,
   "id": "2d085610-0020-4927-926b-961f6f5d5855",
   "metadata": {
    "editable": true,
    "slideshow": {
     "slide_type": "fragment"
    },
    "tags": []
   },
   "outputs": [],
   "source": [
    "outer_top = top.clone()\n",
    "outer_top.location += 20\n",
    "outer_bot = bot.clone()\n",
    "outer_bot.location -= 20\n",
    "print(repr(outer_top))\n",
    "print(repr(outer_bot))"
   ]
  },
  {
   "cell_type": "markdown",
   "id": "67ca6829-d0f5-4e3a-82e6-f6c823c14b9f",
   "metadata": {
    "editable": true,
    "slideshow": {
     "slide_type": "slide"
    },
    "tags": []
   },
   "source": [
    "# Step 2.3 Actually Make the Reflector cell\n",
    "\n",
    "* Use union `|` to make only one cell\n",
    "\n",
    "## Steps\n",
    "1. Make the cell, number it, append it\n",
    "2. Set geometry\n",
    "   * Inside of the `x`, `y` boxes\n",
    "   * either between the top reflect z-planes, or the bottom reflector z-planes\n",
    "3. Assign `water` and `WATER_DENSITY`"
   ]
  },
  {
   "cell_type": "markdown",
   "id": "f6c38a1b-d727-4788-a43d-eeb56b750b8e",
   "metadata": {
    "editable": true,
    "slideshow": {
     "slide_type": "notes"
    },
    "tags": []
   },
   "source": [
    "# Task: Build the reflector cell"
   ]
  },
  {
   "cell_type": "code",
   "execution_count": null,
   "id": "708d0f63-cd9c-49e8-9323-2e3b2ff4c211",
   "metadata": {
    "editable": true,
    "slideshow": {
     "slide_type": "fragment"
    },
    "tags": []
   },
   "outputs": [],
   "source": [
    "# Task: Create the cell\n",
    "cell = montepy.Cell(number=problem.cells.request_number())\n",
    "# Task: Specify the region using the Union operator\n",
    "cell.geometry = None\n",
    "\n",
    "# Finish up\n",
    "cell.material = water\n",
    "cell.mass_density = WATER_DENSITY\n",
    "print(cell.mcnp_str())"
   ]
  },
  {
   "cell_type": "code",
   "execution_count": null,
   "id": "ae563161-e10c-40fa-b96c-ed8d56daba58",
   "metadata": {
    "editable": true,
    "slideshow": {
     "slide_type": ""
    },
    "tags": []
   },
   "outputs": [],
   "source": [
    "problem.cells.append(cell)"
   ]
  },
  {
   "cell_type": "markdown",
   "id": "a77d46a4-7969-4ed5-b4e6-48f2d7dbbe4e",
   "metadata": {
    "editable": true,
    "slideshow": {
     "slide_type": "slide"
    },
    "tags": []
   },
   "source": [
    "# Step 3: Add vacuum boundary region.\n",
    "\n",
    "* Reminder: in MCNP vacuum boundaries are defined by cells with 0 importance\n",
    "* Will define a cell with 0 importance\n",
    "* Can be an infinite cell\n",
    "    * define as the union below the bottom, and above the top\n",
    "\n",
    "## Steps\n",
    "1. Make a cell\n",
    "2. Define it's geometry"
   ]
  },
  {
   "cell_type": "code",
   "execution_count": null,
   "id": "2e26b41b-d1e9-4955-a58f-6be6f773e9c8",
   "metadata": {
    "editable": true,
    "scrolled": true,
    "slideshow": {
     "slide_type": "fragment"
    },
    "tags": []
   },
   "outputs": [],
   "source": [
    "# Make the \"graveyard\" cell\n",
    "vacuum_cell = montepy.Cell(number=problem.cells.request_number())\n",
    "vacuum_cell.geometry = -outer_bot | +outer_top\n",
    "problem.cells.append(vacuum_cell)\n",
    "print(vacuum_cell.mcnp_str())"
   ]
  },
  {
   "cell_type": "markdown",
   "id": "adfe2ed4-e84d-477f-a37d-014f794f5e08",
   "metadata": {
    "editable": true,
    "slideshow": {
     "slide_type": "slide"
    },
    "tags": []
   },
   "source": [
    "# Step 3.2 Define cell importances\n",
    "\n",
    "* Use [`cell.set_equal_importance`](https://www.montepy.org/en/stable/api/montepy.cells.html#montepy.cells.Cells.set_equal_importance) to do this easily\n",
    "* Verify that `vacuum_cell` has an importance of 0"
   ]
  },
  {
   "cell_type": "markdown",
   "id": "5e8d868f-edd3-4dd7-b546-4e46eca3603d",
   "metadata": {
    "editable": true,
    "slideshow": {
     "slide_type": "notes"
    },
    "tags": []
   },
   "source": [
    "# Task: Set importances"
   ]
  },
  {
   "cell_type": "code",
   "execution_count": null,
   "id": "f7093c2e-9517-469c-9cbc-1cd5b4e08e7e",
   "metadata": {
    "editable": true,
    "slideshow": {
     "slide_type": "fragment"
    },
    "tags": []
   },
   "outputs": [],
   "source": [
    "# Task: Set the importance of every cell except `vacuum_cell` to 1.0\n",
    "problem.cells\n",
    "\n",
    "for cell in problem.cells:\n",
    "    print(cell.number, cell.material, cell.importance.neutron)\n",
    "assert not vacuum_cell.importance.neutron, \"The 'vacuum' cell has nonzero importance!\""
   ]
  },
  {
   "cell_type": "markdown",
   "id": "12c3baae-b3fe-4ecb-8334-ab35fe5ff12a",
   "metadata": {
    "editable": true,
    "jp-MarkdownHeadingCollapsed": true,
    "slideshow": {
     "slide_type": "slide"
    },
    "tags": []
   },
   "source": [
    "# Step 4 Discretize Fuel Axially\n",
    "\n",
    "## Steps\n",
    "1. Shrink Lattice unit cell to be less than full length\n",
    "2. Copy fill matrix multiple times to axially tile"
   ]
  },
  {
   "cell_type": "markdown",
   "id": "1ddef48d-2ce2-42f2-8019-b2431c7cbc34",
   "metadata": {
    "editable": true,
    "slideshow": {
     "slide_type": "subslide"
    },
    "tags": []
   },
   "source": [
    "# Step 4.1 Make new PZ surfaces\n",
    "* Set unit cell height so multiple axial lattices can be inserted\n",
    "  * Presenters will use 10 pellets. You may use any number you like\n",
    "\n",
    "## Steps \n",
    "1. Clone a `pz` surface\n",
    "2. Update top location"
   ]
  },
  {
   "cell_type": "code",
   "execution_count": null,
   "id": "b758a5ed-25b5-40af-acfa-9954ea6c1cda",
   "metadata": {
    "editable": true,
    "slideshow": {
     "slide_type": "fragment"
    },
    "tags": []
   },
   "outputs": [],
   "source": [
    "# Task: Reduce the height of the unit cell.\n",
    "NUM_AXIAL = None\n",
    "internal_top = top.clone()\n",
    "internal_top.location = None\n",
    "internal_bot = bot.clone()\n",
    "print(internal_top.mcnp_str())"
   ]
  },
  {
   "cell_type": "markdown",
   "id": "15869e6b-92a6-4c49-91ea-e1b9d3bea55d",
   "metadata": {
    "editable": true,
    "slideshow": {
     "slide_type": "slide"
    },
    "tags": []
   },
   "source": [
    "## Step 4.2 find Lattice Cell\n",
    "* Find cell with `lattice_type is not None`"
   ]
  },
  {
   "cell_type": "code",
   "execution_count": null,
   "id": "a50941a3-8a1c-433f-afd1-81211a3ed1c4",
   "metadata": {
    "editable": true,
    "slideshow": {
     "slide_type": "fragment"
    },
    "tags": []
   },
   "outputs": [],
   "source": [
    "for cell in problem.cells:\n",
    "    if cell.lattice_type is not None:\n",
    "        lattice_cell = cell\n",
    "        break\n",
    "print(lattice_cell)"
   ]
  },
  {
   "cell_type": "markdown",
   "id": "aa04b45b-9799-41ef-851d-e9e8e2929644",
   "metadata": {
    "editable": true,
    "slideshow": {
     "slide_type": "slide"
    },
    "tags": []
   },
   "source": [
    "# Step 4.3 Update Geometry\n",
    "* Need to have only 6 surfaces in a Hexahedra lattice\n",
    "* Hard to remove surfaces from geometry definitions\n",
    "* Recreate from scratch by iterating over the surfaces\n",
    "    * If the `PX/PY` plane locations are negative we want the `+` side, and vise versa.\n",
    "* Remember: need to list the top surface first in Z!\n",
    "* [`Cell.surfaces`](https://www.montepy.org/en/stable/api/montepy.cell.html#montepy.cell.Cell.surfaces) is ordered by the original surface order\n",
    "\n",
    "## Steps\n",
    "1. Set aside a new geometry definition\n",
    "2. Iterate over `Cell.surfaces`\n",
    "    1. Exclude surfaces we don't want\n",
    "    3. Make a half-space from surface based on sign\n",
    "    4. Either set geometry as half-space or update it (with `&=`)\n",
    "5. Add new `pz` surfaces to geometry definition\n",
    "6. Update `lattice_cell.geometry`"
   ]
  },
  {
   "cell_type": "code",
   "execution_count": null,
   "id": "82a05256-ee72-4ed5-93a1-dcf207ad0e6d",
   "metadata": {
    "editable": true,
    "slideshow": {
     "slide_type": "subslide"
    },
    "tags": []
   },
   "outputs": [],
   "source": [
    "new_geom = None\n",
    "\n",
    "for surf in lattice_cell.surfaces:\n",
    "    if surf.surface_type not in [montepy.SurfaceType.PX, montepy.SurfaceType.PY]:\n",
    "        continue\n",
    "    if surf.location < 0:\n",
    "        side = +surf\n",
    "    else:\n",
    "        side = -surf\n",
    "    if new_geom is None:\n",
    "        new_geom = side\n",
    "    else:\n",
    "        new_geom &= side\n",
    "new_geom &= -internal_top & +internal_bot\n",
    "lattice_cell.geometry = new_geom\n",
    "print(lattice_cell.mcnp_str())"
   ]
  },
  {
   "cell_type": "markdown",
   "id": "dd48702a-4296-43ce-b7a4-3c2dc74fc4f3",
   "metadata": {
    "editable": true,
    "slideshow": {
     "slide_type": "slide"
    },
    "tags": []
   },
   "source": [
    "## Step 4.4: Expand fill matrix\n",
    "* Use [numpy.repeat](https://numpy.org/doc/stable/reference/generated/numpy.repeat.html) to accomplish this.\n",
    "* Want to repeat in z, which equates to `axis=2`."
   ]
  },
  {
   "cell_type": "code",
   "execution_count": null,
   "id": "74a4aecb-d7a5-44ee-99f5-9791ff634113",
   "metadata": {
    "editable": true,
    "slideshow": {
     "slide_type": "fragment"
    },
    "tags": []
   },
   "outputs": [],
   "source": [
    "# Extrude the lattice in the z-direction by using np.repeat()\n",
    "fill_matrix = lattice_cell.fill.universes\n",
    "fill_matrix = fill_matrix.repeat(NUM_AXIAL, axis=2)\n",
    "lattice_cell.fill.universes = fill_matrix\n",
    "print(lattice_cell.fill.universes.shape)"
   ]
  },
  {
   "cell_type": "markdown",
   "id": "c758473d-ade7-4183-80b5-4f0aa6b4cab3",
   "metadata": {
    "editable": true,
    "slideshow": {
     "slide_type": "slide"
    },
    "tags": []
   },
   "source": [
    "# Step 5: Updating `ksrc`\n",
    "\n",
    "* Previously we have been using `0 0 0` as the default source position.\n",
    "* Origin is now shifted.\n",
    "* This site is on a material boundary and not possible.\n",
    "\n",
    "## Note\n",
    "--- \n",
    "* MontePy would be great for automating a reasonable `ksrc` definition\n",
    "* Not the focus of this demonstration though"
   ]
  },
  {
   "cell_type": "markdown",
   "id": "87e8f143-f2bd-4014-9275-ad9012a0890c",
   "metadata": {
    "editable": true,
    "slideshow": {
     "slide_type": "subslide"
    },
    "tags": []
   },
   "source": [
    "## Step 5.1: Find `ksrc`\n",
    "\n",
    "* More difficult to find specific data inputs that are not numbered and fully supported\n",
    "* Can use [`DataInput.prefix`](https://www.montepy.org/en/stable/api/montepy.data_inputs.data_input.html#montepy.data_inputs.data_input.DataInput.prefix)\n",
    "\n",
    "### Steps \n",
    "* Iterate over `MCNP_Problem.data_inputs`\n",
    "* Find the input with the appropriate `prefix`"
   ]
  },
  {
   "cell_type": "code",
   "execution_count": null,
   "id": "39457204-38e7-4b7e-8d46-3b292c6b8670",
   "metadata": {
    "editable": true,
    "slideshow": {
     "slide_type": "fragment"
    },
    "tags": []
   },
   "outputs": [],
   "source": [
    "for data in problem.data_inputs:\n",
    "    if data.prefix == \"ksrc\":\n",
    "        ksrc = data\n",
    "        break\n",
    "ksrc"
   ]
  },
  {
   "cell_type": "markdown",
   "id": "6c68c1da-801c-4afd-88f6-63816118050b",
   "metadata": {
    "editable": true,
    "slideshow": {
     "slide_type": "subslide"
    },
    "tags": []
   },
   "source": [
    "# Step 5.2: Update Values in `ksrc`\n",
    "* MontePy doesn't support `ksrc` fully yet.\n",
    "* Options:\n",
    "    1. Delete this input, and create a new one\n",
    "    2. Edit this in a slightly harder way using the syntax trees\n",
    "* The \"data\", the list of values after the classifier, is stored in [`DataInput.data`](https://www.montepy.org/en/stable/api/montepy.data_inputs.data_input.html#montepy.data_inputs.data_input.DataInput.data)\n",
    "* This is [`ListNode`](https://www.montepy.org/en/stable/api/montepy.input_parser.syntax_node.html#montepy.input_parser.syntax_node.ListNode) made up of [`ValueNode`](https://www.montepy.org/en/stable/api/montepy.input_parser.syntax_node.html#montepy.input_parser.syntax_node.ValueNode)s\n"
   ]
  },
  {
   "cell_type": "markdown",
   "id": "9d3e3172-7c37-4860-94c1-b50a7beca383",
   "metadata": {
    "editable": true,
    "slideshow": {
     "slide_type": "fragment"
    },
    "tags": []
   },
   "source": [
    "# Steps\n",
    "1. Find this `data` list node, and explore it\n",
    "2. Grab the last node (the z coordinate) in the list\n",
    "3. Update value to something more appropriate"
   ]
  },
  {
   "cell_type": "code",
   "execution_count": null,
   "id": "214bb97e-9a83-4fc0-8737-86988b62cafe",
   "metadata": {
    "editable": true,
    "slideshow": {
     "slide_type": "fragment"
    },
    "tags": []
   },
   "outputs": [],
   "source": [
    "data = ksrc.data\n",
    "print(data)\n",
    "z_val = data[-1]\n",
    "print(z_val)\n",
    "z_val.value = 10.0\n",
    "z_val"
   ]
  },
  {
   "cell_type": "markdown",
   "id": "b9580468-f914-4e61-9693-aeae33b34a75",
   "metadata": {
    "editable": true,
    "slideshow": {
     "slide_type": "slide"
    },
    "tags": []
   },
   "source": [
    "# Conclusion\n",
    "\n",
    "* Write to file `models/w17_17_full_height.imcnp`"
   ]
  },
  {
   "cell_type": "code",
   "execution_count": null,
   "id": "773455e1-ad63-435a-a45f-5f4ae3ee6475",
   "metadata": {
    "editable": true,
    "slideshow": {
     "slide_type": "fragment"
    },
    "tags": []
   },
   "outputs": [],
   "source": [
    "problem.write_problem(\"models/w17_17_full_height.imcnp\")"
   ]
  },
  {
   "cell_type": "markdown",
   "id": "f8b9bb08-5024-46db-8f33-adf525e68b4c",
   "metadata": {
    "editable": true,
    "slideshow": {
     "slide_type": "slide"
    },
    "tags": []
   },
   "source": [
    "# Result plots\n",
    "\n",
    "![xy slice of westinghouse 17x17](figs/w_17_17_axial_xy.png)\n",
    " * I swear this is a new plot, and not a copy from the last model"
   ]
  },
  {
   "cell_type": "markdown",
   "id": "18d82c3e-26d9-4a0e-bb06-7b86de30e5ae",
   "metadata": {
    "editable": true,
    "slideshow": {
     "slide_type": "subslide"
    },
    "tags": []
   },
   "source": [
    "# Axial slice\n",
    "\n",
    "## Questions?\n",
    "\n",
    "![Axial slice of westinghouse 17x17](figs/w17x17_axial.png)\n",
    "\n",
    "* The extent is not equal in `x` and `z`"
   ]
  }
 ],
 "metadata": {
  "kernelspec": {
   "display_name": "Python 3 (ipykernel)",
   "language": "python",
   "name": "python3"
  },
  "language_info": {
   "codemirror_mode": {
    "name": "ipython",
    "version": 3
   },
   "file_extension": ".py",
   "mimetype": "text/x-python",
   "name": "python",
   "nbconvert_exporter": "python",
   "pygments_lexer": "ipython3",
   "version": "3.12.9"
  }
 },
 "nbformat": 4,
 "nbformat_minor": 5
}
