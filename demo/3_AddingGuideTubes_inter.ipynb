{
 "cells": [
  {
   "cell_type": "markdown",
   "id": "cdec84df-9cd2-4a2b-90e6-c38797ad9d7b",
   "metadata": {
    "editable": true,
    "slideshow": {
     "slide_type": "slide"
    },
    "tags": []
   },
   "source": [
    "# Making A Realistic Fuel Assembly \n",
    "\n",
    "Previously made an \"all fuel\" W17$\\times$17 fuel assembly\n",
    "\n",
    "  ![all pins fuel assembly plot](figs/all_pins.png)\n"
   ]
  },
  {
   "cell_type": "markdown",
   "id": "91e491ca-f7fb-4509-a01c-5bcd81de3c3d",
   "metadata": {
    "editable": true,
    "slideshow": {
     "slide_type": "subslide"
    },
    "tags": []
   },
   "source": [
    "# Not realistic\n",
    "* Should have cells without fuel for\n",
    "   * Control rod guide tubes\n",
    "   * Instrumentation (e.g., fission chamber) guide tubes"
   ]
  },
  {
   "cell_type": "markdown",
   "id": "0026d929-6065-4fe6-8fd1-ba74728e0742",
   "metadata": {
    "editable": true,
    "jp-MarkdownHeadingCollapsed": true,
    "slideshow": {
     "slide_type": "slide"
    },
    "tags": []
   },
   "source": [
    "# Goals\n",
    "1. Generate guide tube and instrument cells\n",
    "2. Add said cells to own universe\n",
    "3. Setup matrix based fill\n",
    "    * Fill matrix with identical universe\n",
    "    * Add special universes for Guide tubes and instrument tubes\n",
    "4. Set importances to 1.0!\n"
   ]
  },
  {
   "cell_type": "markdown",
   "id": "cbdfe3b6-8c9e-40db-a723-588531237fe9",
   "metadata": {
    "editable": true,
    "slideshow": {
     "slide_type": "slide"
    },
    "tags": []
   },
   "source": [
    "# Assembly Layout\n",
    "\n",
    "![Pin layout of a westinghouse 17x17](figs/w17x17_layout.png)\n",
    "* Image from Horelik et al. (BEAVRS)<sup>1</sup>; use allowed under MIT license\n",
    "\n",
    "<sup>1</sup> N. E. Horelik et al., \"Benchmark for Evaluation and Validation of Reactor Simulations (BEAVRS),\" presented at the Int. Conf. Mathematics and Computational Methods Applied to Nuc. Sci. & Eng., Sun Valley, Idaho, 2013."
   ]
  },
  {
   "cell_type": "markdown",
   "id": "3ed0c7a4-bcb0-4256-8759-772fdc66503a",
   "metadata": {
    "editable": true,
    "slideshow": {
     "slide_type": "slide"
    },
    "tags": []
   },
   "source": [
    "# Start\n",
    "* Import modules\n",
    "* Read in previous model (use `models/oops_all_pins_ans.imcnp` if needed)"
   ]
  },
  {
   "cell_type": "code",
   "execution_count": null,
   "id": "0070c541-8aed-4584-b971-7f1cca13ce24",
   "metadata": {
    "editable": true,
    "slideshow": {
     "slide_type": ""
    },
    "tags": []
   },
   "outputs": [],
   "source": [
    "import montepy\n",
    "import numpy as np\n",
    "from IPython.display import IFrame\n",
    "import warnings\n",
    "\n",
    "problem = montepy.read_input(\"models/oops_all_pins_ans.imcnp\")\n",
    "warnings.simplefilter(\"ignore\", montepy.errors.LineExpansionWarning)\n",
    "warnings.simplefilter(\"ignore\", DeprecationWarning)"
   ]
  },
  {
   "cell_type": "markdown",
   "id": "a481ee31-4bfc-4292-a1c2-e99bd8776b15",
   "metadata": {
    "editable": true,
    "slideshow": {
     "slide_type": "slide"
    },
    "tags": []
   },
   "source": [
    "# Step 1.1: Create Guide Tube Unit cell\n",
    "1. Create Surfaces for the zircaloy boundaries (use cloning)\n",
    "2. Create the zircaloy cell\n",
    "3. Create the moderator cell\n",
    "4. Add to universe\n",
    "\n",
    "![Guide pin plan view](figs/guide_pin.png)\n",
    "\n",
    "* Image from BEAVRS"
   ]
  },
  {
   "cell_type": "markdown",
   "id": "bfa221d0-dae4-4834-b177-62c2cafea64e",
   "metadata": {
    "editable": true,
    "slideshow": {
     "slide_type": "slide"
    },
    "tags": []
   },
   "source": [
    "# Step 1.1.1 Make the surfaces\n",
    "\n",
    "1. Clone the cylinder\n",
    "2. Update the radius"
   ]
  },
  {
   "cell_type": "code",
   "execution_count": null,
   "id": "29069198-f792-4d6d-a5c8-891ee41f2eeb",
   "metadata": {
    "editable": true,
    "slideshow": {
     "slide_type": ""
    },
    "tags": []
   },
   "outputs": [],
   "source": [
    "GUIDE_IR = 0.56134  # [cm]\n",
    "GUIDE_OR = 0.60198  # [cm]\n",
    "ZIRCALOY_DENSITY = 6.55  # [g/cm3]\n",
    "WATER_DENSITY = 0.74  # [g/cm3]\n",
    "base_cyl = list(problem.surfaces.cz)[0]  # grabbing a cylinder to clone\n",
    "\n",
    "guide_ir_cyl = base_cyl.clone()\n",
    "guide_ir_cyl.radius = GUIDE_IR\n",
    "\n",
    "guide_or_cyl = base_cyl.clone()\n",
    "guide_or_cyl.radius = GUIDE_OR"
   ]
  },
  {
   "cell_type": "markdown",
   "id": "62ad9125-8af9-405f-9f59-1a91176ebe30",
   "metadata": {
    "editable": true,
    "slideshow": {
     "slide_type": "slide"
    },
    "tags": []
   },
   "source": [
    "# Step 1.1.2 Make the Zircaloy cell\n",
    "\n",
    "1. Make the cell\n",
    "    1. request number\n",
    "    2. append to cells\n",
    "2. Set the geometry (will be infinite in `z`)\n",
    "3. Set material and density\n",
    "    1. Find zircaloy material by its `Zr`\n",
    "\n",
    "# Step 1.1.3 Make the Moderator Cell\n",
    "1. Make the cell\n",
    "2. Define the geometry\n",
    "    * We will just complement the guide tube for simplicity (`~`)\n",
    "3. Set the material and density"
   ]
  },
  {
   "cell_type": "code",
   "execution_count": null,
   "id": "835ce9e5-bcf0-41ad-bc13-1bc8edd0114d",
   "metadata": {
    "editable": true,
    "slideshow": {
     "slide_type": "fragment"
    },
    "tags": []
   },
   "outputs": [],
   "source": [
    "guide_tube = montepy.Cell()\n",
    "guide_tube.number = problem.cells.request_number()\n",
    "problem.cells.append(guide_tube)\n",
    "# set geometry\n",
    "guide_tube.geometry = +guide_ir_cyl & -guide_or_cyl\n",
    "\n",
    "# find zircaloy\n",
    "zircaloy = list(problem.materials.get_containing_all(\"Zr\"))[0]\n",
    "# set material and density\n",
    "guide_tube.material = zircaloy\n",
    "guide_tube.mass_density = ZIRCALOY_DENSITY\n",
    "\n",
    "\n",
    "guide_mod = montepy.Cell()\n",
    "guide_mod.number = problem.cells.request_number()\n",
    "problem.cells.append(guide_mod)\n",
    "\n",
    "guide_mod.geometry = ~guide_tube\n",
    "\n",
    "# grab water\n",
    "water = list(problem.materials.get_containing_all(\"H\", \"O\"))[0]\n",
    "guide_mod.material = water\n",
    "guide_mod.mass_density = WATER_DENSITY\n"
   ]
  },
  {
   "cell_type": "markdown",
   "id": "1ca848a4-e1e6-4d44-acb6-a9899cc860e2",
   "metadata": {
    "editable": true,
    "slideshow": {
     "slide_type": "slide"
    },
    "tags": []
   },
   "source": [
    "# Step 1.1.4 Add All Cells to a Universe\n",
    "\n",
    "* Need to have a unique Universe number\n",
    "    * Use [`Universes.request_number`](https://www.montepy.org/en/stable/api/montepy.universes.html#montepy.universes.Universes.request_number) for this\n",
    "* Then [`claim`](https://www.montepy.org/en/stable/api/montepy.universe.html#montepy.universe.Universe.claim) the cells\n",
    "* Add the universe to the problem"
   ]
  },
  {
   "cell_type": "code",
   "execution_count": null,
   "id": "a055f6a6-4251-4c09-ba89-b373bf1ba940",
   "metadata": {
    "editable": true,
    "slideshow": {
     "slide_type": "fragment"
    },
    "tags": []
   },
   "outputs": [],
   "source": [
    "guide_universe = montepy.Universe(problem.universes.request_number())\n",
    "guide_universe.claim([guide_tube, guide_mod])\n",
    "problem.universes.append(guide_universe)"
   ]
  },
  {
   "cell_type": "markdown",
   "id": "a17d9772-afa6-47ef-ae0f-0e04de1c81a8",
   "metadata": {
    "editable": true,
    "slideshow": {
     "slide_type": "slide"
    },
    "tags": []
   },
   "source": [
    "# Step 1.2: Create Instrument Tube Unit cell\n",
    "1. Create Surfaces for the zircaloy boundaries (use cloning)\n",
    "2. Create air material\n",
    "3. create cells\n",
    "    1. Create the two zircaloy cell\n",
    "    5. Create the air cell\n",
    "    6. Create the moderator cell\n",
    "7. Add to universe\n",
    "\n",
    "![instrument pin plan view](figs/instrument_tube.png)\n",
    "* Figure taken from BEAVRS"
   ]
  },
  {
   "cell_type": "markdown",
   "id": "ca0183e1-f241-4233-96ec-bb0cf3e2be25",
   "metadata": {
    "editable": true,
    "slideshow": {
     "slide_type": "slide"
    },
    "tags": []
   },
   "source": [
    "# Step 1.2.1 Make the Surfaces\n",
    "* Will use an iterative design this time"
   ]
  },
  {
   "cell_type": "code",
   "execution_count": null,
   "id": "775d1b54-2d6c-494a-b98a-086156728120",
   "metadata": {
    "editable": true,
    "slideshow": {
     "slide_type": ""
    },
    "tags": []
   },
   "outputs": [],
   "source": [
    "INST_RADII = {\n",
    "    \"PV_IR\": 0.4369,\n",
    "    \"PV_OR\": 0.4839,\n",
    "    \"TUBE_IR\": 0.56134,\n",
    "    \"TUBE_OR\": 0.6020,\n",
    "}  # [cm]\n",
    "\n",
    "inst_cyls = {}\n",
    "for cyl_name, cyl_radius in INST_RADII.items():\n",
    "    cyl = base_cyl.clone()\n",
    "    cyl.radius = cyl_radius\n",
    "    inst_cyls[cyl_name] = cyl"
   ]
  },
  {
   "cell_type": "markdown",
   "id": "082fb269-2d3a-4a78-8e4e-843a94878117",
   "metadata": {
    "editable": true,
    "slideshow": {
     "slide_type": "slide"
    },
    "tags": []
   },
   "source": [
    "# Step 1.2.2 Make Air material\n",
    "* data taken from BEAVRS\n",
    "* Given nuclide, atomic density mapping from reference"
   ]
  },
  {
   "cell_type": "code",
   "execution_count": null,
   "id": "c7212fb7-d498-4145-a12a-0a97edc7523e",
   "metadata": {
    "editable": true,
    "slideshow": {
     "slide_type": ""
    },
    "tags": []
   },
   "outputs": [],
   "source": [
    "AIR_DENSITY = 0.00616  # [g/cm3]\n",
    "air_comp = {\n",
    "    \"Ar-36\": 7.8730e-09,\n",
    "    \"Ar-38\": 1.4844e-09,\n",
    "    \"Ar-40\": 2.3506e-06,\n",
    "    \"C-12\": 6.7539e-08,\n",
    "    \"C-13\": 7.5658e-10,\n",
    "    \"N-14\": 1.9680e-04,\n",
    "    \"N-15\": 7.2354e-07,\n",
    "    \"O-16\": 5.2866e-05,\n",
    "    \"O-17\": 2.0084e-08,\n",
    "    \"O-18\": 1.0601e-07,\n",
    "}  # data are in a/b-cm\n",
    "\n",
    "NOT_IN_ENDF_VII = {\"O-18\"}"
   ]
  },
  {
   "cell_type": "markdown",
   "id": "d4396384-687d-492d-9b60-05f73213ee61",
   "metadata": {
    "editable": true,
    "slideshow": {
     "slide_type": "subslide"
    },
    "tags": []
   },
   "source": [
    "## Need to clean up data for use with ENDF/B-VII.1\n",
    "* Has isotopic Carbon\n",
    "    * need to combine for `C-nat` in ENDF/B-VII.1\n",
    "* Has nuclides (O-18) not in ENDF/B-VII.1 \n",
    "    * need to remove them\n",
    " \n",
    "## Steps\n",
    "1. Remove `NOT_IN_ENDF_VII` from `air_comp`\n",
    "2. iterate over the dictionary with [`items`](https://docs.python.org/3/tutorial/datastructures.html)\n",
    "   1. Note which nuclides are carbon\n",
    "   2. add up the total atomic density of carbon\n",
    "3. Delete all carbon nuclides from `air_comp`\n",
    "4. Add elemental carbon to `air_comp`"
   ]
  },
  {
   "cell_type": "code",
   "execution_count": null,
   "id": "76aaf806-0155-4bc1-a53f-4c8726a13c47",
   "metadata": {
    "editable": true,
    "slideshow": {
     "slide_type": "subslide"
    },
    "tags": []
   },
   "outputs": [],
   "source": [
    "# remove extra nuclides\n",
    "for bad_nuclide in NOT_IN_ENDF_VII:\n",
    "    del air_comp[bad_nuclide]\n",
    "    \n",
    "# find Carbon nuclides:\n",
    "carbon_nuclides = set()\n",
    "carbon_frac = 0.0\n",
    "for nuclide, fraction in air_comp.items():\n",
    "    if \"C-\" in nuclide:\n",
    "        carbon_nuclides.add(nuclide)\n",
    "        carbon_frac += fraction\n",
    "\n",
    "for nuclide in carbon_nuclides:\n",
    "    del air_comp[nuclide]\n",
    "\n",
    "air_comp[\"C-0\"] = carbon_frac\n",
    "air_comp"
   ]
  },
  {
   "cell_type": "markdown",
   "id": "7ab5a3bb-a90e-46c4-addd-54b96f5b8d09",
   "metadata": {
    "editable": true,
    "slideshow": {
     "slide_type": "subslide"
    },
    "tags": []
   },
   "source": [
    "# Make the Material now\n",
    "\n",
    "* Use library `82c` with all nuclides\n",
    "\n",
    "## Steps\n",
    "1. Make the material (and append it)\n",
    "2. Add all components from `air_comp`\n",
    "    * see [`add_nuclide`](https://www.montepy.org/en/stable/api/montepy.data_inputs.material.html#montepy.data_inputs.material.Material.add_nuclide)\n",
    "3. [Renormalize](https://www.montepy.org/en/stable/api/montepy.data_inputs.material.html#montepy.data_inputs.material.Material.normalize) the composition\n",
    "    * This is a matter of personal preference"
   ]
  },
  {
   "cell_type": "code",
   "execution_count": null,
   "id": "54aa32ee-3db4-452a-affb-6aa6e102548d",
   "metadata": {
    "editable": true,
    "slideshow": {
     "slide_type": "fragment"
    },
    "tags": []
   },
   "outputs": [],
   "source": [
    "air_mat = montepy.Material(number=problem.materials.request_number())\n",
    "problem.materials.append(air_mat)\n",
    "\n",
    "# add the nuclides from the dictionary\n",
    "for nuclide, fraction in air_comp.items():\n",
    "    air_mat.add_nuclide(f\"{nuclide}.82c\", fraction)\n",
    "\n",
    "# renormalize\n",
    "air_mat.normalize()\n",
    "print(air_mat)\n",
    "air_mat"
   ]
  },
  {
   "cell_type": "markdown",
   "id": "53776259-aaa3-402c-a090-891570ad68fc",
   "metadata": {
    "editable": true,
    "slideshow": {
     "slide_type": "slide"
    },
    "tags": []
   },
   "source": [
    "# Step 1.2.3 Make the cells\n",
    "\n",
    "* Will use an iterative approach again\n",
    "* A for loop will be given to help you\n",
    "* Steps\n",
    "    1. Make cell\n",
    "    2. add to problem\n",
    "    3. assign material\n",
    "    4. assign density\n",
    "    5. assign geometry\n",
    "    6. append to list"
   ]
  },
  {
   "cell_type": "code",
   "execution_count": null,
   "id": "28780343-7b27-49fb-a2d8-9295be361562",
   "metadata": {
    "editable": true,
    "slideshow": {
     "slide_type": ""
    },
    "tags": []
   },
   "outputs": [],
   "source": [
    "# define the cells by their material and density\n",
    "inst_materials = [\n",
    "    # Material   Density\n",
    "    (air_mat,  AIR_DENSITY),\n",
    "    (zircaloy, ZIRCALOY_DENSITY),\n",
    "    (water,    WATER_DENSITY),\n",
    "    (zircaloy, ZIRCALOY_DENSITY),\n",
    "    (water,    WATER_DENSITY),\n",
    "]"
   ]
  },
  {
   "cell_type": "markdown",
   "id": "621b3461-af23-421f-97fd-7c3eb604e7c6",
   "metadata": {
    "editable": true,
    "slideshow": {
     "slide_type": "slide"
    },
    "tags": []
   },
   "source": [
    "## Make the cells\n",
    "* Steps\n",
    "    1. Make cell\n",
    "    2. add to problem\n",
    "    3. assign material\n",
    "    4. assign density\n",
    "    5. assign geometry\n",
    "    6. append to list"
   ]
  },
  {
   "cell_type": "markdown",
   "id": "7decb6c7-6e23-4056-b5da-4dfc3a8e5a26",
   "metadata": {
    "editable": true,
    "slideshow": {
     "slide_type": "notes"
    },
    "tags": []
   },
   "source": [
    "# Task: Create the 5 cells for the instrument tube"
   ]
  },
  {
   "cell_type": "code",
   "execution_count": null,
   "id": "4bf78433-76e1-4ce2-9bb9-b313925f5077",
   "metadata": {
    "editable": true,
    "slideshow": {
     "slide_type": "fragment"
    },
    "tags": []
   },
   "outputs": [],
   "source": [
    "# Task: Use the 'for' loop to \n",
    "inst_cells = []\n",
    "for (mat, density), inner_rad, outer_rad in zip(\n",
    "    inst_materials, [None] + list(inst_cyls.values()), list(inst_cyls.values()) + [None]\n",
    "):\n",
    "    print(mat, density, inner_rad, outer_rad)\n",
    "    # Make a new cell\n",
    "    cell = montepy.Cell(number=problem.cells.request_number())\n",
    "    # Then set the material, density, and geometry\n",
    "    cell.material = None\n",
    "    cell.mass_density = None\n",
    "    cell.geometry = None\n",
    "    # When ready\n",
    "    print(cell)\n",
    "    # inst_cells.append(cell)"
   ]
  },
  {
   "cell_type": "code",
   "execution_count": null,
   "id": "87ed2b86-48e8-4774-b9f6-620213326ff8",
   "metadata": {},
   "outputs": [],
   "source": [
    "problem.cells.extend(inst_cells)"
   ]
  },
  {
   "cell_type": "markdown",
   "id": "a88cae8d-330f-4980-bce4-9ac2d049fe95",
   "metadata": {
    "editable": true,
    "slideshow": {
     "slide_type": "slide"
    },
    "tags": []
   },
   "source": [
    "# Step 1.2.4 Move All Cells to Own Universe\n",
    "\n",
    "## steps\n",
    "1. Make the universe\n",
    "2. Claim all relevant cells"
   ]
  },
  {
   "cell_type": "code",
   "execution_count": null,
   "id": "9f61f2ef-7874-4f5f-8936-1eec601ea94f",
   "metadata": {
    "editable": true,
    "slideshow": {
     "slide_type": "fragment"
    },
    "tags": []
   },
   "outputs": [],
   "source": [
    "inst_universe = montepy.Universe(problem.universes.request_number())\n",
    "inst_universe.claim(inst_cells)\n",
    "problem.universes.append(inst_universe)\n",
    "inst_universe"
   ]
  },
  {
   "cell_type": "markdown",
   "id": "d3fceed7-5e17-48ba-99c3-3faba3d1d079",
   "metadata": {
    "editable": true,
    "slideshow": {
     "slide_type": "slide"
    },
    "tags": []
   },
   "source": [
    "# Step 3 Setup multi-universe matrix fill\n",
    "1. Grab lattice filled cell\n",
    "2. Make matrix of universes\n",
    "3. Add guide and instrument pins"
   ]
  },
  {
   "cell_type": "markdown",
   "id": "f7a88642-3a7f-493a-97f2-4d93c6735bd3",
   "metadata": {
    "editable": true,
    "slideshow": {
     "slide_type": "slide"
    },
    "tags": []
   },
   "source": [
    "# Step 3.1 Grab Lattice fill cell and the fuel universe\n",
    "* It is the only cell with a non-None `cell.lattice`."
   ]
  },
  {
   "cell_type": "code",
   "execution_count": null,
   "id": "2aa26f0c-e656-4e55-af48-7ea0e66f5ca1",
   "metadata": {
    "editable": true,
    "scrolled": true,
    "slideshow": {
     "slide_type": "fragment"
    },
    "tags": []
   },
   "outputs": [],
   "source": [
    "for cell in problem.cells:\n",
    "    if cell.lattice is not None:\n",
    "        lattice_cell = cell\n",
    "        break\n",
    "print(lattice_cell)\n",
    "fuel_universe = problem.universes[100]\n",
    "print(fuel_universe)"
   ]
  },
  {
   "cell_type": "markdown",
   "id": "0995d353-2f6f-4349-9fe5-9a278cf9ce3d",
   "metadata": {
    "editable": true,
    "slideshow": {
     "slide_type": "slide"
    },
    "tags": []
   },
   "source": [
    "# Step 3.3 Make a universe Matrix\n",
    "* Need a 17$\\times$17$\\times$1 array of universes\n",
    "* Use `numpy.full` to build this"
   ]
  },
  {
   "cell_type": "code",
   "execution_count": null,
   "id": "b165b8a2-01ec-4218-8ae5-b307328b62bf",
   "metadata": {
    "editable": true,
    "scrolled": true,
    "slideshow": {
     "slide_type": ""
    },
    "tags": []
   },
   "outputs": [],
   "source": [
    "IFrame(\"https://numpy.org/doc/stable/reference/generated/numpy.full.html\", 800, 600)"
   ]
  },
  {
   "cell_type": "code",
   "execution_count": null,
   "id": "f3a7cc31-9436-41e5-9af4-e26ccf8260de",
   "metadata": {
    "editable": true,
    "slideshow": {
     "slide_type": "fragment"
    },
    "tags": []
   },
   "outputs": [],
   "source": [
    "fill_matrix = np.full((17, 17, 1), fuel_universe)\n",
    "print(fill_matrix.shape)\n",
    "print(\"Preview:\")\n",
    "print(fill_matrix[:3, :3, 0])"
   ]
  },
  {
   "cell_type": "markdown",
   "id": "3242df6a-c3f8-4a20-842b-0a7b55b8d5be",
   "metadata": {
    "editable": true,
    "slideshow": {
     "slide_type": "slide"
    },
    "tags": []
   },
   "source": [
    "# Step 4: Add guide and Instrument Tubes\n",
    "* Just need to change a few elements of the matrix now.\n",
    "* Assembly has 8 fold rotational symmetry\n",
    "* a 4-fold symmetry preserving function is provided\n",
    "   * Implementing 8-fold symmetry is an exercise left to the reader"
   ]
  },
  {
   "cell_type": "code",
   "execution_count": null,
   "id": "568c7898-a87a-4cec-8bfd-0325d7310489",
   "metadata": {
    "editable": true,
    "slideshow": {
     "slide_type": "subslide"
    },
    "tags": []
   },
   "outputs": [],
   "source": [
    "def set_w17_17_universe(uni_matrix, universe, x_idx, y_idx):\n",
    "    \"\"\"\n",
    "    Sets the given index in the matrix to the given universe while also preserving 4-fold rotational symmetry.\n",
    "\n",
    "    Parameters\n",
    "    ----------\n",
    "    uni_matrix: numpy.ndarray\n",
    "        The 3d array of universes representing pin cells in a W17x17\n",
    "    universe: montepy.Universe\n",
    "        The universe to fill in at the given index\n",
    "    x_idx: int\n",
    "        The index in the x dimension of the cell to fill with the given universe. (0,0) is bottom left corner\n",
    "    y_idx: int\n",
    "        the index in the y dimension of the cell to fill with the given universe.\n",
    "    \"\"\"\n",
    "    SYMM_OFFSET = 8\n",
    "    x_offset = SYMM_OFFSET - x_idx\n",
    "    y_offset = SYMM_OFFSET - y_idx\n",
    "    for x_mult, y_mult in [(0, 0), (0, 1), (1, 0), (1, 1)]:\n",
    "        new_x = (x_idx + 2 * x_mult * x_offset) % 17\n",
    "        new_y = (y_idx + 2 * y_mult * y_offset) % 17\n",
    "        uni_matrix[new_x, new_y, 0] = universe"
   ]
  },
  {
   "cell_type": "markdown",
   "id": "b1793bab-cec0-4b6f-98ed-f091a986f3ff",
   "metadata": {
    "editable": true,
    "slideshow": {
     "slide_type": "slide"
    },
    "tags": []
   },
   "source": [
    "# Step 4.1 Set the Instrument Tube\n",
    "\n",
    "* Update `fill_matrix` with `inst_universe`\n",
    "\n",
    "![w17x17 layout positions with instrument tube in 8,8](figs/w17x17_layout_labeled.png)\n",
    "* base figure from BEAVRS; poorly formatted numbers added by Micah\n",
    "\n",
    "* Reminder we used `inst_universe`"
   ]
  },
  {
   "cell_type": "markdown",
   "id": "86677797-c818-4c89-a374-35be6e2fb5be",
   "metadata": {
    "editable": true,
    "slideshow": {
     "slide_type": "notes"
    },
    "tags": []
   },
   "source": [
    "# Task: Place the instrument tube in the lattice."
   ]
  },
  {
   "cell_type": "code",
   "execution_count": null,
   "id": "d39be417-9f8b-414c-92f1-7e9941be7599",
   "metadata": {
    "editable": true,
    "slideshow": {
     "slide_type": "fragment"
    },
    "tags": []
   },
   "outputs": [],
   "source": [
    "# Task: place an individual instrument tube in the center.\n",
    "x = None\n",
    "y = None\n",
    "if x is not None and y is not None:\n",
    "    fill_matrix[x, y, 0] = inst_universe"
   ]
  },
  {
   "cell_type": "markdown",
   "id": "9a8aa5df-3143-4c00-8066-0468894e5ba5",
   "metadata": {
    "editable": true,
    "jp-MarkdownHeadingCollapsed": true,
    "slideshow": {
     "slide_type": "slide"
    },
    "tags": []
   },
   "source": [
    "# Step 4.2 Set the Guide Tubes \n",
    "\n",
    "* Update `fill_matrix` with `guide_universe`\n",
    "\n",
    "![w17x17 layout positions with guide tubes at (3,3), (5,2), (5,5), (2,5), (8,2), (8,5), (2,8), (5,8)](figs/w17x17_layout_labeled.png)\n",
    "* base figure from BEAVRS; poorly formatted numbers added by Micah\n",
    "\n",
    "## Steps\n",
    "* Call `set_w17_17_universe` for each guide tube position in the lower left quadrant\n",
    "* reminder we used `guide_universe`"
   ]
  },
  {
   "cell_type": "markdown",
   "id": "b83a9e7d-1a01-41ee-b343-c139b795773b",
   "metadata": {
    "editable": true,
    "slideshow": {
     "slide_type": "notes"
    },
    "tags": []
   },
   "source": [
    "# Task: Replace some of the Fuel universes with Guide Tube universes"
   ]
  },
  {
   "cell_type": "code",
   "execution_count": null,
   "id": "d1d28f84-5687-4f29-8210-f154fa5a34db",
   "metadata": {
    "editable": true,
    "slideshow": {
     "slide_type": "fragment"
    },
    "tags": []
   },
   "outputs": [],
   "source": [
    "# Task: Place the guide tubes into the lattice.\n",
    "# Use the BEAVRS illustration for inspiration, or make your own design!\n",
    "# Extra credit: write your own set_w17_17_universe() to use octant symmetry, which will require only 5 pairs.\n",
    "quadrant_pairs = [\n",
    "    # Pick any quadrant and populate the 8 (x, y) pairs\n",
    "]\n",
    "for x, y in quadrant_pairs:\n",
    "    set_w17_17_universe(fill_matrix, guide_universe, x, y)"
   ]
  },
  {
   "cell_type": "markdown",
   "id": "ba8e7def-d64e-4b46-b2a4-5cbcd1306b36",
   "metadata": {
    "editable": true,
    "slideshow": {
     "slide_type": "slide"
    },
    "tags": []
   },
   "source": [
    "# Step 4.3 Set lattice cell fill with this matrix\n",
    "* Set in [`cell.fill`](https://www.montepy.org/en/stable/api/montepy.cell.html#montepy.cell.Cell.fill)\n",
    "* Use [`Fill.multiple_universes`](https://www.montepy.org/en/stable/api/montepy.data_inputs.fill.html#montepy.data_inputs.fill.Fill.multiple_universes), and [`Fill.universes`](https://www.montepy.org/en/stable/api/montepy.data_inputs.fill.html#montepy.data_inputs.fill.Fill.universes)"
   ]
  },
  {
   "cell_type": "code",
   "execution_count": null,
   "id": "1075919c-9aab-4dc4-ab1a-e6bac3fd1342",
   "metadata": {},
   "outputs": [],
   "source": [
    "?lattice_cell.fill\n",
    "#help(lattice_cell.fill)"
   ]
  },
  {
   "cell_type": "code",
   "execution_count": null,
   "id": "0181444e-a18e-473a-9e68-4ed8ac33b99e",
   "metadata": {
    "editable": true,
    "slideshow": {
     "slide_type": "fragment"
    },
    "tags": []
   },
   "outputs": [],
   "source": [
    "lattice_cell.fill.multiple_universes = True\n",
    "lattice_cell.fill.universes = fill_matrix"
   ]
  },
  {
   "cell_type": "markdown",
   "id": "e49dbc44-10ec-4276-8362-e20e3376c86e",
   "metadata": {
    "editable": true,
    "slideshow": {
     "slide_type": "slide"
    },
    "tags": []
   },
   "source": [
    "# Step 5: Update importances\n",
    "\n",
    "* Once again the cell default importance is `0.0`\n",
    "* Update all importances to be `1.0`\n",
    "* use [`Cells.set_equal_importance`](https://www.montepy.org/en/stable/api/montepy.cells.html#montepy.cells.Cells.set_equal_importance)\n",
    "\n",
    "**Note:** The MontePy docs use the term \"vacuum\" cell to refer to a zero-importance cell, which immediately kills the particle in MCNP. This is not the same as a \"void\" cell."
   ]
  },
  {
   "cell_type": "code",
   "execution_count": null,
   "id": "e47d3e7f-32c3-4737-b30f-4b1e3dbcdcb1",
   "metadata": {
    "editable": true,
    "slideshow": {
     "slide_type": "fragment"
    },
    "tags": []
   },
   "outputs": [],
   "source": [
    "# Task: Set the importance of every cell to 1.0\n",
    "?problem.cells.set_equal_importance\n",
    "# Extra credit: set the importance of the instrumentation to zero (total absorption)"
   ]
  },
  {
   "cell_type": "markdown",
   "id": "e9ad9e26-cd27-4d93-8893-a3f111d56879",
   "metadata": {
    "editable": true,
    "slideshow": {
     "slide_type": "slide"
    },
    "tags": []
   },
   "source": [
    "# Conclusion\n",
    "\n",
    "* Write out to file `models/w17_17_k_inf.imcnp`"
   ]
  },
  {
   "cell_type": "code",
   "execution_count": null,
   "id": "2e527806-8695-48f3-b675-b24cbb5941ad",
   "metadata": {
    "editable": true,
    "slideshow": {
     "slide_type": ""
    },
    "tags": []
   },
   "outputs": [],
   "source": [
    "problem.write_problem(\"models/w17_17_k_inf.imcnp\", overwrite=True)"
   ]
  },
  {
   "cell_type": "markdown",
   "id": "a0fd6a36-f2ce-4821-b61f-d6bf0738258b",
   "metadata": {
    "editable": true,
    "slideshow": {
     "slide_type": "slide"
    },
    "tags": []
   },
   "source": [
    "# Results: Plots\n",
    "\n",
    "![overall westinghouse 17x17 fuel assembly plot](figs/w17x17_plot.png)"
   ]
  },
  {
   "cell_type": "markdown",
   "id": "218b32c7-0e12-4330-94df-07d125ed705f",
   "metadata": {
    "editable": true,
    "slideshow": {
     "slide_type": "subslide"
    },
    "tags": []
   },
   "source": [
    "## Instrument Cell\n",
    "\n",
    "![a focus on the instrument pin cell](figs/w17x17_instrument.png)"
   ]
  },
  {
   "cell_type": "markdown",
   "id": "cab54982-a97b-4b44-a081-ac1ec89c3266",
   "metadata": {
    "editable": true,
    "slideshow": {
     "slide_type": "subslide"
    },
    "tags": []
   },
   "source": [
    "# Guide Tube Cell\n",
    "\n",
    "## Questions?\n",
    "\n",
    "![A focused view of the a guide tube](figs/w17x17_guide.png)"
   ]
  }
 ],
 "metadata": {
  "kernelspec": {
   "display_name": "Python 3 (ipykernel)",
   "language": "python",
   "name": "python3"
  },
  "language_info": {
   "codemirror_mode": {
    "name": "ipython",
    "version": 3
   },
   "file_extension": ".py",
   "mimetype": "text/x-python",
   "name": "python",
   "nbconvert_exporter": "python",
   "pygments_lexer": "ipython3",
   "version": "3.12.9"
  }
 },
 "nbformat": 4,
 "nbformat_minor": 5
}
