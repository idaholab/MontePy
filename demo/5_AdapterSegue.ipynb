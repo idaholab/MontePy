{
 "cells": [
  {
   "cell_type": "markdown",
   "id": "f4f5561d-b05a-44c8-bf80-3a51300a1cc6",
   "metadata": {},
   "source": [
    "# Plotting\n",
    "\n",
    "Start by loading our last model:"
   ]
  },
  {
   "cell_type": "code",
   "execution_count": null,
   "id": "30ac228a-5f6d-49ab-8c9f-9a87ae3b911a",
   "metadata": {},
   "outputs": [],
   "source": [
    "import montepy\n",
    "import openmc\n",
    "import openmc_mcnp_adapter.openmc_conversion\n",
    "from IPython.display import IFrame\n",
    "import warnings\n",
    "\n",
    "warnings.simplefilter(\"ignore\", category=ResourceWarning)\n",
    "warnings.simplefilter(\"ignore\", category=openmc.IDWarning)\n",
    "\n",
    "problem = montepy.read_input(\n",
    "    \"models/pin_cell.imcnp\"\n",
    ")  # todo: change this to last model path"
   ]
  },
  {
   "cell_type": "markdown",
   "id": "1ede9dd4-b489-4075-9e64-7fd9f38c62fd",
   "metadata": {},
   "source": [
    "## Now run MCNP with `IP` to launch the interactive plotter.\n",
    "\n",
    "Wait a minute: MCNP isn't installed on these AWS instances because it's export-controlled. If only there were an open-source particle transport code we could use instead.\n"
   ]
  },
  {
   "cell_type": "code",
   "execution_count": null,
   "id": "ae96cbd9-db51-4409-a87d-ffc3f6442fce",
   "metadata": {},
   "outputs": [],
   "source": [
    "# Convert the MCNP model we made to OpenMC.\n",
    "omodel = openmc_mcnp_adapter.openmc_conversion.mcnp_to_model(\"models/pin_cell.imcnp\")"
   ]
  },
  {
   "cell_type": "markdown",
   "id": "b65c2abb-dc88-49eb-a46e-da79f0ab5c58",
   "metadata": {},
   "source": [
    "Great: Now we have the same MCNP model in OpenMC, thanks to [MCNP Conversion Tools for OpenMC](https://github.com/openmc-dev/openmc_mcnp_adapter)!"
   ]
  },
  {
   "cell_type": "markdown",
   "id": "bd85e568-bbae-45f9-9257-cfb15264dcfc",
   "metadata": {},
   "source": [
    "# MCNP Conversion Tools for OpenMC\n",
    "\n",
    "[![License](https://img.shields.io/badge/license-MIT-green)](https://opensource.org/licenses/MIT)\n",
    "\n",
    "This repository provides tools for parsing/converting MCNP models to OpenMC\n",
    "classes and/or XML files. To install these tools, run:\n",
    "\n",
    "    python -m pip install git+https://github.com/openmc-dev/openmc_mcnp_adapter.git\n",
    "\n",
    "This makes the `openmc_mcnp_adapter` Python module and `mcnp_to_openmc` console\n",
    "script available. To convert an MCNP model, run:\n",
    "\n",
    "    mcnp_to_openmc mcnp_input\n",
    "\n",
    "## Disclaimer\n",
    "\n",
    "There has been no methodical V&V on this converter; use at your own risk!\n",
    "\n",
    "## Known Limitations\n",
    "\n",
    "The converter currently only handles geometry and material information; source\n",
    "definition (SDEF) and tally specifications are ignored.\n",
    "\n",
    "The converter will try to set surface boundary conditions to match the MCNP\n",
    "model, but in many cases it doesn't work cleanly. For these cases, you will need\n",
    "to manually set boundary conditions on the outermost surfaces.\n",
    "\n",
    "Some geometry features are not currently supported:\n",
    "\n",
    "- Periodic boundary conditions\n",
    "- `X`, `Y`, and `Z` surfaces with 1 or 3 coordinate pairs\n",
    "- `RHP`, `REC`, `ELL`, `WED`, and `ARB` macrobodies\n",
    "- Hexagonal lattices\n",
    "- One-dimensional lattices\n",
    "- Two-dimensional lattices with basis other than x-y\n",
    "- `U`, `LAT`, and `FILL` cards specified in the data card block\n"
   ]
  },
  {
   "cell_type": "code",
   "execution_count": null,
   "id": "44972a0c-576a-4398-a542-e087deca93f9",
   "metadata": {},
   "outputs": [],
   "source": [
    "# Now, let's explore the model a little bit.\n",
    "?omodel"
   ]
  },
  {
   "cell_type": "code",
   "execution_count": null,
   "id": "1953786f-862f-4a40-8a8a-79e70beb4cac",
   "metadata": {},
   "outputs": [],
   "source": [
    "# Let's look at Cell 1 and Material 1 in the MCNP model\n",
    "mcnp_cells = problem.cells\n",
    "print(f\"MCNP Cell:\\n{mcnp_cells[1]}\\n\")\n",
    "mcnp_mats = problem.materials\n",
    "print(f\"MCNP Material:\\n{mcnp_mats[1]}\")\n",
    "for nuc, frac in mcnp_mats[1]:\n",
    "    print(nuc, frac)"
   ]
  },
  {
   "cell_type": "code",
   "execution_count": null,
   "id": "0d57385c-9d40-4081-9d9e-981860b4a7a5",
   "metadata": {},
   "outputs": [],
   "source": [
    "# Let's look at Cell 1 and Material 1 in the OpenMC model\n",
    "openmc_cells = omodel.geometry.get_all_cells()\n",
    "print(f\"OpenMC Cell:\\n{openmc_cells[1]}\")\n",
    "openmc_mats = omodel.geometry.get_all_materials()\n",
    "print(f\"OpenMC Material:\\n{openmc_mats[1]}\")"
   ]
  },
  {
   "cell_type": "code",
   "execution_count": null,
   "id": "da1516a9-e281-4b52-8f26-21e15c86b918",
   "metadata": {
    "scrolled": true
   },
   "outputs": [],
   "source": [
    "# Plot the geometry using OpenMC\n",
    "omodel.plot(pixels=(900, 900))"
   ]
  },
  {
   "cell_type": "markdown",
   "id": "4190fb2a-e9c0-4234-be6a-3afb44328285",
   "metadata": {},
   "source": [
    "#### In the next section of today's workshop, we will learn how to use the state-of-the-art Monte Carlo code, OpenMC!"
   ]
  }
 ],
 "metadata": {
  "kernelspec": {
   "display_name": "Python 3 (ipykernel)",
   "language": "python",
   "name": "python3"
  },
  "language_info": {
   "codemirror_mode": {
    "name": "ipython",
    "version": 3
   },
   "file_extension": ".py",
   "mimetype": "text/x-python",
   "name": "python",
   "nbconvert_exporter": "python",
   "pygments_lexer": "ipython3",
   "version": "3.12.9"
  }
 },
 "nbformat": 4,
 "nbformat_minor": 5
}
