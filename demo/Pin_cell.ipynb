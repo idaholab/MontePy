{
 "cells": [
  {
   "cell_type": "code",
   "execution_count": null,
   "id": "828d41f1-76d8-4dd0-ae22-3b5b7952726d",
   "metadata": {},
   "outputs": [],
   "source": [
    "import montepy\n",
    "import os\n",
    "montepy.__version__"
   ]
  },
  {
   "cell_type": "code",
   "execution_count": null,
   "id": "c5d3aa79-57bf-4036-b40f-69c2f5d80dd4",
   "metadata": {},
   "outputs": [],
   "source": [
    "problem = montepy.read_input(\"pin_cell.imcnp\")"
   ]
  },
  {
   "cell_type": "code",
   "execution_count": null,
   "id": "9432edc7-1f64-4bd3-9697-84165325ed30",
   "metadata": {},
   "outputs": [],
   "source": [
    "problem"
   ]
  },
  {
   "cell_type": "code",
   "execution_count": null,
   "id": "086f6d12-8052-4b30-b39e-cc4caa6555a8",
   "metadata": {},
   "outputs": [],
   "source": [
    "problem.materials"
   ]
  },
  {
   "cell_type": "markdown",
   "id": "aa6cff1e-fe5e-4401-836a-455db3aa49eb",
   "metadata": {},
   "source": [
    "There's some issues\n",
    "==================\n",
    "\n",
    "* Density was defined wrong"
   ]
  },
  {
   "cell_type": "code",
   "execution_count": null,
   "id": "fe75b6c4-5e75-4255-8d5f-bc300342d2c1",
   "metadata": {},
   "outputs": [],
   "source": [
    "for cell in problem.cells:\n",
    "    if cell.material:\n",
    "        cell.mass_density = cell.atom_density"
   ]
  },
  {
   "cell_type": "code",
   "execution_count": null,
   "id": "192b3eca-4178-471a-af14-64d7e5734c60",
   "metadata": {},
   "outputs": [],
   "source": [
    "for cell in problem.cells:\n",
    "    print(cell)"
   ]
  },
  {
   "cell_type": "markdown",
   "id": "54111f69-8bcc-4c6b-9c34-81e4d615240e",
   "metadata": {},
   "source": [
    "Parametric Sweep\n",
    "================\n",
    "\n",
    "* We will sweep the fuel radius from 0.35 in to 0.5 in\n",
    "* We will also sweep the fuel pitch from 1 in to 1.5 in"
   ]
  },
  {
   "cell_type": "code",
   "execution_count": null,
   "id": "4cb4dfed-2fbd-4653-ad97-160ffc649af3",
   "metadata": {},
   "outputs": [],
   "source": [
    "#make folder\n",
    "os.mkdir(\"parametric\")\n",
    "\n",
    "fuel_wall = problem.surfaces[1]\n",
    "gap_wall = problem.surfaces[2]\n",
    "clad_wall = problem.surfaces[3]\n",
    "\n",
    "GAP_OFFSET = gap_wall.radius - fuel_wall.radius\n",
    "CLAD_OFFSET = clad_wall.radius - fuel_wall.radius\n",
    "\n",
    "box_walls = problem.surfaces[101:107]\n",
    "\n",
    "for pin_radius in [0.35, 0.375, 0.4, 0.425, 0.45, 0.475, 0.5]:\n",
    "    for pitch in [1.0, 1.1, 1.2, 1.3, 1.4, 1.5]:\n",
    "        fuel_wall.radius = pin_radius\n",
    "        gap_wall.radius = pin_radius + GAP_OFFSET\n",
    "        clad_wall.radius = pin_radius + CLAD_OFFSET\n",
    "        for plane in box_walls:\n",
    "            plane.location = (pitch / 2) * (-1 if plane.location < 0 else 1)\n",
    "        problem.write_to_file(f\"parametric/pin_cell_{pin_radius}r_{pitch}p.imcnp\")"
   ]
  },
  {
   "cell_type": "code",
   "execution_count": null,
   "id": "9f75012f-d2bc-40c6-9167-08205c4a2395",
   "metadata": {},
   "outputs": [],
   "source": []
  }
 ],
 "metadata": {
  "kernelspec": {
   "display_name": "Python 3 (ipykernel)",
   "language": "python",
   "name": "python3"
  },
  "language_info": {
   "codemirror_mode": {
    "name": "ipython",
    "version": 3
   },
   "file_extension": ".py",
   "mimetype": "text/x-python",
   "name": "python",
   "nbconvert_exporter": "python",
   "pygments_lexer": "ipython3",
   "version": "3.12.3"
  }
 },
 "nbformat": 4,
 "nbformat_minor": 5
}
